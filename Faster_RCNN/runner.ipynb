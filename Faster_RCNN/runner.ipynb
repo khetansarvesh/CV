{
  "cells": [
    {
      "cell_type": "markdown",
      "metadata": {
        "id": "zD6DVBF5Kve9"
      },
      "source": [
        "[![Open In Colab](https://colab.research.google.com/assets/colab-badge.svg)](https://colab.research.google.com/github/khetansarvesh/CV/blob/main/Faster_RCNN/runner.ipynb)"
      ]
    },
    {
      "cell_type": "code",
      "execution_count": null,
      "metadata": {
        "id": "exXZVJAPGQ58"
      },
      "outputs": [],
      "source": [
        "import sys\n",
        "import threading\n",
        "import argparse\n",
        "import os\n",
        "from math import ceil\n",
        "from enum import Enum\n",
        "import imageio\n",
        "from tqdm import tqdm\n",
        "import numpy as np\n",
        "import matplotlib.pyplot as plt\n",
        "from dataclasses import dataclass\n",
        "from PIL import Image\n",
        "from typing import List, Tuple\n",
        "from pathlib import Path\n",
        "import random\n",
        "import xml.etree.ElementTree as ET\n",
        "import torch as t\n",
        "from torch import nn\n",
        "from torch.nn import functional as F\n",
        "import torchvision\n",
        "!git clone https://github.com/khetansarvesh/CV.git"
      ]
    },
    {
      "cell_type": "markdown",
      "metadata": {
        "id": "tsv-kIZ5HGCE"
      },
      "source": [
        "# Dataset"
      ]
    },
    {
      "cell_type": "code",
      "execution_count": null,
      "metadata": {
        "colab": {
          "base_uri": "https://localhost:8080/",
          "height": 232
        },
        "id": "2L-ZJsjzHYjZ",
        "outputId": "3062fc91-d731-4903-f625-43cbadaac2a1"
      },
      "outputs": [
        {
          "name": "stdout",
          "output_type": "stream",
          "text": [
            "--2024-03-13 15:18:41--  http://host.robots.ox.ac.uk/pascal/VOC/voc2007/VOCtrainval_06-Nov-2007.tar\n",
            "Resolving host.robots.ox.ac.uk (host.robots.ox.ac.uk)... 129.67.94.152\n",
            "Connecting to host.robots.ox.ac.uk (host.robots.ox.ac.uk)|129.67.94.152|:80... connected.\n",
            "HTTP request sent, awaiting response... 200 OK\n",
            "Length: 460032000 (439M) [application/x-tar]\n",
            "Saving to: ‘VOCtrainval_06-Nov-2007.tar’\n",
            "\n",
            "VOCtrainval_06-Nov- 100%[===================>] 438.72M  15.4MB/s    in 41s     \n",
            "\n",
            "2024-03-13 15:19:23 (10.7 MB/s) - ‘VOCtrainval_06-Nov-2007.tar’ saved [460032000/460032000]\n",
            "\n"
          ]
        },
        {
          "data": {
            "application/vnd.google.colaboratory.intrinsic+json": {
              "type": "string"
            },
            "text/plain": [
              "'test dataset'"
            ]
          },
          "execution_count": 12,
          "metadata": {},
          "output_type": "execute_result"
        }
      ],
      "source": [
        "'''train+validation dataset'''\n",
        "!wget http://host.robots.ox.ac.uk/pascal/VOC/voc2007/VOCtrainval_06-Nov-2007.tar # downloading the VOC2007 tar file\n",
        "!tar -xf VOCtrainval_06-Nov-2007.tar # extracting the above tar file"
      ]
    },
    {
      "cell_type": "code",
      "execution_count": null,
      "metadata": {
        "id": "HdGtQvenL5pN"
      },
      "outputs": [],
      "source": [
        "@dataclass\n",
        "class PreprocessingParams:\n",
        "  \"\"\"\n",
        "  Image preprocessing parameters. Channel order may be either ChannelOrder.RGB or ChannelOrder.BGR.\n",
        "  Scaling factor is applied first, followed by standardization with supplied means and standard\n",
        "  deviations supplied in the order specified by channel_order.\n",
        "  \"\"\"\n",
        "  channel_order: str\n",
        "  scaling: float\n",
        "  means: List[float]\n",
        "  stds: List[float]\n",
        "\n",
        "# instead of this try using the new pytorch feature where it gives you automatically what the foundation model configurations were instead of hard coding it\n",
        "image_preprocessing_params = PreprocessingParams(channel_order = \"RGB\", scaling = 1.0 / 255.0, means = [ 0.485, 0.456, 0.406 ], stds = [ 0.229, 0.224, 0.225 ])"
      ]
    },
    {
      "cell_type": "code",
      "execution_count": null,
      "metadata": {
        "id": "43TgDKbPNSnj"
      },
      "outputs": [],
      "source": [
        "# this is a custom data loader, try and see if pytorch dataloader can be used instead\n",
        "from CV.Faster_RCNN.dataloader import Dataset\n",
        "training_data = Dataset(\n",
        "  dir = \"VOCdevkit/VOC2007\",\n",
        "  split = \"trainval\", #Dataset split to use for training\n",
        "  image_preprocessing_params = image_preprocessing_params,\n",
        "  compute_feature_map_shape_fn = backbone.compute_feature_map_shape,\n",
        "  feature_pixels = backbone.feature_pixels,\n",
        "  augment = False,\n",
        "  shuffle = True,\n",
        "  cache = False\n",
        ")"
      ]
    },
    {
      "cell_type": "code",
      "execution_count": null,
      "metadata": {
        "colab": {
          "base_uri": "https://localhost:8080/"
        },
        "id": "aUrvI8QcjJm5",
        "outputId": "ad73112f-e7c9-4724-f87c-02635ee2999e"
      },
      "outputs": [
        {
          "name": "stderr",
          "output_type": "stream",
          "text": [
            "<ipython-input-3-14dcf3ba3bf1>:72: DeprecationWarning: Starting with ImageIO v3 the behavior of this function will switch to that of iio.v3.imread. To keep the current behavior (and make this warning disappear) use `import imageio.v2 as imageio` or call `imageio.v2.imread` directly.\n",
            "  data = imageio.imread(url, pilmode = \"RGB\")\n",
            "<ipython-input-3-14dcf3ba3bf1>:72: DeprecationWarning: Starting with ImageIO v3 the behavior of this function will switch to that of iio.v3.imread. To keep the current behavior (and make this warning disappear) use `import imageio.v2 as imageio` or call `imageio.v2.imread` directly.\n",
            "  data = imageio.imread(url, pilmode = \"RGB\")\n"
          ]
        }
      ],
      "source": [
        "# visualizing anchors and ground truth boxes for the first image\n",
        "from CV.Faster_RCNN.util_visualization import show_anchors\n",
        "c = 0\n",
        "for sample in iter(training_data):\n",
        "  if c == 0:\n",
        "    output_path = os.path.join(\"/content/anchors_temp.png\")\n",
        "    show_anchors(\n",
        "      output_path = output_path,\n",
        "      image = sample.image,\n",
        "      anchor_map = sample.anchor_map,\n",
        "      anchor_valid_map = sample.anchor_valid_map,\n",
        "      gt_rpn_map = sample.gt_rpn_map,\n",
        "      gt_boxes = sample.gt_boxes,\n",
        "      display = True\n",
        "    )\n",
        "  else:\n",
        "    break\n",
        "\n",
        "  c = c+1"
      ]
    },
    {
      "cell_type": "markdown",
      "metadata": {
        "id": "rZgLZzZyPr9o"
      },
      "source": [
        "# Modelling"
      ]
    },
    {
      "cell_type": "code",
      "execution_count": null,
      "metadata": {
        "id": "svvUMM_yNt0H"
      },
      "outputs": [],
      "source": [
        "# def no_grad(func):\n",
        "#   def wrapper_nograd(*args, **kwargs):\n",
        "#     with t.no_grad():\n",
        "#       return func(*args, **kwargs)\n",
        "#   return wrapper_nograd"
      ]
    },
    {
      "cell_type": "code",
      "source": [
        "# foundation model\n",
        "from CV.Faster_RCNN.foundation_model_resnet50 import *\n",
        "backbone = ResNetBackbone()"
      ],
      "metadata": {
        "id": "ShYkTPLQ3FD4"
      },
      "execution_count": null,
      "outputs": []
    },
    {
      "cell_type": "code",
      "execution_count": null,
      "metadata": {
        "id": "OA0LSd8zR71B"
      },
      "outputs": [],
      "source": [
        "# Construct model and load initial weights\n",
        "from CV.Faster_RCNN.model import *\n",
        "model = FasterRCNNModel(num_classes = Dataset.num_classes, backbone = backbone).cuda()"
      ]
    },
    {
      "cell_type": "markdown",
      "metadata": {
        "id": "J-pffYMdiguO"
      },
      "source": [
        "# Training"
      ]
    },
    {
      "cell_type": "code",
      "execution_count": null,
      "metadata": {
        "id": "Q6bSqgckDdK7"
      },
      "outputs": [],
      "source": [
        "epochs = 10\n",
        "momentum = 0.9\n",
        "learning_rate =  1e-3\n",
        "weight_decay = 5e-4"
      ]
    },
    {
      "cell_type": "code",
      "execution_count": null,
      "metadata": {
        "id": "eli0sJudiu_P"
      },
      "outputs": [],
      "source": [
        "# creating an optimizer\n",
        "params = []\n",
        "for key, value in dict(model.named_parameters()).items():\n",
        "  if not value.requires_grad:\n",
        "    continue\n",
        "  if \"weight\" in key:\n",
        "    params += [{ \"params\": [value], \"weight_decay\": weight_decay }]\n",
        "\n",
        "optimizer = t.optim.SGD(params, lr = learning_rate, momentum = momentum)"
      ]
    },
    {
      "cell_type": "code",
      "execution_count": null,
      "metadata": {
        "colab": {
          "base_uri": "https://localhost:8080/"
        },
        "id": "DAHIVPwfiiMw",
        "outputId": "985000c3-06af-4422-d229-4421b1d9b2f9"
      },
      "outputs": [
        {
          "name": "stdout",
          "output_type": "stream",
          "text": [
            "Epoch 1/10\n"
          ]
        },
        {
          "name": "stderr",
          "output_type": "stream",
          "text": [
            "\r  0%|          | 0/5011 [00:00<?, ?it/s, detector_class_loss=inf, detector_regr_loss=inf, rpn_class_loss=inf, rpn_regr_loss=inf, total_loss=inf]<ipython-input-3-14dcf3ba3bf1>:72: DeprecationWarning: Starting with ImageIO v3 the behavior of this function will switch to that of iio.v3.imread. To keep the current behavior (and make this warning disappear) use `import imageio.v2 as imageio` or call `imageio.v2.imread` directly.\n",
            "  data = imageio.imread(url, pilmode = \"RGB\")\n",
            "100%|██████████| 5011/5011 [13:34<00:00,  6.16it/s, rpn_class_loss=0.1942, rpn_regr_loss=0.0562, detector_class_loss=0.4086, detector_regr_loss=0.3549, total_loss=1.01]\n"
          ]
        },
        {
          "name": "stdout",
          "output_type": "stream",
          "text": [
            "Epoch 2/10\n"
          ]
        },
        {
          "name": "stderr",
          "output_type": "stream",
          "text": [
            "100%|██████████| 5011/5011 [13:38<00:00,  6.13it/s, rpn_class_loss=0.1420, rpn_regr_loss=0.0499, detector_class_loss=0.2937, detector_regr_loss=0.3237, total_loss=0.81]\n"
          ]
        },
        {
          "name": "stdout",
          "output_type": "stream",
          "text": [
            "Epoch 3/10\n"
          ]
        },
        {
          "name": "stderr",
          "output_type": "stream",
          "text": [
            "100%|██████████| 5011/5011 [13:38<00:00,  6.12it/s, rpn_class_loss=0.1255, rpn_regr_loss=0.0474, detector_class_loss=0.2465, detector_regr_loss=0.2795, total_loss=0.70]\n"
          ]
        },
        {
          "name": "stdout",
          "output_type": "stream",
          "text": [
            "Epoch 4/10\n"
          ]
        },
        {
          "name": "stderr",
          "output_type": "stream",
          "text": [
            "100%|██████████| 5011/5011 [13:38<00:00,  6.13it/s, rpn_class_loss=0.1136, rpn_regr_loss=0.0460, detector_class_loss=0.2171, detector_regr_loss=0.2504, total_loss=0.63]\n"
          ]
        },
        {
          "name": "stdout",
          "output_type": "stream",
          "text": [
            "Epoch 5/10\n"
          ]
        },
        {
          "name": "stderr",
          "output_type": "stream",
          "text": [
            "100%|██████████| 5011/5011 [13:37<00:00,  6.13it/s, rpn_class_loss=0.1056, rpn_regr_loss=0.0444, detector_class_loss=0.1975, detector_regr_loss=0.2305, total_loss=0.58]\n"
          ]
        },
        {
          "name": "stdout",
          "output_type": "stream",
          "text": [
            "Epoch 6/10\n"
          ]
        },
        {
          "name": "stderr",
          "output_type": "stream",
          "text": [
            "100%|██████████| 5011/5011 [13:39<00:00,  6.11it/s, rpn_class_loss=0.0972, rpn_regr_loss=0.0432, detector_class_loss=0.1796, detector_regr_loss=0.2146, total_loss=0.53]\n"
          ]
        },
        {
          "name": "stdout",
          "output_type": "stream",
          "text": [
            "Epoch 7/10\n"
          ]
        },
        {
          "name": "stderr",
          "output_type": "stream",
          "text": [
            "100%|██████████| 5011/5011 [13:40<00:00,  6.10it/s, rpn_class_loss=0.0897, rpn_regr_loss=0.0424, detector_class_loss=0.1660, detector_regr_loss=0.1996, total_loss=0.50]\n"
          ]
        },
        {
          "name": "stdout",
          "output_type": "stream",
          "text": [
            "Epoch 8/10\n"
          ]
        },
        {
          "name": "stderr",
          "output_type": "stream",
          "text": [
            "100%|██████████| 5011/5011 [13:39<00:00,  6.12it/s, rpn_class_loss=0.0845, rpn_regr_loss=0.0411, detector_class_loss=0.1597, detector_regr_loss=0.1888, total_loss=0.47]\n"
          ]
        },
        {
          "name": "stdout",
          "output_type": "stream",
          "text": [
            "Epoch 9/10\n"
          ]
        },
        {
          "name": "stderr",
          "output_type": "stream",
          "text": [
            "100%|██████████| 5011/5011 [13:38<00:00,  6.12it/s, rpn_class_loss=0.0790, rpn_regr_loss=0.0407, detector_class_loss=0.1493, detector_regr_loss=0.1782, total_loss=0.45]\n"
          ]
        },
        {
          "name": "stdout",
          "output_type": "stream",
          "text": [
            "Epoch 10/10\n"
          ]
        },
        {
          "name": "stderr",
          "output_type": "stream",
          "text": [
            "100%|██████████| 5011/5011 [13:43<00:00,  6.09it/s, rpn_class_loss=0.0736, rpn_regr_loss=0.0398, detector_class_loss=0.1376, detector_regr_loss=0.1684, total_loss=0.42]\n"
          ]
        }
      ],
      "source": [
        "for epoch in range(1, 1 + epochs):\n",
        "  print(\"Epoch %d/%d\" % (epoch, epochs))\n",
        "\n",
        "  rpn_class_loss = float(\"inf\")\n",
        "  rpn_regression_loss = float(\"inf\")\n",
        "  detector_class_loss = float(\"inf\")\n",
        "  detector_regression_loss = float(\"inf\")\n",
        "  _rpn_class_losses = []\n",
        "  _rpn_regression_losses = []\n",
        "  _detector_class_losses = []\n",
        "  _detector_regression_losses = []\n",
        "\n",
        "  progbar = tqdm(iterable = iter(training_data), total = training_data.num_samples, postfix = {\n",
        "      \"rpn_class_loss\": \"%1.4f\" % rpn_class_loss,\n",
        "      \"rpn_regr_loss\": \"%1.4f\" % rpn_regression_loss,\n",
        "      \"detector_class_loss\": \"%1.4f\" % detector_class_loss,\n",
        "      \"detector_regr_loss\": \"%1.4f\" % detector_regression_loss,\n",
        "      \"total_loss\": \"%1.2f\" % (rpn_class_loss + rpn_regression_loss + detector_class_loss + detector_regression_loss)\n",
        "    })\n",
        "\n",
        "  for sample in progbar:\n",
        "    loss = model.train_step(  # don't retain any tensors we don't need (helps memory usage)\n",
        "      optimizer = optimizer,\n",
        "      image_data = t.from_numpy(sample.image_data).unsqueeze(dim = 0).cuda(),\n",
        "      anchor_map = sample.anchor_map,\n",
        "      anchor_valid_map = sample.anchor_valid_map,\n",
        "      gt_rpn_map = t.from_numpy(sample.gt_rpn_map).unsqueeze(dim = 0).cuda(),\n",
        "      gt_rpn_object_indices = [ sample.gt_rpn_object_indices ],\n",
        "      gt_rpn_background_indices = [ sample.gt_rpn_background_indices ],\n",
        "      gt_boxes = [ sample.gt_boxes ]\n",
        "    )\n",
        "\n",
        "\n",
        "    _rpn_class_losses.append(loss.rpn_class)\n",
        "    _rpn_regression_losses.append(loss.rpn_regression)\n",
        "    _detector_class_losses.append(loss.detector_class)\n",
        "    _detector_regression_losses.append(loss.detector_regression)\n",
        "    rpn_class_loss = np.mean(_rpn_class_losses)\n",
        "    rpn_regression_loss = np.mean(_rpn_regression_losses)\n",
        "    detector_class_loss = np.mean(_detector_class_losses)\n",
        "    detector_regression_loss = np.mean(_detector_regression_losses)\n",
        "\n",
        "\n",
        "    progbar.set_postfix({\n",
        "      \"rpn_class_loss\": \"%1.4f\" % rpn_class_loss,\n",
        "      \"rpn_regr_loss\": \"%1.4f\" % rpn_regression_loss,\n",
        "      \"detector_class_loss\": \"%1.4f\" % detector_class_loss,\n",
        "      \"detector_regr_loss\": \"%1.4f\" % detector_regression_loss,\n",
        "      \"total_loss\": \"%1.2f\" % (rpn_class_loss + rpn_regression_loss + detector_class_loss + detector_regression_loss)\n",
        "    })"
      ]
    },
    {
      "cell_type": "markdown",
      "metadata": {
        "id": "Y8tG6NBTL_A5"
      },
      "source": [
        "# Inference"
      ]
    },
    {
      "cell_type": "code",
      "execution_count": null,
      "metadata": {
        "colab": {
          "base_uri": "https://localhost:8080/",
          "height": 162
        },
        "id": "SPNI702DtFFj",
        "outputId": "84e9fc95-a109-4d33-d75f-a80befb139de"
      },
      "outputs": [
        {
          "ename": "NameError",
          "evalue": "name 'model' is not defined",
          "output_type": "error",
          "traceback": [
            "\u001b[0;31m---------------------------------------------------------------------------\u001b[0m",
            "\u001b[0;31mNameError\u001b[0m                                 Traceback (most recent call last)",
            "\u001b[0;32m<ipython-input-20-c1cac2481208>\u001b[0m in \u001b[0;36m<cell line: 1>\u001b[0;34m()\u001b[0m\n\u001b[0;32m----> 1\u001b[0;31m \u001b[0mimage_data\u001b[0m\u001b[0;34m,\u001b[0m \u001b[0mimage_obj\u001b[0m\u001b[0;34m,\u001b[0m \u001b[0m_\u001b[0m\u001b[0;34m,\u001b[0m \u001b[0m_\u001b[0m \u001b[0;34m=\u001b[0m \u001b[0mload_image\u001b[0m\u001b[0;34m(\u001b[0m\u001b[0murl\u001b[0m \u001b[0;34m=\u001b[0m \u001b[0;34m\"https://trzy.org/files/fasterrcnn/gary.jpg\"\u001b[0m\u001b[0;34m,\u001b[0m \u001b[0mpreprocessing\u001b[0m \u001b[0;34m=\u001b[0m \u001b[0mmodel\u001b[0m\u001b[0;34m.\u001b[0m\u001b[0mbackbone\u001b[0m\u001b[0;34m.\u001b[0m\u001b[0mimage_preprocessing_params\u001b[0m\u001b[0;34m,\u001b[0m \u001b[0mmin_dimension_pixels\u001b[0m \u001b[0;34m=\u001b[0m \u001b[0;36m600\u001b[0m\u001b[0;34m)\u001b[0m\u001b[0;34m\u001b[0m\u001b[0;34m\u001b[0m\u001b[0m\n\u001b[0m",
            "\u001b[0;31mNameError\u001b[0m: name 'model' is not defined"
          ]
        }
      ],
      "source": [
        "image_data, image_obj, _, _ = load_image(url = \"https://trzy.org/files/fasterrcnn/gary.jpg\", preprocessing = image_preprocessing_params, min_dimension_pixels = 600)"
      ]
    },
    {
      "cell_type": "code",
      "execution_count": null,
      "metadata": {
        "id": "HNNfi2R-tnue"
      },
      "outputs": [],
      "source": [
        "image_data = t.from_numpy(image_data).unsqueeze(dim = 0).cuda()\n",
        "scored_boxes_by_class_index = model.predict(image_data = image_data, score_threshold = 0.7)"
      ]
    },
    {
      "cell_type": "code",
      "execution_count": null,
      "metadata": {
        "id": "gkzLGpZmtcYc"
      },
      "outputs": [],
      "source": [
        "show_detections(\n",
        "                output_path = None,\n",
        "                show_image = True,\n",
        "                image = image_obj,\n",
        "                scored_boxes_by_class_index = scored_boxes_by_class_index,\n",
        "                class_index_to_name = Dataset.class_index_to_name\n",
        "                )"
      ]
    }
  ],
  "metadata": {
    "accelerator": "GPU",
    "colab": {
      "collapsed_sections": [
        "TRi_vs4fcdN_",
        "inR2bAvKdYYP",
        "bFYkx6LadU6n",
        "NzaMu5cDdSWS",
        "I_gaxu1LdMli",
        "oPW67aIF3ZDn",
        "tsv-kIZ5HGCE",
        "rZgLZzZyPr9o",
        "J-pffYMdiguO",
        "Y8tG6NBTL_A5"
      ],
      "gpuType": "T4",
      "provenance": []
    },
    "kernelspec": {
      "display_name": "Python 3",
      "name": "python3"
    },
    "language_info": {
      "name": "python"
    }
  },
  "nbformat": 4,
  "nbformat_minor": 0
}