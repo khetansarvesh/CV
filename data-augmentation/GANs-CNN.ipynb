{
  "cells": [
    {
      "cell_type": "markdown",
      "metadata": {
        "id": "TIJ8Bhy3KaYm"
      },
      "source": [
        "[![Open In Colab](https://colab.research.google.com/assets/colab-badge.svg)](https://colab.research.google.com/github/khetansarvesh/CV/blob/main/data-augmentation/GANs-CNN.ipynb)\n"
      ]
    },
    {
      "cell_type": "code",
      "execution_count": null,
      "metadata": {
        "id": "5a68hpbeSh5H"
      },
      "outputs": [],
      "source": [
        "import torch\n",
        "import torch.nn as nn\n",
        "import numpy as np\n",
        "from tqdm import tqdm\n",
        "import torchvision\n",
        "from torchvision.utils import make_grid"
      ]
    },
    {
      "cell_type": "code",
      "execution_count": null,
      "metadata": {
        "colab": {
          "base_uri": "https://localhost:8080/"
        },
        "id": "HiX-VdQWcnml",
        "outputId": "8b36a0d2-4e45-4b6b-bb16-368c2a2d450a"
      },
      "outputs": [
        {
          "name": "stdout",
          "output_type": "stream",
          "text": [
            "cuda\n"
          ]
        }
      ],
      "source": [
        "device = torch.device('cuda' if torch.cuda.is_available() else 'cpu')\n",
        "print(device)\n",
        "LATENT_DIM = 64 # noisy input dimentions\n",
        "IM_CHANNELS = 1 # no of channels in image = 1 cause black and white\n",
        "IM_SIZE = (28, 28)"
      ]
    },
    {
      "cell_type": "markdown",
      "metadata": {
        "id": "HJIBS7a8TK-O"
      },
      "source": [
        "# Dataset"
      ]
    },
    {
      "cell_type": "code",
      "execution_count": null,
      "metadata": {
        "id": "Bgcpa614S5uT"
      },
      "outputs": [],
      "source": [
        "from torchvision import datasets, transforms\n",
        "from torch.utils.data.dataset import Dataset\n",
        "from torch.utils.data import DataLoader"
      ]
    },
    {
      "cell_type": "code",
      "execution_count": null,
      "metadata": {
        "colab": {
          "base_uri": "https://localhost:8080/"
        },
        "id": "BZZmQEvbjYGO",
        "outputId": "3b08e0bf-8a04-4056-e641-810c51e3a65a"
      },
      "outputs": [
        {
          "name": "stdout",
          "output_type": "stream",
          "text": [
            "Downloading http://yann.lecun.com/exdb/mnist/train-images-idx3-ubyte.gz\n",
            "Downloading http://yann.lecun.com/exdb/mnist/train-images-idx3-ubyte.gz to ./data/MNIST/raw/train-images-idx3-ubyte.gz\n"
          ]
        },
        {
          "name": "stderr",
          "output_type": "stream",
          "text": [
            "100%|██████████| 9912422/9912422 [00:00<00:00, 143039968.78it/s]\n"
          ]
        },
        {
          "name": "stdout",
          "output_type": "stream",
          "text": [
            "Extracting ./data/MNIST/raw/train-images-idx3-ubyte.gz to ./data/MNIST/raw\n",
            "\n",
            "Downloading http://yann.lecun.com/exdb/mnist/train-labels-idx1-ubyte.gz\n",
            "Downloading http://yann.lecun.com/exdb/mnist/train-labels-idx1-ubyte.gz to ./data/MNIST/raw/train-labels-idx1-ubyte.gz\n"
          ]
        },
        {
          "name": "stderr",
          "output_type": "stream",
          "text": [
            "100%|██████████| 28881/28881 [00:00<00:00, 29035401.20it/s]"
          ]
        },
        {
          "name": "stdout",
          "output_type": "stream",
          "text": [
            "Extracting ./data/MNIST/raw/train-labels-idx1-ubyte.gz to ./data/MNIST/raw\n",
            "\n",
            "Downloading http://yann.lecun.com/exdb/mnist/t10k-images-idx3-ubyte.gz\n",
            "Downloading http://yann.lecun.com/exdb/mnist/t10k-images-idx3-ubyte.gz to ./data/MNIST/raw/t10k-images-idx3-ubyte.gz\n"
          ]
        },
        {
          "name": "stderr",
          "output_type": "stream",
          "text": [
            "\n",
            "100%|██████████| 1648877/1648877 [00:00<00:00, 39206178.06it/s]\n"
          ]
        },
        {
          "name": "stdout",
          "output_type": "stream",
          "text": [
            "Extracting ./data/MNIST/raw/t10k-images-idx3-ubyte.gz to ./data/MNIST/raw\n",
            "\n",
            "Downloading http://yann.lecun.com/exdb/mnist/t10k-labels-idx1-ubyte.gz\n",
            "Downloading http://yann.lecun.com/exdb/mnist/t10k-labels-idx1-ubyte.gz to ./data/MNIST/raw/t10k-labels-idx1-ubyte.gz\n"
          ]
        },
        {
          "name": "stderr",
          "output_type": "stream",
          "text": [
            "100%|██████████| 4542/4542 [00:00<00:00, 7003870.87it/s]\n"
          ]
        },
        {
          "name": "stdout",
          "output_type": "stream",
          "text": [
            "Extracting ./data/MNIST/raw/t10k-labels-idx1-ubyte.gz to ./data/MNIST/raw\n",
            "\n"
          ]
        }
      ],
      "source": [
        "transform = transforms.Compose([transforms.ToTensor(), transforms.Normalize((0.5,), (0.5,))]) # Define the transformation to normalize the data between 1 and -1 (mean = 0.5 and variance = 0.5 will transform to values between 1 and -1)\n",
        "mnist = datasets.MNIST(root='./data', train=True, transform=transform, download=True) # downloading the MNIST train dataset and then applying some transformations\n",
        "mnist_loader = DataLoader(dataset=mnist, batch_size=64, shuffle=True) # loading the downloaded dataset"
      ]
    },
    {
      "cell_type": "code",
      "execution_count": null,
      "metadata": {
        "colab": {
          "base_uri": "https://localhost:8080/",
          "height": 452
        },
        "id": "_iNdQTrqlmLd",
        "outputId": "312309c0-fbaa-46aa-fb82-dd6f5ed1e3d9"
      },
      "outputs": [
        {
          "data": {
            "image/png": "[encoded data removed]",
            "text/plain": [
              "<Figure size 640x480 with 1 Axes>"
            ]
          },
          "metadata": {},
          "output_type": "display_data"
        }
      ],
      "source": [
        "# Display one image from one of the batches\n",
        "images, labels = next(iter(mnist_loader)) # Extract one batch of images and labels\n",
        "image = images[0].numpy().squeeze() # loading the one image from that batch\n",
        "label = labels[0].item() # loading the actual label of the above image\n",
        "\n",
        "import matplotlib.pyplot as plt\n",
        "plt.imshow(image, cmap='gray')\n",
        "plt.title(f\"Label: {label}\")\n",
        "plt.show()"
      ]
    },
    {
      "cell_type": "markdown",
      "metadata": {
        "id": "TNHZI1K6TOIE"
      },
      "source": [
        "# Modelling"
      ]
    },
    {
      "cell_type": "code",
      "source": [
        "class Generator(nn.Module):\n",
        "\n",
        "    def __init__(self, latent_dim, im_size, im_channels):\n",
        "        super().__init__()\n",
        "        self.latent_dim = latent_dim\n",
        "        self.im_size = im_size\n",
        "        self.im_channels = im_channels\n",
        "\n",
        "        #encoder\n",
        "        self.encoder_layer_1 = nn.Sequential(nn.ConvTranspose2d(100, 512, kernel_size=4, stride=2, padding=1, output_padding=1, bias=False), nn.BatchNorm2d(512),nn.ReLU())\n",
        "        '''\n",
        "        ideally for encoder part instead of ConvTranspose2d we should use Conv2d but Conv2d does not work correctly, idk why, following is the code for Conv2d\n",
        "        self.encoder_layer_1 = nn.Sequential(nn.Conv2d(100, 128, kernel_size=2, stride=2, padding=1, bias=False), nn.BatchNorm2d(128),nn.ReLU())\n",
        "        self.encoder_layer_2 = nn.Sequential(nn.Conv2d(128, 256, kernel_size=3, stride=2, padding=1, bias=False), nn.BatchNorm2d(256),nn.ReLU())\n",
        "        self.encoder_layer_3 = nn.Sequential(nn.Conv2d(256, 512, kernel_size=3, stride=2, padding=1, bias=False), nn.BatchNorm2d(512),nn.ReLU())\n",
        "        '''\n",
        "        #decoder\n",
        "        self.decoder_layer_1 = nn.Sequential(nn.ConvTranspose2d(512, 256, kernel_size=4, stride=2, padding=1, output_padding=1, bias=False), nn.BatchNorm2d(256),nn.ReLU())\n",
        "        self.decoder_layer_2 = nn.Sequential(nn.ConvTranspose2d(256, 128, kernel_size=4, stride=2, padding=1, output_padding=0, bias=False), nn.BatchNorm2d(128),nn.ReLU())\n",
        "        self.decoder_layer_3 = nn.Sequential(nn.ConvTranspose2d(128, 1, kernel_size=4, stride=2, padding=1, output_padding=0, bias=False), nn.Identity(),nn.Tanh())\n",
        "\n",
        "    def forward(self, z):\n",
        "        batch_size = z.shape[0]\n",
        "        out = z.reshape(-1, self.latent_dim, 1, 1)\n",
        "\n",
        "        #encoder forward pass\n",
        "        out = self.encoder_layer_1(out)\n",
        "\n",
        "        #decoder forward pass\n",
        "        out = self.decoder_layer_1(out)\n",
        "        out = self.decoder_layer_2(out)\n",
        "        out = self.decoder_layer_3(out)\n",
        "\n",
        "        out = out.reshape(batch_size, self.im_channels, self.im_size, self.im_size)\n",
        "        return out"
      ],
      "metadata": {
        "id": "S8ugVET_GT9W"
      },
      "execution_count": null,
      "outputs": []
    },
    {
      "cell_type": "code",
      "execution_count": null,
      "metadata": {
        "id": "hxp6IHoYY-hZ"
      },
      "outputs": [],
      "source": [
        "class Discriminator(nn.Module):\n",
        "\n",
        "    def __init__(self):\n",
        "        super().__init__()\n",
        "        layer_1 = nn.Sequential(nn.Conv2d(1, 128, kernel_size=4, stride=2, padding=1, bias=True), nn.Identity(),nn.LeakyReLU())\n",
        "        layer_2 = nn.Sequential(nn.Conv2d(128, 256, kernel_size=4, stride=2, padding=1, bias=False), nn.BatchNorm2d(256),nn.LeakyReLU())\n",
        "        layer_3 = nn.Sequential(nn.Conv2d(256, 512, kernel_size=4, stride=2, padding=1, bias=False), nn.BatchNorm2d(512),nn.LeakyReLU())\n",
        "        layer_4 = nn.Sequential(nn.Conv2d(512, 1, kernel_size=4, stride=2, padding=1, bias=False), nn.Identity(),nn.Sigmoid())\n",
        "        self.layers = nn.ModuleList([layer_1, layer_2, layer_3, layer_4])\n",
        "\n",
        "    def forward(self, x):\n",
        "        out = x\n",
        "        for layer in self.layers:\n",
        "            out = layer(out)\n",
        "        return out.reshape(x.size(0))"
      ]
    },
    {
      "cell_type": "markdown",
      "metadata": {
        "id": "C_KJWVseZVD2"
      },
      "source": [
        "# Training"
      ]
    },
    {
      "cell_type": "code",
      "execution_count": null,
      "metadata": {
        "id": "cmMlwBvJcu8o"
      },
      "outputs": [],
      "source": [
        "from torch.optim import Adam\n",
        "\n",
        "# Instantiate generator model\n",
        "im_channels = 1\n",
        "im_size = 28\n",
        "latent_dim = 100\n",
        "generator = Generator(latent_dim, im_size, im_channels).to(device)\n",
        "generator.train()\n",
        "optimizer_generator = Adam(generator.parameters(), lr=0.0005, betas=(0.5, 0.999)) #0.5 is momentum\n",
        "\n",
        "# Instantiate discriminator model\n",
        "discriminator = Discriminator().to(device)\n",
        "discriminator.train()\n",
        "optimizer_discriminator = Adam(discriminator.parameters(), lr=0.0005, betas=(0.5, 0.999)) #0.5 is momentum"
      ]
    },
    {
      "cell_type": "code",
      "execution_count": null,
      "metadata": {
        "colab": {
          "base_uri": "https://localhost:8080/"
        },
        "id": "1bLLsW8LRjEL",
        "outputId": "fe1cd468-4005-4d76-d329-5605fa1b64b6"
      },
      "outputs": [
        {
          "metadata": {
            "tags": null
          },
          "name": "stderr",
          "output_type": "stream",
          "text": [
            " 24%|██▍       | 226/938 [09:54<34:49,  2.93s/it]"
          ]
        }
      ],
      "source": [
        "steps = 0\n",
        "\n",
        "for epoch in range(50): # for each epoch\n",
        "    generator_losses = []\n",
        "    discriminator_losses = []\n",
        "    mean_real_dis_preds = []\n",
        "    mean_fake_dis_preds = []\n",
        "\n",
        "    for im, _ in tqdm(mnist_loader): # for each image in each epoch\n",
        "\n",
        "        real_ims = im.float().to(device)\n",
        "        batch_size = real_ims.shape[0]\n",
        "\n",
        "        ''' ######################### First Optimizing the Discriminator ######################### '''\n",
        "\n",
        "        optimizer_discriminator.zero_grad()\n",
        "\n",
        "        fake_im_noise = torch.randn((batch_size, latent_dim), device=device) # creating a noisy data\n",
        "        fake_ims = generator(fake_im_noise) # passing the noisy data through the generator to get fake image\n",
        "        disc_real_pred = discriminator(real_ims) # passing real image to the discriminator\n",
        "        disc_fake_pred = discriminator(fake_ims.detach()) # passing fake image to the discriminator but we are detaching it so that gradients are not computed for generator and generator is not trained while training the discriminator\n",
        "\n",
        "        disc_loss = -torch.mean(torch.log(disc_real_pred.reshape(-1) + 0.0001) + torch.log(1. - disc_fake_pred.reshape(-1) + 0.0001) )\n",
        "\n",
        "        disc_loss.backward()\n",
        "        optimizer_discriminator.step()\n",
        "\n",
        "        mean_real_dis_preds.append(torch.nn.Sigmoid()(disc_real_pred).mean().item())\n",
        "        mean_fake_dis_preds.append(torch.nn.Sigmoid()(disc_fake_pred).mean().item())\n",
        "\n",
        "\n",
        "        ''' ######################### Second Optimizing the Generator ######################### '''\n",
        "        optimizer_generator.zero_grad()\n",
        "\n",
        "        fake_im_noise = torch.randn((batch_size, latent_dim), device=device) # creating a noisy data\n",
        "        fake_ims = generator(fake_im_noise) # passing through generator to create fake image\n",
        "        disc_fake_pred = discriminator(fake_ims) # passing through discriminator to classify it as fake or real\n",
        "\n",
        "        gen_fake_loss = -torch.mean(torch.log(disc_fake_pred.reshape(-1) + 0.0001))\n",
        "\n",
        "        gen_fake_loss.backward()\n",
        "        optimizer_generator.step()\n",
        "\n",
        "        generator_losses.append(gen_fake_loss.item())\n",
        "        discriminator_losses.append(disc_loss.item())\n",
        "\n",
        "        ''' ######################### Seeing how the generator is improving with training ######################### '''\n",
        "        if steps % 5 == 0:\n",
        "            with torch.no_grad():\n",
        "                generator.eval()\n",
        "\n",
        "                NUM_SAMPLES = 225\n",
        "                fake_im_noise = torch.randn((NUM_SAMPLES, latent_dim), device=device) # generating some noisy data\n",
        "                fake_ims = generator(fake_im_noise) # generating image using generator\n",
        "                ims = torch.clamp(fake_ims, -1., 1.).detach().cpu() # clamping the generated images\n",
        "                ims = 0.5*ims + 0.5 #detransforming the images from [-1,1] to [0,1]\n",
        "                grid = make_grid(ims, nrow=15)\n",
        "                img = torchvision.transforms.ToPILImage()(grid)\n",
        "                plt.imshow(img, cmap='gray') # now display the image here using matplot lib\n",
        "\n",
        "                generator.train()\n",
        "        steps += 1\n",
        "\n",
        "    print(f'''Finished epoch:{epoch + 1} | Generator Loss : {np.mean(generator_losses)} | Discriminator Loss : {np.mean(discriminator_losses)} | Discriminator real pred : {np.mean(mean_real_dis_preds)} | Discriminator fake pred : {np.mean(mean_fake_dis_preds)}''')"
      ]
    },
    {
      "cell_type": "markdown",
      "metadata": {
        "id": "FR5wjyvU-uDc"
      },
      "source": [
        "Key things to note in above training errors :\n",
        "\n",
        "1. First discriminator loss decreases while generator loss increases => because initially only discriminator is being trained\n",
        "2. Then the discriminator loss remains constant and the generator loss decreases => because now the discriminator is freezed and the generator is being trained"
      ]
    },
    {
      "cell_type": "markdown",
      "metadata": {
        "id": "sXXMwiZaey40"
      },
      "source": [
        "# Inference"
      ]
    },
    {
      "cell_type": "code",
      "execution_count": null,
      "metadata": {
        "id": "yYQlXs6Q-xnR"
      },
      "outputs": [],
      "source": [
        "NUM_SAMPLES = 225\n",
        "fake_im_noise = torch.randn((NUM_SAMPLES, LATENT_DIM), device=device) # generating some noisy data\n",
        "generated_ims = generator(fake_im_noise) # generating image using generator"
      ]
    },
    {
      "cell_type": "code",
      "execution_count": null,
      "metadata": {
        "id": "y4kZ8wTWhzfo"
      },
      "outputs": [],
      "source": [
        "generated_ims = torch.clamp(generated_ims, -1., 1.).detach().cpu() # clamping the generated images\n",
        "generated_ims = 0.5*generated_ims + 0.5 #detransforming the images from [-1,1] to [0,1]"
      ]
    },
    {
      "cell_type": "code",
      "execution_count": null,
      "metadata": {
        "id": "HuH_89PHex4E"
      },
      "outputs": [],
      "source": [
        "# now printing the predicted images\n",
        "grid = torchvision.utils.make_grid(generated_ims, nrow=15)\n",
        "img = torchvision.transforms.ToPILImage()(grid)\n",
        "plt.imshow(img, cmap='gray') # now display the image here using matplot lib"
      ]
    }
  ],
  "metadata": {
    "accelerator": "GPU",
    "colab": {
      "collapsed_sections": [
        "HJIBS7a8TK-O",
        "TNHZI1K6TOIE",
        "C_KJWVseZVD2",
        "sXXMwiZaey40"
      ],
      "gpuType": "T4",
      "provenance": []
    },
    "kernelspec": {
      "display_name": "Python 3",
      "name": "python3"
    },
    "language_info": {
      "codemirror_mode": {
        "name": "ipython",
        "version": 3
      },
      "file_extension": ".py",
      "mimetype": "text/x-python",
      "name": "python",
      "nbconvert_exporter": "python",
      "pygments_lexer": "ipython3",
      "version": "3.5.4"
    }
  },
  "nbformat": 4,
  "nbformat_minor": 0
}