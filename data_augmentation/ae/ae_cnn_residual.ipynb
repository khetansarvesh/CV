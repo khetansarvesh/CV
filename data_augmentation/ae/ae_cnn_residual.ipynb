{
  "cells": [
    {
      "cell_type": "markdown",
      "metadata": {
        "id": "rLf3vpVzjyTb"
      },
      "source": [
        "[![Open In Colab](https://colab.research.google.com/assets/colab-badge.svg)](https://colab.research.google.com/github/khetansarvesh/CV/blob/main/data_augmentation/ae/ae_cnn_residual.ipynb)\n"
      ]
    },
    {
      "cell_type": "code",
      "execution_count": null,
      "metadata": {
        "id": "VwgOfPNhvKyC"
      },
      "outputs": [],
      "source": [
        "import torch\n",
        "import cv2\n",
        "import torchvision\n",
        "import torch.nn as nn\n",
        "import numpy as np\n",
        "from tqdm import tqdm\n",
        "from torch.optim import Adam\n",
        "from matplotlib import pyplot as plt"
      ]
    },
    {
      "cell_type": "code",
      "execution_count": null,
      "metadata": {
        "colab": {
          "base_uri": "https://localhost:8080/"
        },
        "id": "uiozVcOCvNkm",
        "outputId": "ab2f5f60-f557-4a8c-9907-097e38c781b2"
      },
      "outputs": [
        {
          "output_type": "stream",
          "name": "stdout",
          "text": [
            "cuda\n"
          ]
        }
      ],
      "source": [
        "device = torch.device('cuda' if torch.cuda.is_available() else 'cpu')\n",
        "print(device)"
      ]
    },
    {
      "cell_type": "code",
      "execution_count": null,
      "metadata": {
        "colab": {
          "base_uri": "https://localhost:8080/"
        },
        "id": "9-zXA3UUj_jR",
        "outputId": "8ed7bd86-3bff-4fd7-8813-db7478920a54"
      },
      "outputs": [
        {
          "output_type": "stream",
          "name": "stdout",
          "text": [
            "Cloning into 'CV'...\n",
            "remote: Enumerating objects: 538, done.\u001b[K\n",
            "remote: Counting objects: 100% (270/270), done.\u001b[K\n",
            "remote: Compressing objects: 100% (203/203), done.\u001b[K\n",
            "remote: Total 538 (delta 152), reused 134 (delta 58), pack-reused 268\u001b[K\n",
            "Receiving objects: 100% (538/538), 26.92 MiB | 30.97 MiB/s, done.\n",
            "Resolving deltas: 100% (301/301), done.\n"
          ]
        }
      ],
      "source": [
        "!git clone https://github.com/khetansarvesh/CV.git"
      ]
    },
    {
      "cell_type": "markdown",
      "metadata": {
        "id": "_UJnbj-ju7g6"
      },
      "source": [
        "# **Dataset**"
      ]
    },
    {
      "cell_type": "code",
      "execution_count": null,
      "metadata": {
        "id": "JPmRsYhTu-z-"
      },
      "outputs": [],
      "source": [
        "from torchvision import datasets, transforms\n",
        "from torch.utils.data.dataset import Dataset\n",
        "from torch.utils.data import DataLoader"
      ]
    },
    {
      "cell_type": "code",
      "execution_count": null,
      "metadata": {
        "colab": {
          "base_uri": "https://localhost:8080/"
        },
        "id": "C_UpHpAnvRvb",
        "outputId": "89a18595-d655-4a23-d264-c5c89e968092"
      },
      "outputs": [
        {
          "output_type": "stream",
          "name": "stdout",
          "text": [
            "Downloading http://yann.lecun.com/exdb/mnist/train-images-idx3-ubyte.gz\n",
            "Failed to download (trying next):\n",
            "HTTP Error 403: Forbidden\n",
            "\n",
            "Downloading https://ossci-datasets.s3.amazonaws.com/mnist/train-images-idx3-ubyte.gz\n",
            "Downloading https://ossci-datasets.s3.amazonaws.com/mnist/train-images-idx3-ubyte.gz to ./data/MNIST/raw/train-images-idx3-ubyte.gz\n"
          ]
        },
        {
          "output_type": "stream",
          "name": "stderr",
          "text": [
            "100%|██████████| 9912422/9912422 [00:00<00:00, 14453731.73it/s]\n"
          ]
        },
        {
          "output_type": "stream",
          "name": "stdout",
          "text": [
            "Extracting ./data/MNIST/raw/train-images-idx3-ubyte.gz to ./data/MNIST/raw\n",
            "\n",
            "Downloading http://yann.lecun.com/exdb/mnist/train-labels-idx1-ubyte.gz\n",
            "Failed to download (trying next):\n",
            "HTTP Error 403: Forbidden\n",
            "\n",
            "Downloading https://ossci-datasets.s3.amazonaws.com/mnist/train-labels-idx1-ubyte.gz\n",
            "Downloading https://ossci-datasets.s3.amazonaws.com/mnist/train-labels-idx1-ubyte.gz to ./data/MNIST/raw/train-labels-idx1-ubyte.gz\n"
          ]
        },
        {
          "output_type": "stream",
          "name": "stderr",
          "text": [
            "100%|██████████| 28881/28881 [00:00<00:00, 488609.96it/s]\n"
          ]
        },
        {
          "output_type": "stream",
          "name": "stdout",
          "text": [
            "Extracting ./data/MNIST/raw/train-labels-idx1-ubyte.gz to ./data/MNIST/raw\n",
            "\n",
            "Downloading http://yann.lecun.com/exdb/mnist/t10k-images-idx3-ubyte.gz\n",
            "Failed to download (trying next):\n",
            "HTTP Error 403: Forbidden\n",
            "\n",
            "Downloading https://ossci-datasets.s3.amazonaws.com/mnist/t10k-images-idx3-ubyte.gz\n",
            "Downloading https://ossci-datasets.s3.amazonaws.com/mnist/t10k-images-idx3-ubyte.gz to ./data/MNIST/raw/t10k-images-idx3-ubyte.gz\n"
          ]
        },
        {
          "output_type": "stream",
          "name": "stderr",
          "text": [
            "100%|██████████| 1648877/1648877 [00:00<00:00, 4297311.65it/s]\n"
          ]
        },
        {
          "output_type": "stream",
          "name": "stdout",
          "text": [
            "Extracting ./data/MNIST/raw/t10k-images-idx3-ubyte.gz to ./data/MNIST/raw\n",
            "\n",
            "Downloading http://yann.lecun.com/exdb/mnist/t10k-labels-idx1-ubyte.gz\n",
            "Failed to download (trying next):\n",
            "HTTP Error 403: Forbidden\n",
            "\n",
            "Downloading https://ossci-datasets.s3.amazonaws.com/mnist/t10k-labels-idx1-ubyte.gz\n",
            "Downloading https://ossci-datasets.s3.amazonaws.com/mnist/t10k-labels-idx1-ubyte.gz to ./data/MNIST/raw/t10k-labels-idx1-ubyte.gz\n"
          ]
        },
        {
          "output_type": "stream",
          "name": "stderr",
          "text": [
            "100%|██████████| 4542/4542 [00:00<00:00, 10214760.73it/s]"
          ]
        },
        {
          "output_type": "stream",
          "name": "stdout",
          "text": [
            "Extracting ./data/MNIST/raw/t10k-labels-idx1-ubyte.gz to ./data/MNIST/raw\n",
            "\n"
          ]
        },
        {
          "output_type": "stream",
          "name": "stderr",
          "text": [
            "\n"
          ]
        }
      ],
      "source": [
        "transform = transforms.Compose([transforms.ToTensor(), transforms.Normalize((0.5,), (0.5,))]) # Define the transformation to normalize the data between 1 and -1 (mean = 0.5 and variance = 0.5 will transform to values between 1 and -1)\n",
        "mnist = datasets.MNIST(root='./data', train=True, transform=transform, download=True) # downloading the MNIST train dataset and then applying some transformations\n",
        "mnist_loader = DataLoader(dataset=mnist, batch_size=64, shuffle=True, num_workers=0) # loading the downloaded dataset"
      ]
    },
    {
      "cell_type": "markdown",
      "metadata": {
        "id": "QxTVYPbduxty"
      },
      "source": [
        "# **Modelling**"
      ]
    },
    {
      "cell_type": "code",
      "execution_count": null,
      "metadata": {
        "id": "OcwBwDpHkNuo"
      },
      "outputs": [],
      "source": [
        "from CV.representation_learning.residual_block_utils import ResidualBlock"
      ]
    },
    {
      "cell_type": "code",
      "execution_count": null,
      "metadata": {
        "id": "Um4RsSq0u-Kn"
      },
      "outputs": [],
      "source": [
        "class Autoencoder(nn.Module):\n",
        "    def __init__(self):\n",
        "        super().__init__()\n",
        "        self.encoder = nn.Sequential(\n",
        "                                      nn.Conv2d(1, 128, 3, 1, 1), nn.GroupNorm(num_groups=32, num_channels=128, eps=1e-6, affine=True),nn.ReLU(),\n",
        "                                      ResidualBlock(128, 256),\n",
        "                                      nn.Conv2d(256, 256, kernel_size=3, stride=2, padding=1), nn.GroupNorm(num_groups=32, num_channels=256, eps=1e-6, affine=True),nn.ReLU(),\n",
        "                                      nn.Conv2d(256, 256, kernel_size=3, stride=2, padding=1), nn.GroupNorm(num_groups=32, num_channels=256, eps=1e-6, affine=True),nn.ReLU(),\n",
        "                                    )\n",
        "\n",
        "        self.middle_block = nn.Sequential(\n",
        "                                            ResidualBlock(256, 256),\n",
        "                                            nn.Conv2d(256, 512, 3, 1, 1), nn.GroupNorm(num_groups=32, num_channels=512, eps=1e-6, affine=True),nn.ReLU(),\n",
        "                                            ResidualBlock(512, 256),\n",
        "                                          )\n",
        "\n",
        "        self.decoder = nn.Sequential(\n",
        "                                      nn.ConvTranspose2d(256, 256, kernel_size=3, stride=2, padding=1, output_padding=1), nn.GroupNorm(num_groups=32, num_channels=256, eps=1e-6, affine=True),nn.ReLU(),\n",
        "                                      ResidualBlock(256, 128),\n",
        "                                      ResidualBlock(128, 128),\n",
        "                                      nn.ConvTranspose2d(128, 128, kernel_size=3, stride=2, padding=1, output_padding=1), nn.GroupNorm(num_groups=32, num_channels=128, eps=1e-6, affine=True),nn.ReLU(),\n",
        "\n",
        "                                      #ResidualBlock(128, 128),\n",
        "                                      #ResidualBlock(128, 128),\n",
        "                                      #ResidualBlock(128, 128),\n",
        "                                      #nn.ConvTranspose2d(128, 128, kernel_size=3, stride=2, padding=1, output_padding=1),\n",
        "\n",
        "\n",
        "                                      nn.Conv2d(128, 1, 3, 1, 1)\n",
        "                                      )\n",
        "\n",
        "    def forward(self, x):\n",
        "        encoded = self.encoder(x)\n",
        "        # print(encoded.shape)\n",
        "        middle_block = self.middle_block(encoded)\n",
        "        # print(middle_block.shape)\n",
        "        decoded = self.decoder(middle_block)\n",
        "        # print(decoded.shape)\n",
        "        return decoded"
      ]
    },
    {
      "cell_type": "markdown",
      "metadata": {
        "id": "DkTmz1lau3J6"
      },
      "source": [
        "# **Training**"
      ]
    },
    {
      "cell_type": "code",
      "execution_count": null,
      "metadata": {
        "id": "lLrjmxILutFD"
      },
      "outputs": [],
      "source": [
        "model = Autoencoder().to(device)\n",
        "optimizer = torch.optim.Adam(model.parameters(), lr=1e-3, weight_decay=1e-5)"
      ]
    },
    {
      "cell_type": "code",
      "execution_count": null,
      "metadata": {
        "colab": {
          "base_uri": "https://localhost:8080/"
        },
        "id": "ue2q-SbzwNVH",
        "outputId": "187e36a0-c84c-4bd3-97dc-27a42c5420c7"
      },
      "outputs": [
        {
          "metadata": {
            "tags": null
          },
          "name": "stderr",
          "output_type": "stream",
          "text": [
            "100%|██████████| 938/938 [01:58<00:00,  7.90it/s]\n"
          ]
        },
        {
          "metadata": {
            "tags": null
          },
          "name": "stdout",
          "output_type": "stream",
          "text": [
            "Finished epoch:1 | KL Loss : 0.020542046072324918 \n"
          ]
        },
        {
          "output_type": "stream",
          "name": "stderr",
          "text": [
            " 32%|███▏      | 304/938 [00:37<01:19,  7.98it/s]"
          ]
        }
      ],
      "source": [
        "for epoch_idx in range(20): # Run training for 10 epochs\n",
        "\n",
        "    losses = []\n",
        "\n",
        "    for im, _ in tqdm(mnist_loader):\n",
        "\n",
        "        im = im.float().to(device)\n",
        "        optimizer.zero_grad()\n",
        "\n",
        "        # passing to model\n",
        "        out = model(im)\n",
        "\n",
        "        # loss calculation\n",
        "        loss = nn.MSELoss()(im, out)\n",
        "\n",
        "        # housekeeping\n",
        "        losses.append(loss.item())\n",
        "\n",
        "        loss.backward()\n",
        "        optimizer.step()\n",
        "\n",
        "    print(f'''Finished epoch:{epoch_idx+1} | KL Loss : {np.mean(losses)} ''')"
      ]
    },
    {
      "cell_type": "markdown",
      "metadata": {
        "id": "pGzTPfwyu_OT"
      },
      "source": [
        "# **Inference**"
      ]
    },
    {
      "cell_type": "code",
      "execution_count": null,
      "metadata": {
        "id": "yDN58Y_wvA5v"
      },
      "outputs": [],
      "source": [
        "# Getting 100 random indexes\n",
        "idxs = torch.randint(0, len(mnist)-1, (10, ))\n",
        "\n",
        "# using these indexes to get images from mnist dataset and concatenating them\n",
        "test_ims = torch.cat([mnist[idx][0][None, :] for idx in idxs]).float()\n",
        "\n",
        "# generating images for the above test dataset\n",
        "generated_im = model(test_ims.to(device))"
      ]
    },
    {
      "cell_type": "code",
      "execution_count": null,
      "metadata": {
        "id": "TAYOSKLYxdLo"
      },
      "outputs": [],
      "source": [
        "generated_im = torch.clamp(generated_im, -1., 1.).detach().cpu() # clamping the generated images\n",
        "generated_im = 0.5*generated_im + 0.5 #detransforming the images from [-1,1] to [0,1]"
      ]
    },
    {
      "cell_type": "code",
      "execution_count": null,
      "metadata": {
        "colab": {
          "base_uri": "https://localhost:8080/",
          "height": 453
        },
        "id": "oVFVVr1OxdEF",
        "outputId": "410595d8-400c-4e86-b243-44749539333b"
      },
      "outputs": [
        {
          "data": {
            "text/plain": [
              "<matplotlib.image.AxesImage at 0x7f4db62dd570>"
            ]
          },
          "execution_count": 14,
          "metadata": {},
          "output_type": "execute_result"
        },
        {
          "data": {
            "image/png": "[encoded data removed]",
            "text/plain": [
              "<Figure size 640x480 with 1 Axes>"
            ]
          },
          "metadata": {},
          "output_type": "display_data"
        }
      ],
      "source": [
        "# now printing the predicted images\n",
        "grid = torchvision.utils.make_grid(generated_im, nrow=1)\n",
        "img = torchvision.transforms.ToPILImage()(grid)\n",
        "plt.imshow(img, cmap='gray')"
      ]
    }
  ],
  "metadata": {
    "accelerator": "GPU",
    "colab": {
      "gpuType": "T4",
      "provenance": []
    },
    "kernelspec": {
      "display_name": "Python 3",
      "name": "python3"
    },
    "language_info": {
      "name": "python"
    }
  },
  "nbformat": 4,
  "nbformat_minor": 0
}