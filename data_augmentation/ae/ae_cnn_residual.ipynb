{
  "cells": [
    {
      "cell_type": "markdown",
      "metadata": {
        "id": "rLf3vpVzjyTb"
      },
      "source": [
        "[![Open In Colab](https://colab.research.google.com/assets/colab-badge.svg)](https://colab.research.google.com/github/khetansarvesh/CV/blob/main/data_augmentation/ae/ae_cnn_residual.ipynb)\n"
      ]
    },
    {
      "cell_type": "code",
      "execution_count": 23,
      "metadata": {
        "id": "VwgOfPNhvKyC"
      },
      "outputs": [],
      "source": [
        "import torch\n",
        "import cv2\n",
        "import torchvision\n",
        "import torch.nn as nn\n",
        "import numpy as np\n",
        "from tqdm import tqdm\n",
        "from torch.optim import Adam\n",
        "from matplotlib import pyplot as plt"
      ]
    },
    {
      "cell_type": "code",
      "execution_count": 24,
      "metadata": {
        "colab": {
          "base_uri": "https://localhost:8080/"
        },
        "id": "uiozVcOCvNkm",
        "outputId": "38d312f3-253e-4a8c-c99e-bc4e344de8d1"
      },
      "outputs": [
        {
          "output_type": "stream",
          "name": "stdout",
          "text": [
            "cuda\n"
          ]
        }
      ],
      "source": [
        "device = torch.device('cuda' if torch.cuda.is_available() else 'cpu')\n",
        "print(device)"
      ]
    },
    {
      "cell_type": "code",
      "execution_count": 25,
      "metadata": {
        "colab": {
          "base_uri": "https://localhost:8080/"
        },
        "id": "9-zXA3UUj_jR",
        "outputId": "958c396b-5e7f-4320-bf34-6a45a1a93465"
      },
      "outputs": [
        {
          "output_type": "stream",
          "name": "stdout",
          "text": [
            "fatal: destination path 'CV' already exists and is not an empty directory.\n"
          ]
        }
      ],
      "source": [
        "!git clone https://github.com/khetansarvesh/CV.git"
      ]
    },
    {
      "cell_type": "markdown",
      "metadata": {
        "id": "_UJnbj-ju7g6"
      },
      "source": [
        "# **Dataset**"
      ]
    },
    {
      "cell_type": "code",
      "execution_count": 26,
      "metadata": {
        "id": "JPmRsYhTu-z-"
      },
      "outputs": [],
      "source": [
        "from torchvision import datasets, transforms\n",
        "from torch.utils.data.dataset import Dataset\n",
        "from torch.utils.data import DataLoader"
      ]
    },
    {
      "cell_type": "code",
      "execution_count": 27,
      "metadata": {
        "id": "C_UpHpAnvRvb"
      },
      "outputs": [],
      "source": [
        "transform = transforms.Compose([transforms.ToTensor(), transforms.Normalize((0.5,), (0.5,))]) # Define the transformation to normalize the data between 1 and -1 (mean = 0.5 and variance = 0.5 will transform to values between 1 and -1)\n",
        "mnist = datasets.MNIST(root='./data', train=True, transform=transform, download=True) # downloading the MNIST train dataset and then applying some transformations\n",
        "mnist_loader = DataLoader(dataset=mnist, batch_size=64, shuffle=True, num_workers=0) # loading the downloaded dataset"
      ]
    },
    {
      "cell_type": "markdown",
      "metadata": {
        "id": "QxTVYPbduxty"
      },
      "source": [
        "# **Modelling**"
      ]
    },
    {
      "cell_type": "code",
      "execution_count": 28,
      "metadata": {
        "id": "OcwBwDpHkNuo"
      },
      "outputs": [],
      "source": [
        "from CV.representation_learning.residual_block_utils import ResidualBlock"
      ]
    },
    {
      "cell_type": "code",
      "execution_count": 33,
      "metadata": {
        "id": "Um4RsSq0u-Kn"
      },
      "outputs": [],
      "source": [
        "class Autoencoder(nn.Module):\n",
        "    def __init__(self):\n",
        "        super().__init__()\n",
        "        self.encoder = nn.Sequential(\n",
        "                                      nn.Conv2d(1, 128, 3, 1, 1), nn.GroupNorm(num_groups=32, num_channels=128, eps=1e-6, affine=True),nn.ReLU(),\n",
        "                                      ResidualBlock(128, 256),\n",
        "                                      nn.Conv2d(256, 256, kernel_size=3, stride=2, padding=1), nn.GroupNorm(num_groups=32, num_channels=256, eps=1e-6, affine=True),nn.ReLU(),\n",
        "                                      nn.Conv2d(256, 256, kernel_size=3, stride=2, padding=1), nn.GroupNorm(num_groups=32, num_channels=256, eps=1e-6, affine=True),nn.ReLU(),\n",
        "                                    )\n",
        "\n",
        "        self.middle_block = nn.Sequential(\n",
        "                                            ResidualBlock(256, 256),\n",
        "                                            nn.Conv2d(256, 512, 3, 1, 1), nn.GroupNorm(num_groups=32, num_channels=512, eps=1e-6, affine=True),nn.ReLU(),\n",
        "                                            ResidualBlock(512, 256),\n",
        "                                          )\n",
        "\n",
        "        self.decoder = nn.Sequential(\n",
        "                                      nn.ConvTranspose2d(256, 256, kernel_size=3, stride=2, padding=1, output_padding=1), nn.GroupNorm(num_groups=32, num_channels=256, eps=1e-6, affine=True),nn.ReLU(),\n",
        "                                      nn.ConvTranspose2d(256, 128, kernel_size=3, stride=2, padding=1, output_padding=1), nn.GroupNorm(num_groups=32, num_channels=128, eps=1e-6, affine=True),nn.ReLU(),\n",
        "                                      ResidualBlock(128, 128),\n",
        "                                      nn.Conv2d(128, 1, 3, 1, 1)\n",
        "                                      )\n",
        "\n",
        "    def forward(self, x):\n",
        "        encoded = self.encoder(x)\n",
        "        # print(encoded.shape)\n",
        "        middle_block = self.middle_block(encoded)\n",
        "        # print(middle_block.shape)\n",
        "        decoded = self.decoder(middle_block)\n",
        "        # print(decoded.shape)\n",
        "        return decoded"
      ]
    },
    {
      "cell_type": "markdown",
      "metadata": {
        "id": "DkTmz1lau3J6"
      },
      "source": [
        "# **Training**"
      ]
    },
    {
      "cell_type": "code",
      "execution_count": 34,
      "metadata": {
        "id": "lLrjmxILutFD"
      },
      "outputs": [],
      "source": [
        "model = Autoencoder().to(device)\n",
        "optimizer = torch.optim.Adam(model.parameters(), lr=1e-3, weight_decay=1e-5)"
      ]
    },
    {
      "cell_type": "code",
      "execution_count": 35,
      "metadata": {
        "colab": {
          "base_uri": "https://localhost:8080/"
        },
        "id": "ue2q-SbzwNVH",
        "outputId": "8802a018-d933-4a33-fd5f-afa449512001"
      },
      "outputs": [
        {
          "output_type": "stream",
          "name": "stderr",
          "text": [
            "100%|██████████| 938/938 [01:42<00:00,  9.13it/s]\n"
          ]
        },
        {
          "output_type": "stream",
          "name": "stdout",
          "text": [
            "Finished epoch:1 | KL Loss : 0.052916105133918194 \n"
          ]
        },
        {
          "output_type": "stream",
          "name": "stderr",
          "text": [
            "100%|██████████| 938/938 [01:42<00:00,  9.18it/s]\n"
          ]
        },
        {
          "output_type": "stream",
          "name": "stdout",
          "text": [
            "Finished epoch:2 | KL Loss : 0.0034093323943348154 \n"
          ]
        },
        {
          "output_type": "stream",
          "name": "stderr",
          "text": [
            "100%|██████████| 938/938 [01:42<00:00,  9.19it/s]\n"
          ]
        },
        {
          "output_type": "stream",
          "name": "stdout",
          "text": [
            "Finished epoch:3 | KL Loss : 0.0020236711723725996 \n"
          ]
        },
        {
          "output_type": "stream",
          "name": "stderr",
          "text": [
            "100%|██████████| 938/938 [01:42<00:00,  9.18it/s]\n"
          ]
        },
        {
          "output_type": "stream",
          "name": "stdout",
          "text": [
            "Finished epoch:4 | KL Loss : 0.001490627512718533 \n"
          ]
        },
        {
          "output_type": "stream",
          "name": "stderr",
          "text": [
            "100%|██████████| 938/938 [01:42<00:00,  9.18it/s]\n"
          ]
        },
        {
          "output_type": "stream",
          "name": "stdout",
          "text": [
            "Finished epoch:5 | KL Loss : 0.0010128606351026432 \n"
          ]
        },
        {
          "output_type": "stream",
          "name": "stderr",
          "text": [
            "100%|██████████| 938/938 [01:42<00:00,  9.18it/s]\n"
          ]
        },
        {
          "output_type": "stream",
          "name": "stdout",
          "text": [
            "Finished epoch:6 | KL Loss : 0.001107903546994991 \n"
          ]
        },
        {
          "output_type": "stream",
          "name": "stderr",
          "text": [
            "100%|██████████| 938/938 [01:41<00:00,  9.23it/s]\n"
          ]
        },
        {
          "output_type": "stream",
          "name": "stdout",
          "text": [
            "Finished epoch:7 | KL Loss : 0.0007025807508456606 \n"
          ]
        },
        {
          "output_type": "stream",
          "name": "stderr",
          "text": [
            "100%|██████████| 938/938 [01:40<00:00,  9.31it/s]\n"
          ]
        },
        {
          "output_type": "stream",
          "name": "stdout",
          "text": [
            "Finished epoch:8 | KL Loss : 0.003124875536873323 \n"
          ]
        },
        {
          "output_type": "stream",
          "name": "stderr",
          "text": [
            "100%|██████████| 938/938 [01:40<00:00,  9.29it/s]\n"
          ]
        },
        {
          "output_type": "stream",
          "name": "stdout",
          "text": [
            "Finished epoch:9 | KL Loss : 0.0004834396683685194 \n"
          ]
        },
        {
          "output_type": "stream",
          "name": "stderr",
          "text": [
            "100%|██████████| 938/938 [01:40<00:00,  9.29it/s]\n"
          ]
        },
        {
          "output_type": "stream",
          "name": "stdout",
          "text": [
            "Finished epoch:10 | KL Loss : 0.0004679054281194516 \n"
          ]
        },
        {
          "output_type": "stream",
          "name": "stderr",
          "text": [
            "100%|██████████| 938/938 [01:40<00:00,  9.32it/s]\n"
          ]
        },
        {
          "output_type": "stream",
          "name": "stdout",
          "text": [
            "Finished epoch:11 | KL Loss : 0.0004220378954480561 \n"
          ]
        },
        {
          "output_type": "stream",
          "name": "stderr",
          "text": [
            "100%|██████████| 938/938 [01:40<00:00,  9.37it/s]\n"
          ]
        },
        {
          "output_type": "stream",
          "name": "stdout",
          "text": [
            "Finished epoch:12 | KL Loss : 0.00035920168962210483 \n"
          ]
        },
        {
          "output_type": "stream",
          "name": "stderr",
          "text": [
            "100%|██████████| 938/938 [01:39<00:00,  9.43it/s]\n"
          ]
        },
        {
          "output_type": "stream",
          "name": "stdout",
          "text": [
            "Finished epoch:13 | KL Loss : 0.003106542221767687 \n"
          ]
        },
        {
          "output_type": "stream",
          "name": "stderr",
          "text": [
            "100%|██████████| 938/938 [01:38<00:00,  9.49it/s]\n"
          ]
        },
        {
          "output_type": "stream",
          "name": "stdout",
          "text": [
            "Finished epoch:14 | KL Loss : 0.0009378999559968801 \n"
          ]
        },
        {
          "output_type": "stream",
          "name": "stderr",
          "text": [
            "100%|██████████| 938/938 [01:38<00:00,  9.51it/s]\n"
          ]
        },
        {
          "output_type": "stream",
          "name": "stdout",
          "text": [
            "Finished epoch:15 | KL Loss : 0.00036561163644969607 \n"
          ]
        },
        {
          "output_type": "stream",
          "name": "stderr",
          "text": [
            "100%|██████████| 938/938 [01:38<00:00,  9.50it/s]\n"
          ]
        },
        {
          "output_type": "stream",
          "name": "stdout",
          "text": [
            "Finished epoch:16 | KL Loss : 0.0003202689474178374 \n"
          ]
        },
        {
          "output_type": "stream",
          "name": "stderr",
          "text": [
            "100%|██████████| 938/938 [01:38<00:00,  9.51it/s]\n"
          ]
        },
        {
          "output_type": "stream",
          "name": "stdout",
          "text": [
            "Finished epoch:17 | KL Loss : 0.00029329163794645786 \n"
          ]
        },
        {
          "output_type": "stream",
          "name": "stderr",
          "text": [
            "100%|██████████| 938/938 [01:38<00:00,  9.53it/s]\n"
          ]
        },
        {
          "output_type": "stream",
          "name": "stdout",
          "text": [
            "Finished epoch:18 | KL Loss : 0.0002868392200976573 \n"
          ]
        },
        {
          "output_type": "stream",
          "name": "stderr",
          "text": [
            "100%|██████████| 938/938 [01:38<00:00,  9.57it/s]\n"
          ]
        },
        {
          "output_type": "stream",
          "name": "stdout",
          "text": [
            "Finished epoch:19 | KL Loss : 0.0013852095731763916 \n"
          ]
        },
        {
          "output_type": "stream",
          "name": "stderr",
          "text": [
            "100%|██████████| 938/938 [01:37<00:00,  9.61it/s]"
          ]
        },
        {
          "output_type": "stream",
          "name": "stdout",
          "text": [
            "Finished epoch:20 | KL Loss : 0.0003146821525036496 \n"
          ]
        },
        {
          "output_type": "stream",
          "name": "stderr",
          "text": [
            "\n"
          ]
        }
      ],
      "source": [
        "for epoch_idx in range(20): # Run training for 10 epochs\n",
        "\n",
        "    losses = []\n",
        "\n",
        "    for im, _ in tqdm(mnist_loader):\n",
        "\n",
        "        im = im.float().to(device)\n",
        "        optimizer.zero_grad()\n",
        "\n",
        "        # passing to model\n",
        "        out = model(im)\n",
        "\n",
        "        # loss calculation\n",
        "        loss = nn.MSELoss()(im, out)\n",
        "\n",
        "        # housekeeping\n",
        "        losses.append(loss.item())\n",
        "\n",
        "        loss.backward()\n",
        "        optimizer.step()\n",
        "\n",
        "    print(f'''Finished epoch:{epoch_idx+1} | KL Loss : {np.mean(losses)} ''')"
      ]
    },
    {
      "cell_type": "markdown",
      "metadata": {
        "id": "pGzTPfwyu_OT"
      },
      "source": [
        "# **Inference**"
      ]
    },
    {
      "cell_type": "code",
      "execution_count": 36,
      "metadata": {
        "id": "yDN58Y_wvA5v"
      },
      "outputs": [],
      "source": [
        "# Getting 100 random indexes\n",
        "idxs = torch.randint(0, len(mnist)-1, (10, ))\n",
        "\n",
        "# using these indexes to get images from mnist dataset and concatenating them\n",
        "test_ims = torch.cat([mnist[idx][0][None, :] for idx in idxs]).float()\n",
        "\n",
        "# generating images for the above test dataset\n",
        "generated_im = model(test_ims.to(device))"
      ]
    },
    {
      "cell_type": "code",
      "execution_count": 37,
      "metadata": {
        "id": "TAYOSKLYxdLo"
      },
      "outputs": [],
      "source": [
        "generated_im = torch.clamp(generated_im, -1., 1.).detach().cpu() # clamping the generated images\n",
        "generated_im = 0.5*generated_im + 0.5 #detransforming the images from [-1,1] to [0,1]"
      ]
    },
    {
      "cell_type": "code",
      "execution_count": 38,
      "metadata": {
        "colab": {
          "base_uri": "https://localhost:8080/",
          "height": 452
        },
        "id": "oVFVVr1OxdEF",
        "outputId": "925bcadb-90a1-4940-d11b-9cbcdf77ad11"
      },
      "outputs": [
        {
          "output_type": "execute_result",
          "data": {
            "text/plain": [
              "<matplotlib.image.AxesImage at 0x7ac6efd2bd60>"
            ]
          },
          "metadata": {},
          "execution_count": 38
        },
        {
          "output_type": "display_data",
          "data": {
            "text/plain": [
              "<Figure size 640x480 with 1 Axes>"
            ],
            "image/png": "[encoded data removed]"
          },
          "metadata": {}
        }
      ],
      "source": [
        "# now printing the predicted images\n",
        "grid = torchvision.utils.make_grid(generated_im, nrow=1)\n",
        "img = torchvision.transforms.ToPILImage()(grid)\n",
        "plt.imshow(img, cmap='gray')"
      ]
    }
  ],
  "metadata": {
    "accelerator": "GPU",
    "colab": {
      "gpuType": "T4",
      "provenance": []
    },
    "kernelspec": {
      "display_name": "Python 3",
      "name": "python3"
    },
    "language_info": {
      "name": "python"
    }
  },
  "nbformat": 4,
  "nbformat_minor": 0
}