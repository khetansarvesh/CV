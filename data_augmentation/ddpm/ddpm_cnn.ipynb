{
  "cells": [
    {
      "cell_type": "markdown",
      "metadata": {
        "id": "cAlu_3SWMg7T"
      },
      "source": [
        "[![Open In Colab](https://colab.research.google.com/assets/colab-badge.svg)](https://colab.research.google.com/github/khetansarvesh/CV/blob/main/data_augmentation/ddpm/ddpm_cnn.ipynb)"
      ]
    },
    {
      "cell_type": "code",
      "execution_count": null,
      "metadata": {
        "id": "eqV5stpLOf5_"
      },
      "outputs": [],
      "source": [
        "import os\n",
        "import torch\n",
        "import torch.nn as nn\n",
        "import torchvision\n",
        "from matplotlib import pyplot as plt\n",
        "from tqdm import tqdm\n",
        "from torch import optim\n",
        "from torch.utils.tensorboard import SummaryWriter\n",
        "from PIL import Image\n",
        "from torch.utils.data import DataLoader\n",
        "import torch.nn.functional as F\n",
        "from torch.optim import Adam\n",
        "from torchvision.utils import make_grid"
      ]
    },
    {
      "cell_type": "code",
      "execution_count": null,
      "metadata": {
        "id": "Tn_tgB-y3-cD"
      },
      "outputs": [],
      "source": [
        "device = torch.device('cuda' if torch.cuda.is_available() else 'cpu')"
      ]
    },
    {
      "cell_type": "markdown",
      "metadata": {
        "id": "KK3CuUmjPe1k"
      },
      "source": [
        "# **Dataset**"
      ]
    },
    {
      "cell_type": "code",
      "execution_count": null,
      "metadata": {
        "id": "Tm5iBa-WDMjX"
      },
      "outputs": [],
      "source": [
        "from torchvision import datasets, transforms\n",
        "from torch.utils.data.dataset import Dataset\n",
        "from torch.utils.data import DataLoader"
      ]
    },
    {
      "cell_type": "code",
      "execution_count": null,
      "metadata": {
        "colab": {
          "base_uri": "https://localhost:8080/"
        },
        "id": "5Gq3GuRbDNDG",
        "outputId": "5ba4c31c-9ccc-4428-c857-bca9758ee928"
      },
      "outputs": [
        {
          "name": "stdout",
          "output_type": "stream",
          "text": [
            "Downloading http://yann.lecun.com/exdb/mnist/train-images-idx3-ubyte.gz\n",
            "Failed to download (trying next):\n",
            "HTTP Error 403: Forbidden\n",
            "\n",
            "Downloading https://ossci-datasets.s3.amazonaws.com/mnist/train-images-idx3-ubyte.gz\n",
            "Downloading https://ossci-datasets.s3.amazonaws.com/mnist/train-images-idx3-ubyte.gz to ./data/MNIST/raw/train-images-idx3-ubyte.gz\n"
          ]
        },
        {
          "name": "stderr",
          "output_type": "stream",
          "text": [
            "100%|██████████| 9912422/9912422 [00:00<00:00, 17363452.82it/s]\n"
          ]
        },
        {
          "name": "stdout",
          "output_type": "stream",
          "text": [
            "Extracting ./data/MNIST/raw/train-images-idx3-ubyte.gz to ./data/MNIST/raw\n",
            "\n",
            "Downloading http://yann.lecun.com/exdb/mnist/train-labels-idx1-ubyte.gz\n",
            "Failed to download (trying next):\n",
            "HTTP Error 403: Forbidden\n",
            "\n",
            "Downloading https://ossci-datasets.s3.amazonaws.com/mnist/train-labels-idx1-ubyte.gz\n",
            "Downloading https://ossci-datasets.s3.amazonaws.com/mnist/train-labels-idx1-ubyte.gz to ./data/MNIST/raw/train-labels-idx1-ubyte.gz\n"
          ]
        },
        {
          "name": "stderr",
          "output_type": "stream",
          "text": [
            "100%|██████████| 28881/28881 [00:00<00:00, 484014.23it/s]\n"
          ]
        },
        {
          "name": "stdout",
          "output_type": "stream",
          "text": [
            "Extracting ./data/MNIST/raw/train-labels-idx1-ubyte.gz to ./data/MNIST/raw\n",
            "\n",
            "Downloading http://yann.lecun.com/exdb/mnist/t10k-images-idx3-ubyte.gz\n",
            "Failed to download (trying next):\n",
            "HTTP Error 403: Forbidden\n",
            "\n",
            "Downloading https://ossci-datasets.s3.amazonaws.com/mnist/t10k-images-idx3-ubyte.gz\n",
            "Downloading https://ossci-datasets.s3.amazonaws.com/mnist/t10k-images-idx3-ubyte.gz to ./data/MNIST/raw/t10k-images-idx3-ubyte.gz\n"
          ]
        },
        {
          "name": "stderr",
          "output_type": "stream",
          "text": [
            "100%|██████████| 1648877/1648877 [00:00<00:00, 4394555.01it/s]\n"
          ]
        },
        {
          "name": "stdout",
          "output_type": "stream",
          "text": [
            "Extracting ./data/MNIST/raw/t10k-images-idx3-ubyte.gz to ./data/MNIST/raw\n",
            "\n",
            "Downloading http://yann.lecun.com/exdb/mnist/t10k-labels-idx1-ubyte.gz\n",
            "Failed to download (trying next):\n",
            "HTTP Error 403: Forbidden\n",
            "\n",
            "Downloading https://ossci-datasets.s3.amazonaws.com/mnist/t10k-labels-idx1-ubyte.gz\n",
            "Downloading https://ossci-datasets.s3.amazonaws.com/mnist/t10k-labels-idx1-ubyte.gz to ./data/MNIST/raw/t10k-labels-idx1-ubyte.gz\n"
          ]
        },
        {
          "name": "stderr",
          "output_type": "stream",
          "text": [
            "100%|██████████| 4542/4542 [00:00<00:00, 7553738.61it/s]"
          ]
        },
        {
          "name": "stdout",
          "output_type": "stream",
          "text": [
            "Extracting ./data/MNIST/raw/t10k-labels-idx1-ubyte.gz to ./data/MNIST/raw\n",
            "\n"
          ]
        },
        {
          "name": "stderr",
          "output_type": "stream",
          "text": [
            "\n",
            "/usr/local/lib/python3.10/dist-packages/torch/utils/data/dataloader.py:558: UserWarning: This DataLoader will create 4 worker processes in total. Our suggested max number of worker in current system is 2, which is smaller than what this DataLoader is going to create. Please be aware that excessive worker creation might get DataLoader running slow or even freeze, lower the worker number to avoid potential slowness/freeze if necessary.\n",
            "  warnings.warn(_create_warning_msg(\n"
          ]
        }
      ],
      "source": [
        "transform = transforms.Compose([transforms.ToTensor(), transforms.Normalize((0.5,), (0.5,))]) # Define the transformation to normalize the data between 1 and -1 (mean = 0.5 and variance = 0.5 will transform to values between 1 and -1)\n",
        "# transforms = torchvision.transforms.Compose([\n",
        "#       torchvision.transforms.Resize(80),  # args.image_size + 1/4 *args.image_size\n",
        "#       torchvision.transforms.RandomResizedCrop(64, scale=(0.8, 1.0)),\n",
        "#       torchvision.transforms.ToTensor(),\n",
        "#       torchvision.transforms.Normalize((0.5, 0.5, 0.5), (0.5, 0.5, 0.5))\n",
        "#   ])\n",
        "mnist = datasets.MNIST(root='./data', train=True, transform=transform, download=True) # downloading the MNIST train dataset and then applying some transformations\n",
        "mnist_loader = DataLoader(dataset=mnist, batch_size=64, shuffle=True, num_workers=4) # loading the downloaded dataset"
      ]
    },
    {
      "cell_type": "markdown",
      "metadata": {
        "id": "9cT3anjwurX9"
      },
      "source": [
        "# **Modelling**"
      ]
    },
    {
      "cell_type": "code",
      "execution_count": null,
      "metadata": {
        "id": "-eu6NQ5jlvWx"
      },
      "outputs": [],
      "source": [
        "def get_time_embedding(time_steps, # 1D array of timesteps eg [1,10,500,40,300]\n",
        "                       temb_dim): # dimension of vector to which each of these timestep needs to be converted to eg 128\n",
        "\n",
        "    # factor = 10000^(2i/d_model)\n",
        "    factor = 10000 ** ((torch.arange(start=0, end=temb_dim // 2, dtype=torch.float32, device=time_steps.device) / (temb_dim // 2)))\n",
        "\n",
        "    # pos / factor\n",
        "    t_emb = time_steps[:, None].repeat(1, temb_dim // 2) / factor\n",
        "\n",
        "    # now taking sin and cos of t_emb\n",
        "    return torch.cat([torch.sin(t_emb), torch.cos(t_emb)], dim=-1)"
      ]
    },
    {
      "cell_type": "code",
      "execution_count": null,
      "metadata": {
        "id": "UOQOADvviL0v"
      },
      "outputs": [],
      "source": [
        "!git clone https://github.com/khetansarvesh/CV.git\n",
        "from CV.representation_learning.residual_block_utils import ResidualBlock"
      ]
    },
    {
      "cell_type": "code",
      "execution_count": null,
      "metadata": {
        "id": "eJNhWiyAlwv1"
      },
      "outputs": [],
      "source": [
        "class ResidualBlock(nn.Module):\n",
        "\n",
        "    def __init__(self, in_channels, out_channels):\n",
        "        super().__init__()\n",
        "        self.resnet_conv_first = nn.Sequential(nn.GroupNorm(8, in_channels), nn.SiLU(), nn.Conv2d(in_channels, out_channels, kernel_size=3, stride=1, padding=1))\n",
        "        #self.t_emb_layers = nn.Linear(128, out_channels)\n",
        "        self.resnet_conv_second = nn.Sequential(nn.GroupNorm(8, out_channels), nn.SiLU(), nn.Conv2d(out_channels, out_channels, kernel_size=3, stride=1, padding=1))\n",
        "        self.residual_input_conv = nn.Conv2d(in_channels, out_channels, kernel_size=1)\n",
        "\n",
        "    def forward(self, x):\n",
        "        out = self.resnet_conv_first(x)\n",
        "        out = self.resnet_conv_second(out)\n",
        "        out = out + self.residual_input_conv(x)\n",
        "        return out"
      ]
    },
    {
      "cell_type": "code",
      "execution_count": null,
      "metadata": {
        "id": "2HKZ9V0qltJJ"
      },
      "outputs": [],
      "source": [
        "class Unet(nn.Module):\n",
        "\n",
        "    def __init__(self):\n",
        "        super().__init__()\n",
        "\n",
        "        '''encoder'''\n",
        "        self.en_1 = nn.Conv2d(1, 32, kernel_size=3, padding=(1, 1))\n",
        "        self.ti_1 = nn.Linear(128, 32)\n",
        "        self.en_2 = ResidualBlock(32, 128, norm_num_groups = 8)\n",
        "        self.en_3 = nn.Conv2d(128, 128, kernel_size=4, stride=2, padding=1)\n",
        "        self.ti_3 = nn.Linear(128, 128)\n",
        "        self.en_4 = ResidualBlock(128, 256, norm_num_groups = 8)\n",
        "\n",
        "        '''mid block'''\n",
        "        self.mid_layer_1 = ResidualBlock(256,256, norm_num_groups=8)\n",
        "        self.mid_layer_2 = ResidualBlock(256,256, norm_num_groups=8)\n",
        "        self.mid_layer_3 = ResidualBlock(256,128, norm_num_groups=8)\n",
        "        self.mid_layer_4 = ResidualBlock(128,128, norm_num_groups=8)\n",
        "\n",
        "        '''decoder'''\n",
        "        self.de_2 = ResidualBlock(256, 32, norm_num_groups=8)\n",
        "        self.ti_4 = nn.Linear(128, 32)\n",
        "        self.de_3 = nn.ConvTranspose2d(32, 32,kernel_size=4, stride=2, padding=1)\n",
        "        self.de_4 = ResidualBlock(64, 16, norm_num_groups=8)\n",
        "        self.de_5 = nn.Sequential(nn.GroupNorm(8, 16), nn.SiLU(), nn.Conv2d(16, 1, kernel_size=3, padding=1))\n",
        "\n",
        "    def forward(self, x, t):\n",
        "\n",
        "        down_outs = []\n",
        "\n",
        "        t_emb = get_time_embedding(torch.as_tensor(t).long(), 128)\n",
        "\n",
        "        # encoder\n",
        "        out = self.en_1(x) + self.ti_1(t_emb)[:, :, None, None]\n",
        "        down_outs.append(out)\n",
        "        out = self.en_2(out)\n",
        "        out = self.en_3(out) + self.ti_3(t_emb)[:, :, None, None]\n",
        "        down_outs.append(out)\n",
        "        out = self.en_4(out)\n",
        "\n",
        "        # middle block\n",
        "        out = self.mid_layer_1(out)\n",
        "        out = self.mid_layer_2(out)\n",
        "        out = self.mid_layer_3(out)\n",
        "        out = self.mid_layer_4(out)\n",
        "\n",
        "        # decoder\n",
        "        down_out = down_outs.pop()\n",
        "        out = torch.cat([out, down_out], dim=1)\n",
        "        out = self.de_2(out)\n",
        "        out = self.de_3(out) + self.ti_4(t_emb)[:, :, None, None]\n",
        "        down_out = down_outs.pop()\n",
        "        out = torch.cat([out, down_out], dim=1)\n",
        "        out = self.de_4(out)\n",
        "        out = self.de_5(out)\n",
        "\n",
        "        return out"
      ]
    },
    {
      "cell_type": "markdown",
      "metadata": {
        "id": "lD79DmLuXed3"
      },
      "source": [
        "# **Training**"
      ]
    },
    {
      "cell_type": "code",
      "execution_count": null,
      "metadata": {
        "id": "cFSG78lRxUry"
      },
      "outputs": [],
      "source": [
        "batch_size = 64\n",
        "num_samples = 100\n",
        "num_grid_rows = 10\n",
        "\n",
        "model = Unet().to(device)\n",
        "model.train()\n",
        "optimizer = Adam(model.parameters(), lr = 0.0001)\n",
        "\n",
        "betas = torch.linspace(0.0001, 0.02, 1000).to(device) # creating a linear beta schedule for all the timestamps\n",
        "alpha_cum_prod = torch.cumprod(1. - betas, dim=0).to(device) # calculating alpha_bar for each timestamp\n",
        "sqrt_alpha_cum_prod = torch.sqrt(alpha_cum_prod).to(device) # calculating sqrt(alpha_bar) for each timestamp\n",
        "sqrt_one_minus_alpha_cum_prod = torch.sqrt(1 - alpha_cum_prod).to(device) # calculating sqrt(1-alpha_bar) for each timestamp"
      ]
    },
    {
      "cell_type": "code",
      "execution_count": null,
      "metadata": {
        "colab": {
          "base_uri": "https://localhost:8080/"
        },
        "id": "jUG0FOoW3HYr",
        "outputId": "268d0ca6-ca9e-4370-e777-92c0e9d27a9e"
      },
      "outputs": [
        {
          "name": "stderr",
          "output_type": "stream",
          "text": [
            "\r  0%|          | 0/938 [00:00<?, ?it/s]/usr/local/lib/python3.10/dist-packages/torch/utils/data/dataloader.py:558: UserWarning: This DataLoader will create 4 worker processes in total. Our suggested max number of worker in current system is 2, which is smaller than what this DataLoader is going to create. Please be aware that excessive worker creation might get DataLoader running slow or even freeze, lower the worker number to avoid potential slowness/freeze if necessary.\n",
            "  warnings.warn(_create_warning_msg(\n",
            "/usr/lib/python3.10/multiprocessing/popen_fork.py:66: RuntimeWarning: os.fork() was called. os.fork() is incompatible with multithreaded code, and JAX is multithreaded, so this will likely lead to a deadlock.\n",
            "  self.pid = os.fork()\n",
            "100%|█████████▉| 937/938 [01:21<00:00, 11.75it/s]/usr/lib/python3.10/multiprocessing/popen_fork.py:66: RuntimeWarning: os.fork() was called. os.fork() is incompatible with multithreaded code, and JAX is multithreaded, so this will likely lead to a deadlock.\n",
            "  self.pid = os.fork()\n",
            "100%|██████████| 938/938 [01:21<00:00, 11.54it/s]\n"
          ]
        },
        {
          "name": "stdout",
          "output_type": "stream",
          "text": [
            "\n"
          ]
        },
        {
          "name": "stderr",
          "output_type": "stream",
          "text": [
            "100%|██████████| 938/938 [01:20<00:00, 11.59it/s]\n"
          ]
        },
        {
          "name": "stdout",
          "output_type": "stream",
          "text": [
            "\n"
          ]
        },
        {
          "name": "stderr",
          "output_type": "stream",
          "text": [
            "100%|██████████| 938/938 [01:20<00:00, 11.59it/s]\n"
          ]
        },
        {
          "name": "stdout",
          "output_type": "stream",
          "text": [
            "\n"
          ]
        },
        {
          "name": "stderr",
          "output_type": "stream",
          "text": [
            "100%|██████████| 938/938 [01:20<00:00, 11.58it/s]\n"
          ]
        },
        {
          "name": "stdout",
          "output_type": "stream",
          "text": [
            "\n"
          ]
        },
        {
          "name": "stderr",
          "output_type": "stream",
          "text": [
            "100%|██████████| 938/938 [01:20<00:00, 11.60it/s]\n"
          ]
        },
        {
          "name": "stdout",
          "output_type": "stream",
          "text": [
            "\n"
          ]
        },
        {
          "name": "stderr",
          "output_type": "stream",
          "text": [
            "100%|██████████| 938/938 [01:20<00:00, 11.59it/s]\n"
          ]
        },
        {
          "name": "stdout",
          "output_type": "stream",
          "text": [
            "\n"
          ]
        },
        {
          "name": "stderr",
          "output_type": "stream",
          "text": [
            "100%|██████████| 938/938 [01:20<00:00, 11.61it/s]\n"
          ]
        },
        {
          "name": "stdout",
          "output_type": "stream",
          "text": [
            "\n"
          ]
        },
        {
          "name": "stderr",
          "output_type": "stream",
          "text": [
            "100%|██████████| 938/938 [01:20<00:00, 11.60it/s]\n"
          ]
        },
        {
          "name": "stdout",
          "output_type": "stream",
          "text": [
            "\n"
          ]
        },
        {
          "name": "stderr",
          "output_type": "stream",
          "text": [
            "100%|██████████| 938/938 [01:20<00:00, 11.59it/s]\n"
          ]
        },
        {
          "name": "stdout",
          "output_type": "stream",
          "text": [
            "\n"
          ]
        },
        {
          "name": "stderr",
          "output_type": "stream",
          "text": [
            "100%|██████████| 938/938 [01:20<00:00, 11.60it/s]\n"
          ]
        },
        {
          "name": "stdout",
          "output_type": "stream",
          "text": [
            "\n"
          ]
        },
        {
          "name": "stderr",
          "output_type": "stream",
          "text": [
            "100%|██████████| 938/938 [01:20<00:00, 11.60it/s]\n"
          ]
        },
        {
          "name": "stdout",
          "output_type": "stream",
          "text": [
            "\n"
          ]
        },
        {
          "name": "stderr",
          "output_type": "stream",
          "text": [
            "100%|██████████| 938/938 [01:20<00:00, 11.60it/s]\n"
          ]
        },
        {
          "name": "stdout",
          "output_type": "stream",
          "text": [
            "\n"
          ]
        },
        {
          "name": "stderr",
          "output_type": "stream",
          "text": [
            "100%|██████████| 938/938 [01:20<00:00, 11.62it/s]\n"
          ]
        },
        {
          "name": "stdout",
          "output_type": "stream",
          "text": [
            "\n"
          ]
        },
        {
          "name": "stderr",
          "output_type": "stream",
          "text": [
            "100%|██████████| 938/938 [01:20<00:00, 11.60it/s]\n"
          ]
        },
        {
          "name": "stdout",
          "output_type": "stream",
          "text": [
            "\n"
          ]
        },
        {
          "name": "stderr",
          "output_type": "stream",
          "text": [
            "100%|██████████| 938/938 [01:20<00:00, 11.59it/s]\n"
          ]
        },
        {
          "name": "stdout",
          "output_type": "stream",
          "text": [
            "\n"
          ]
        },
        {
          "name": "stderr",
          "output_type": "stream",
          "text": [
            "100%|██████████| 938/938 [01:20<00:00, 11.59it/s]\n"
          ]
        },
        {
          "name": "stdout",
          "output_type": "stream",
          "text": [
            "\n"
          ]
        },
        {
          "name": "stderr",
          "output_type": "stream",
          "text": [
            "100%|██████████| 938/938 [01:20<00:00, 11.58it/s]\n"
          ]
        },
        {
          "name": "stdout",
          "output_type": "stream",
          "text": [
            "\n"
          ]
        },
        {
          "name": "stderr",
          "output_type": "stream",
          "text": [
            "100%|██████████| 938/938 [01:21<00:00, 11.57it/s]\n"
          ]
        },
        {
          "name": "stdout",
          "output_type": "stream",
          "text": [
            "\n"
          ]
        },
        {
          "name": "stderr",
          "output_type": "stream",
          "text": [
            "100%|██████████| 938/938 [01:20<00:00, 11.59it/s]\n"
          ]
        },
        {
          "name": "stdout",
          "output_type": "stream",
          "text": [
            "\n"
          ]
        },
        {
          "name": "stderr",
          "output_type": "stream",
          "text": [
            "100%|██████████| 938/938 [01:20<00:00, 11.59it/s]"
          ]
        },
        {
          "name": "stdout",
          "output_type": "stream",
          "text": [
            "\n"
          ]
        },
        {
          "name": "stderr",
          "output_type": "stream",
          "text": [
            "\n"
          ]
        }
      ],
      "source": [
        "for epoch in range(20): # running for 40 epochs\n",
        "  losses = []\n",
        "  for im,_ in tqdm(mnist_loader):\n",
        "    optimizer.zero_grad()\n",
        "\n",
        "    im = im.float().to(device)\n",
        "    noise = torch.randn_like(im).to(device) # sample random noise\n",
        "    t = torch.randint(low = 0, high = 1000, size = (im.shape[0],)).to(device) # sample a random timestamp for each image in the batch\n",
        "    noisy_im = torch.sqrt(alpha_cum_prod[t])[:, None, None, None].to(device) * im + torch.sqrt(1 - alpha_cum_prod[t])[:, None, None, None].to(device) * noise # add noise to image according to the timestamp\n",
        "    noise_pred = model(noisy_im, t) # predicting the added noise\n",
        "\n",
        "    loss = torch.nn.MSELoss()(noise_pred, noise) # loss fucntion\n",
        "    losses.append(loss.item())\n",
        "    loss.backward() # backpropagating the loss\n",
        "    optimizer.step()\n",
        "  print()"
      ]
    },
    {
      "cell_type": "markdown",
      "metadata": {
        "id": "DbBa_irqrnkT"
      },
      "source": [
        "# **Inference**"
      ]
    },
    {
      "cell_type": "code",
      "execution_count": null,
      "metadata": {
        "id": "jJ0IZKEpNFPq"
      },
      "outputs": [],
      "source": [
        "model.eval()\n",
        "batch_size = 64\n",
        "num_epochs = 40\n",
        "num_samples = 100\n",
        "num_grid_rows = 10\n",
        "im_channels = 1\n",
        "im_size = 28"
      ]
    },
    {
      "cell_type": "code",
      "execution_count": null,
      "metadata": {
        "colab": {
          "base_uri": "https://localhost:8080/"
        },
        "id": "epLrrEch5FU6",
        "outputId": "bcdbd9c8-03a1-44bd-a7c6-55f568bc7216"
      },
      "outputs": [
        {
          "name": "stderr",
          "output_type": "stream",
          "text": [
            "1000it [00:52, 19.18it/s]\n"
          ]
        }
      ],
      "source": [
        "with torch.no_grad():\n",
        "    # creating a random noise sample based on number of images requested to generate\n",
        "    xt = torch.randn((num_samples, im_channels, im_size, im_size)).to(device)\n",
        "    for i in tqdm(reversed(range(1000))):\n",
        "\n",
        "        t = torch.as_tensor(i)\n",
        "        noise_pred = model(xt, t.unsqueeze(0).to(device)) # Get prediction of noise\n",
        "\n",
        "        # timestep\n",
        "        t = t.to(device)\n",
        "\n",
        "        # calculating Xt-1 using the derived formula\n",
        "        mean = (xt - ((betas[t])*noise_pred)/(sqrt_one_minus_alpha_cum_prod[t])) / torch.sqrt(1. - betas[t])\n",
        "        variance = ( (1-alpha_cum_prod[t-1]) / (1.0 - alpha_cum_prod[t]) ) * betas[t]\n",
        "        sigma = variance ** 0.5 if t != 0 else 0\n",
        "        xt = mean + sigma * torch.randn(xt.shape).to(xt.device)\n",
        "\n",
        "        # Save x0\n",
        "        ims = torch.clamp(xt, -1., 1.).detach().cpu()\n",
        "        ims = 0.5*ims + 0.5\n",
        "        grid = make_grid(ims, nrow= num_grid_rows)\n",
        "\n",
        "        # predicted image\n",
        "        img = torchvision.transforms.ToPILImage()(grid)"
      ]
    },
    {
      "cell_type": "code",
      "execution_count": null,
      "metadata": {
        "colab": {
          "base_uri": "https://localhost:8080/",
          "height": 319
        },
        "id": "NtAbqln6I3bV",
        "outputId": "b469343e-0f21-4c55-bd21-1c9c3ee47e4d"
      },
      "outputs": [
        {
          "data": {
            "image/png": "[encoded data removed]",
            "text/plain": [
              "<PIL.Image.Image image mode=RGB size=302x302>"
            ]
          },
          "execution_count": 29,
          "metadata": {},
          "output_type": "execute_result"
        }
      ],
      "source": [
        "img"
      ]
    }
  ],
  "metadata": {
    "accelerator": "GPU",
    "colab": {
      "collapsed_sections": [
        "KK3CuUmjPe1k",
        "9cT3anjwurX9",
        "6XE9dhdPW6xR",
        "lD79DmLuXed3",
        "DbBa_irqrnkT"
      ],
      "gpuType": "T4",
      "provenance": []
    },
    "kernelspec": {
      "display_name": "Python 3",
      "name": "python3"
    },
    "language_info": {
      "name": "python"
    }
  },
  "nbformat": 4,
  "nbformat_minor": 0
}
