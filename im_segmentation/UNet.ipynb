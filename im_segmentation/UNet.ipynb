{
  "cells": [
    {
      "cell_type": "markdown",
      "metadata": {
        "id": "u37tZInaeMmW"
      },
      "source": [
        "[![Open In Colab](https://colab.research.google.com/assets/colab-badge.svg)](https://colab.research.google.com/github/khetansarvesh/CV/blob/main/im_segmentation/UNet.ipynb)"
      ]
    },
    {
      "cell_type": "code",
      "execution_count": 1,
      "metadata": {
        "id": "8BE1LyK6Ju-g"
      },
      "outputs": [],
      "source": [
        "import torch\n",
        "from torch import optim, nn\n",
        "from torch.utils.data import DataLoader, random_split\n",
        "from tqdm import tqdm\n",
        "\n",
        "import os\n",
        "from PIL import Image\n",
        "from torch.utils.data.dataset import Dataset\n",
        "from torchvision import transforms\n",
        "\n",
        "import matplotlib.pyplot as plt"
      ]
    },
    {
      "cell_type": "code",
      "execution_count": 2,
      "metadata": {
        "id": "ETPkOFVhJvcK",
        "outputId": "86e8a2bc-0541-452c-90f5-23c7a39d67a3",
        "colab": {
          "base_uri": "https://localhost:8080/"
        }
      },
      "outputs": [
        {
          "output_type": "stream",
          "name": "stdout",
          "text": [
            "cpu\n"
          ]
        }
      ],
      "source": [
        "device = \"cuda\" if torch.cuda.is_available() else \"cpu\"\n",
        "print(device)"
      ]
    },
    {
      "cell_type": "markdown",
      "metadata": {
        "id": "sbyGwbIBKX0j"
      },
      "source": [
        "# **Dataset**\n",
        "download and upload the train.zip and train_masks.zip file from kaggle [link](https://www.kaggle.com/competitions/carvana-image-masking-challenge/data) here"
      ]
    },
    {
      "cell_type": "code",
      "source": [
        "# upzipping the two files\n",
        "!unzip train_masks.zip\n",
        "!unzip train.zip"
      ],
      "metadata": {
        "id": "MBAqigLfthbY"
      },
      "execution_count": null,
      "outputs": []
    },
    {
      "cell_type": "code",
      "source": [
        "# loading dataset\n",
        "class CarvanaDataset(Dataset):\n",
        "    def __init__(self, test=False):\n",
        "        self.images = sorted([\"train/\"+i for i in os.listdir(\"train/\")])\n",
        "        self.masks = sorted([\"train_masks/\"+i for i in os.listdir(\"train_masks/\")])\n",
        "\n",
        "        self.transform = transforms.Compose([\n",
        "            transforms.Resize((512, 512)),\n",
        "            transforms.ToTensor()])\n",
        "\n",
        "    def __getitem__(self, index):\n",
        "        img = Image.open(self.images[index]).convert(\"RGB\")\n",
        "        mask = Image.open(self.masks[index]).convert(\"L\")\n",
        "\n",
        "        return self.transform(img), self.transform(mask)\n",
        "\n",
        "    def __len__(self):\n",
        "        return len(self.images)\n",
        "\n",
        "dataset = CarvanaDataset()"
      ],
      "metadata": {
        "id": "uGC07k2WrF6e"
      },
      "execution_count": 19,
      "outputs": []
    },
    {
      "cell_type": "code",
      "source": [
        "# train and validation split\n",
        "generator = torch.Generator().manual_seed(42)\n",
        "train_dataset, val_dataset = random_split(dataset, [0.8, 0.2], generator=generator)\n",
        "print(train_dataset, val_dataset)"
      ],
      "metadata": {
        "id": "8N-080PmreeI",
        "outputId": "309535d4-bdcf-4b63-d69e-d3ee02f83e80",
        "colab": {
          "base_uri": "https://localhost:8080/"
        }
      },
      "execution_count": 20,
      "outputs": [
        {
          "output_type": "stream",
          "name": "stdout",
          "text": [
            "<torch.utils.data.dataset.Subset object at 0x785b7d5e2140> <torch.utils.data.dataset.Subset object at 0x785b7d5e3df0>\n"
          ]
        }
      ]
    },
    {
      "cell_type": "code",
      "execution_count": 21,
      "metadata": {
        "id": "PeFpANjYJ4z_"
      },
      "outputs": [],
      "source": [
        "# train and validation dataloader\n",
        "train_dataloader = DataLoader(dataset=train_dataset, batch_size=32, shuffle=True)\n",
        "val_dataloader = DataLoader(dataset=val_dataset, batch_size=32, shuffle=True)"
      ]
    },
    {
      "cell_type": "markdown",
      "metadata": {
        "id": "fOR_Zp5VKWad"
      },
      "source": [
        "# **Modelling**"
      ]
    },
    {
      "cell_type": "code",
      "execution_count": 22,
      "metadata": {
        "id": "0XvxJ3KpK8Kl"
      },
      "outputs": [],
      "source": [
        "class DoubleConv(nn.Module):\n",
        "    def __init__(self, in_channels, out_channels):\n",
        "        super().__init__()\n",
        "        self.conv_op = nn.Sequential(\n",
        "            nn.Conv2d(in_channels, out_channels, kernel_size=3, padding=1),\n",
        "            nn.ReLU(inplace=True),\n",
        "            nn.Conv2d(out_channels, out_channels, kernel_size=3, padding=1),\n",
        "            nn.ReLU(inplace=True)\n",
        "        )\n",
        "\n",
        "    def forward(self, x):\n",
        "        return self.conv_op(x)\n",
        "\n",
        "\n",
        "class DownSample(nn.Module):\n",
        "    def __init__(self, in_channels, out_channels):\n",
        "        super().__init__()\n",
        "        self.conv = DoubleConv(in_channels, out_channels)\n",
        "        self.pool = nn.MaxPool2d(kernel_size=2, stride=2)\n",
        "\n",
        "    def forward(self, x):\n",
        "        down = self.conv(x)\n",
        "        p = self.pool(down)\n",
        "\n",
        "        return down, p\n",
        "\n",
        "\n",
        "class UpSample(nn.Module):\n",
        "    def __init__(self, in_channels, out_channels):\n",
        "        super().__init__()\n",
        "        self.up = nn.ConvTranspose2d(in_channels, in_channels//2, kernel_size=2, stride=2)\n",
        "        self.conv = DoubleConv(in_channels, out_channels)\n",
        "\n",
        "    def forward(self, x1, x2):\n",
        "       x1 = self.up(x1)\n",
        "       x = torch.cat([x1, x2], 1)\n",
        "       return self.conv(x)"
      ]
    },
    {
      "cell_type": "code",
      "execution_count": 23,
      "metadata": {
        "id": "BnR_lexwK3b_"
      },
      "outputs": [],
      "source": [
        "class UNet(nn.Module):\n",
        "    def __init__(self, in_channels, num_classes):\n",
        "        super().__init__()\n",
        "        self.down_convolution_1 = DownSample(in_channels, 64)\n",
        "        self.down_convolution_2 = DownSample(64, 128)\n",
        "        self.down_convolution_3 = DownSample(128, 256)\n",
        "        self.down_convolution_4 = DownSample(256, 512)\n",
        "\n",
        "        self.bottle_neck = DoubleConv(512, 1024)\n",
        "\n",
        "        self.up_convolution_1 = UpSample(1024, 512)\n",
        "        self.up_convolution_2 = UpSample(512, 256)\n",
        "        self.up_convolution_3 = UpSample(256, 128)\n",
        "        self.up_convolution_4 = UpSample(128, 64)\n",
        "\n",
        "        self.out = nn.Conv2d(in_channels=64, out_channels=num_classes, kernel_size=1)\n",
        "\n",
        "    def forward(self, x):\n",
        "       down_1, p1 = self.down_convolution_1(x)\n",
        "       down_2, p2 = self.down_convolution_2(p1)\n",
        "       down_3, p3 = self.down_convolution_3(p2)\n",
        "       down_4, p4 = self.down_convolution_4(p3)\n",
        "\n",
        "       b = self.bottle_neck(p4)\n",
        "\n",
        "       up_1 = self.up_convolution_1(b, down_4)\n",
        "       up_2 = self.up_convolution_2(up_1, down_3)\n",
        "       up_3 = self.up_convolution_3(up_2, down_2)\n",
        "       up_4 = self.up_convolution_4(up_3, down_1)\n",
        "\n",
        "       out = self.out(up_4)\n",
        "       return out"
      ]
    },
    {
      "cell_type": "code",
      "execution_count": 24,
      "metadata": {
        "id": "_pKb6vZOKAnp"
      },
      "outputs": [],
      "source": [
        "model = UNet(in_channels=3, num_classes=1).to(device)\n",
        "optimizer = optim.AdamW(model.parameters(), lr=3e-4)\n",
        "criterion = nn.BCEWithLogitsLoss()"
      ]
    },
    {
      "cell_type": "markdown",
      "metadata": {
        "id": "kmWMlPzJKSjT"
      },
      "source": [
        "# **Training**"
      ]
    },
    {
      "cell_type": "code",
      "execution_count": null,
      "metadata": {
        "id": "onCNp3kjKOK3",
        "outputId": "04faed69-f3bc-40ea-da30-f22290b51085",
        "colab": {
          "base_uri": "https://localhost:8080/"
        }
      },
      "outputs": [
        {
          "output_type": "stream",
          "name": "stderr",
          "text": [
            "  0%|          | 0/2 [00:00<?, ?it/s]\n",
            "  0%|          | 0/128 [00:00<?, ?it/s]\u001b[A"
          ]
        }
      ],
      "source": [
        "for epoch in tqdm(range(2)):\n",
        "    model.train()\n",
        "    train_running_loss = 0\n",
        "    for idx, img_mask in enumerate(tqdm(train_dataloader)):\n",
        "        img = img_mask[0].float().to(device)\n",
        "        mask = img_mask[1].float().to(device)\n",
        "\n",
        "        y_pred = model(img)\n",
        "        optimizer.zero_grad()\n",
        "\n",
        "        loss = criterion(y_pred, mask)\n",
        "        train_running_loss += loss.item()\n",
        "\n",
        "        loss.backward()\n",
        "        optimizer.step()\n",
        "\n",
        "    train_loss = train_running_loss / (idx + 1)\n",
        "\n",
        "    model.eval()\n",
        "    val_running_loss = 0\n",
        "    with torch.no_grad():\n",
        "        for idx, img_mask in enumerate(tqdm(val_dataloader)):\n",
        "            img = img_mask[0].float().to(device)\n",
        "            mask = img_mask[1].float().to(device)\n",
        "\n",
        "            y_pred = model(img)\n",
        "            loss = criterion(y_pred, mask)\n",
        "\n",
        "            val_running_loss += loss.item()\n",
        "\n",
        "        val_loss = val_running_loss / (idx + 1)\n",
        "\n",
        "    print(\"-\"*30)\n",
        "    print(f\"Train Loss EPOCH {epoch+1}: {train_loss:.4f}\")\n",
        "    print(f\"Valid Loss EPOCH {epoch+1}: {val_loss:.4f}\")\n",
        "    print(\"-\"*30)"
      ]
    },
    {
      "cell_type": "code",
      "execution_count": null,
      "metadata": {
        "id": "ngsAQq9-KKAc"
      },
      "outputs": [],
      "source": [
        "torch.save(model.state_dict(), \"unet_model.pth\")"
      ]
    },
    {
      "cell_type": "markdown",
      "metadata": {
        "id": "4GGfauOuKhTD"
      },
      "source": [
        "# **Inference**"
      ]
    },
    {
      "cell_type": "code",
      "source": [
        "# loading model architecture\n",
        "model = UNet(in_channels=3, num_classes=1).to(device)\n",
        "\n",
        "# loading the model with trained weights\n",
        "model.load_state_dict(torch.load(\"./models/unet.pth\", map_location=torch.device(device)))\n",
        "\n",
        "# loading testing dataset\n",
        "transform = transforms.Compose([\n",
        "    transforms.Resize((512, 512)),\n",
        "    transforms.ToTensor()])\n",
        "\n",
        "img = transform(Image.open(\"./data/manual_test/03a857ce842d_15.jpg\")).float().to(device)\n",
        "img = img.unsqueeze(0)\n",
        "\n",
        "\n",
        "# performing prediction\n",
        "pred_mask = model(img)"
      ],
      "metadata": {
        "id": "Y3lcWN8RlRbW"
      },
      "execution_count": null,
      "outputs": []
    },
    {
      "cell_type": "code",
      "source": [
        "# visualizing\n",
        "fig = plt.figure()\n",
        "\n",
        "# showing the original image after doing some post processing\n",
        "img = img.squeeze(0).cpu().detach()\n",
        "img = img.permute(1, 2, 0)\n",
        "fig.add_subplot(1, 2, 1)\n",
        "plt.imshow(img, cmap=\"gray\")\n",
        "\n",
        "# showing predicted segmentation mask after doing some post processing\n",
        "pred_mask = pred_mask.squeeze(0).cpu().detach()\n",
        "pred_mask = pred_mask.permute(1, 2, 0)\n",
        "pred_mask[pred_mask < 0]=0\n",
        "pred_mask[pred_mask > 0]=1\n",
        "fig.add_subplot(1, 2, 2)\n",
        "plt.imshow(pred_mask, cmap=\"gray\")\n",
        "\n",
        "plt.show()"
      ],
      "metadata": {
        "id": "wUTN7gPhm6hm"
      },
      "execution_count": null,
      "outputs": []
    }
  ],
  "metadata": {
    "colab": {
      "collapsed_sections": [
        "sbyGwbIBKX0j",
        "fOR_Zp5VKWad",
        "kmWMlPzJKSjT",
        "4GGfauOuKhTD"
      ],
      "provenance": [],
      "gpuType": "V28"
    },
    "kernelspec": {
      "display_name": "Python 3",
      "name": "python3"
    },
    "language_info": {
      "codemirror_mode": {
        "name": "ipython",
        "version": 3
      },
      "file_extension": ".py",
      "mimetype": "text/x-python",
      "name": "python",
      "nbconvert_exporter": "python",
      "pygments_lexer": "ipython3",
      "version": "3.12.1"
    },
    "accelerator": "TPU"
  },
  "nbformat": 4,
  "nbformat_minor": 0
}