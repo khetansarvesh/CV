{
  "cells": [
    {
      "cell_type": "markdown",
      "metadata": {
        "id": "u37tZInaeMmW"
      },
      "source": [
        "[![Open In Colab](https://colab.research.google.com/assets/colab-badge.svg)](https://colab.research.google.com/github/khetansarvesh/CV/blob/main/im_segmentation/UNet.ipynb)"
      ]
    },
    {
      "cell_type": "code",
      "execution_count": 1,
      "metadata": {
        "id": "8BE1LyK6Ju-g"
      },
      "outputs": [],
      "source": [
        "import torch\n",
        "from torch import optim, nn\n",
        "from torch.utils.data import DataLoader, random_split\n",
        "from tqdm import tqdm\n",
        "\n",
        "import os\n",
        "from PIL import Image\n",
        "from torch.utils.data.dataset import Dataset\n",
        "from torchvision import transforms\n",
        "\n",
        "import matplotlib.pyplot as plt"
      ]
    },
    {
      "cell_type": "code",
      "execution_count": 2,
      "metadata": {
        "id": "ETPkOFVhJvcK",
        "outputId": "0de974d6-7f42-4a36-c344-61e841f3e272",
        "colab": {
          "base_uri": "https://localhost:8080/"
        }
      },
      "outputs": [
        {
          "output_type": "stream",
          "name": "stdout",
          "text": [
            "cuda\n"
          ]
        }
      ],
      "source": [
        "device = \"cuda\" if torch.cuda.is_available() else \"cpu\"\n",
        "print(device)"
      ]
    },
    {
      "cell_type": "markdown",
      "metadata": {
        "id": "sbyGwbIBKX0j"
      },
      "source": [
        "# **Dataset**\n",
        "download and upload the train.zip and train_masks.zip file from kaggle [link](https://www.kaggle.com/competitions/carvana-image-masking-challenge/data) here"
      ]
    },
    {
      "cell_type": "code",
      "source": [
        "# upzipping the two files\n",
        "!unzip train_masks.zip\n",
        "!unzip train.zip"
      ],
      "metadata": {
        "id": "PSJAN7X5zn8P"
      },
      "execution_count": null,
      "outputs": []
    },
    {
      "cell_type": "code",
      "source": [
        "# loading dataset\n",
        "class CarvanaDataset(Dataset):\n",
        "    def __init__(self, test=False):\n",
        "        self.images = sorted([\"train/\"+i for i in os.listdir(\"train/\")])\n",
        "        self.masks = sorted([\"train_masks/\"+i for i in os.listdir(\"train_masks/\")])\n",
        "\n",
        "        self.transform = transforms.Compose([\n",
        "            transforms.Resize((512, 512)),\n",
        "            transforms.ToTensor()])\n",
        "\n",
        "    def __getitem__(self, index):\n",
        "        img = Image.open(self.images[index]).convert(\"RGB\")\n",
        "        mask = Image.open(self.masks[index]).convert(\"L\")\n",
        "\n",
        "        return self.transform(img), self.transform(mask)\n",
        "\n",
        "    def __len__(self):\n",
        "        return len(self.images)\n",
        "\n",
        "dataset = CarvanaDataset()"
      ],
      "metadata": {
        "id": "uGC07k2WrF6e"
      },
      "execution_count": 5,
      "outputs": []
    },
    {
      "cell_type": "code",
      "source": [
        "# train and validation split\n",
        "generator = torch.Generator().manual_seed(42)\n",
        "train_dataset, val_dataset = random_split(dataset, [0.8, 0.2], generator=generator)\n",
        "print(train_dataset, val_dataset)"
      ],
      "metadata": {
        "id": "8N-080PmreeI",
        "outputId": "a16fbfe8-c55a-4fea-c579-6017aa0fd243",
        "colab": {
          "base_uri": "https://localhost:8080/"
        }
      },
      "execution_count": 6,
      "outputs": [
        {
          "output_type": "stream",
          "name": "stdout",
          "text": [
            "<torch.utils.data.dataset.Subset object at 0x79e5140f3cd0> <torch.utils.data.dataset.Subset object at 0x79e5140f2800>\n"
          ]
        }
      ]
    },
    {
      "cell_type": "code",
      "execution_count": 7,
      "metadata": {
        "id": "PeFpANjYJ4z_"
      },
      "outputs": [],
      "source": [
        "# train and validation dataloader\n",
        "train_dataloader = DataLoader(dataset=train_dataset, batch_size=32, shuffle=True)\n",
        "val_dataloader = DataLoader(dataset=val_dataset, batch_size=32, shuffle=True)"
      ]
    },
    {
      "cell_type": "markdown",
      "metadata": {
        "id": "fOR_Zp5VKWad"
      },
      "source": [
        "# **Modelling**"
      ]
    },
    {
      "cell_type": "code",
      "source": [
        "class Autoencoder(nn.Module):\n",
        "    def __init__(self):\n",
        "        super().__init__()\n",
        "\n",
        "        # generative part\n",
        "        self.encoder = nn.Sequential(\n",
        "            nn.Conv2d(3, 16, 3, stride=2, padding=1), nn.ReLU(),\n",
        "            nn.Conv2d(16, 32, 3, stride=2, padding=1), nn.ReLU(),\n",
        "            nn.Conv2d(32, 64, 7)\n",
        "        )\n",
        "\n",
        "        self.decoder = nn.Sequential(\n",
        "            nn.ConvTranspose2d(64, 32, 7), nn.ReLU(),\n",
        "            nn.ConvTranspose2d(32, 16, 3, stride=2, padding=1, output_padding=1), nn.ReLU(),\n",
        "            nn.ConvTranspose2d(16, 16, 3, stride=2, padding=1, output_padding=1), nn.ReLU(),\n",
        "        )\n",
        "\n",
        "        # non generative => classification part\n",
        "        self.out = nn.Conv2d(in_channels=16, out_channels=1, kernel_size=1)\n",
        "\n",
        "    def forward(self, x):\n",
        "\n",
        "        # generative part\n",
        "        encoded = self.encoder(x)\n",
        "        decoded = self.decoder(encoded)\n",
        "\n",
        "        # non generative => classification part\n",
        "        out = self.out(decoded)\n",
        "\n",
        "        return out"
      ],
      "metadata": {
        "id": "NszjpdcayLv0"
      },
      "execution_count": 29,
      "outputs": []
    },
    {
      "cell_type": "code",
      "execution_count": 30,
      "metadata": {
        "id": "0XvxJ3KpK8Kl"
      },
      "outputs": [],
      "source": [
        "# class DoubleConv(nn.Module):\n",
        "#     def __init__(self, in_channels, out_channels):\n",
        "#         super().__init__()\n",
        "#         self.conv_op = nn.Sequential(\n",
        "#             nn.Conv2d(in_channels, out_channels, kernel_size=3, padding=1),\n",
        "#             nn.ReLU(inplace=True),\n",
        "#             nn.Conv2d(out_channels, out_channels, kernel_size=3, padding=1),\n",
        "#             nn.ReLU(inplace=True)\n",
        "#         )\n",
        "\n",
        "#     def forward(self, x):\n",
        "#         return self.conv_op(x)\n",
        "\n",
        "\n",
        "# class DownSample(nn.Module):\n",
        "#     def __init__(self, in_channels, out_channels):\n",
        "#         super().__init__()\n",
        "#         self.conv = DoubleConv(in_channels, out_channels)\n",
        "#         self.pool = nn.MaxPool2d(kernel_size=2, stride=2)\n",
        "\n",
        "#     def forward(self, x):\n",
        "#         down = self.conv(x)\n",
        "#         p = self.pool(down)\n",
        "\n",
        "#         return down, p\n",
        "\n",
        "\n",
        "# class UpSample(nn.Module):\n",
        "#     def __init__(self, in_channels, out_channels):\n",
        "#         super().__init__()\n",
        "#         self.up = nn.ConvTranspose2d(in_channels, in_channels//2, kernel_size=2, stride=2)\n",
        "#         self.conv = DoubleConv(in_channels, out_channels)\n",
        "\n",
        "#     def forward(self, x1, x2):\n",
        "#        x1 = self.up(x1)\n",
        "#        x = torch.cat([x1, x2], 1)\n",
        "#        return self.conv(x)\n",
        "\n",
        "\n",
        "# class UNet(nn.Module):\n",
        "#     def __init__(self, in_channels, num_classes):\n",
        "#         super().__init__()\n",
        "#         self.down_convolution_1 = DownSample(in_channels, 64)\n",
        "#         #self.down_convolution_2 = DownSample(64, 128)\n",
        "#         #self.down_convolution_3 = DownSample(128, 256)\n",
        "#         self.down_convolution_4 = DownSample(64, 512)\n",
        "\n",
        "#         self.bottle_neck = DoubleConv(512, 1024)\n",
        "\n",
        "#         self.up_convolution_1 = UpSample(1024, 128)\n",
        "#         #self.up_convolution_2 = UpSample(512, 256)\n",
        "#         #self.up_convolution_3 = UpSample(256, 128)\n",
        "#         self.up_convolution_4 = UpSample(128, 64)\n",
        "\n",
        "#         self.out = nn.Conv2d(in_channels=64, out_channels=num_classes, kernel_size=1)\n",
        "\n",
        "#     def forward(self, x):\n",
        "#        down_1, p1 = self.down_convolution_1(x)\n",
        "#        down_2, p2 = self.down_convolution_2(p1)\n",
        "#        down_3, p3 = self.down_convolution_3(p2)\n",
        "#        down_4, p4 = self.down_convolution_4(p3)\n",
        "\n",
        "#        b = self.bottle_neck(p4)\n",
        "\n",
        "#        up_1 = self.up_convolution_1(b, down_4)\n",
        "#        up_2 = self.up_convolution_2(up_1, down_3)\n",
        "#        up_3 = self.up_convolution_3(up_2, down_2)\n",
        "#        up_4 = self.up_convolution_4(up_3, down_1)\n",
        "\n",
        "#        out = self.out(up_4)\n",
        "#        return out"
      ]
    },
    {
      "cell_type": "code",
      "execution_count": 32,
      "metadata": {
        "id": "_pKb6vZOKAnp"
      },
      "outputs": [],
      "source": [
        "# model = UNet(in_channels=3, num_classes=1).to(device)\n",
        "model = Autoencoder().to(device)\n",
        "optimizer = optim.AdamW(model.parameters(), lr=3e-4)\n",
        "criterion = nn.BCEWithLogitsLoss()"
      ]
    },
    {
      "cell_type": "markdown",
      "metadata": {
        "id": "kmWMlPzJKSjT"
      },
      "source": [
        "# **Training**"
      ]
    },
    {
      "cell_type": "code",
      "execution_count": 33,
      "metadata": {
        "id": "onCNp3kjKOK3",
        "outputId": "0200b924-63f8-48eb-f344-7c3003a210e3",
        "colab": {
          "base_uri": "https://localhost:8080/"
        }
      },
      "outputs": [
        {
          "output_type": "stream",
          "name": "stderr",
          "text": [
            "  0%|          | 0/2 [00:00<?, ?it/s]\n",
            "  0%|          | 0/128 [00:00<?, ?it/s]\u001b[A\n",
            "  1%|          | 1/128 [00:02<05:25,  2.56s/it]\u001b[A\n",
            "  2%|▏         | 2/128 [00:04<04:27,  2.12s/it]\u001b[A\n",
            "  2%|▏         | 3/128 [00:06<04:17,  2.06s/it]\u001b[A\n",
            "  3%|▎         | 4/128 [00:08<03:55,  1.90s/it]\u001b[A\n",
            "  4%|▍         | 5/128 [00:09<03:42,  1.81s/it]\u001b[A\n",
            "  5%|▍         | 6/128 [00:11<03:32,  1.74s/it]\u001b[A\n",
            "  5%|▌         | 7/128 [00:12<03:27,  1.71s/it]\u001b[A\n",
            "  6%|▋         | 8/128 [00:15<03:52,  1.94s/it]\u001b[A\n",
            "  7%|▋         | 9/128 [00:17<04:01,  2.03s/it]\u001b[A\n",
            "  8%|▊         | 10/128 [00:19<03:42,  1.89s/it]\u001b[A\n",
            "  9%|▊         | 11/128 [00:20<03:30,  1.80s/it]\u001b[A\n",
            "  9%|▉         | 12/128 [00:22<03:20,  1.73s/it]\u001b[A\n",
            " 10%|█         | 13/128 [00:23<03:15,  1.70s/it]\u001b[A\n",
            " 11%|█         | 14/128 [00:25<03:09,  1.67s/it]\u001b[A\n",
            " 12%|█▏        | 15/128 [00:27<03:07,  1.66s/it]\u001b[A\n",
            " 12%|█▎        | 16/128 [00:29<03:36,  1.93s/it]\u001b[A\n",
            " 13%|█▎        | 17/128 [00:31<03:39,  1.98s/it]\u001b[A\n",
            " 14%|█▍        | 18/128 [00:34<03:50,  2.10s/it]\u001b[A\n",
            " 15%|█▍        | 19/128 [00:36<03:53,  2.15s/it]\u001b[A\n",
            " 16%|█▌        | 20/128 [00:38<03:34,  1.99s/it]\u001b[A\n",
            " 16%|█▋        | 21/128 [00:40<03:45,  2.11s/it]\u001b[A\n",
            " 17%|█▋        | 22/128 [00:42<03:49,  2.17s/it]\u001b[A\n",
            " 18%|█▊        | 23/128 [00:45<03:54,  2.24s/it]\u001b[A\n",
            " 19%|█▉        | 24/128 [00:46<03:32,  2.05s/it]\u001b[A\n",
            " 20%|█▉        | 25/128 [00:48<03:17,  1.91s/it]\u001b[A\n",
            " 20%|██        | 26/128 [00:49<03:05,  1.82s/it]\u001b[A\n",
            " 21%|██        | 27/128 [00:51<02:57,  1.76s/it]\u001b[A\n",
            " 22%|██▏       | 28/128 [00:53<02:51,  1.71s/it]\u001b[A\n",
            " 23%|██▎       | 29/128 [00:54<02:46,  1.68s/it]\u001b[A\n",
            " 23%|██▎       | 30/128 [00:57<03:10,  1.95s/it]\u001b[A\n",
            " 24%|██▍       | 31/128 [00:59<03:12,  1.98s/it]\u001b[A\n",
            " 25%|██▌       | 32/128 [01:01<02:59,  1.87s/it]\u001b[A\n",
            " 26%|██▌       | 33/128 [01:02<02:51,  1.80s/it]\u001b[A\n",
            " 27%|██▋       | 34/128 [01:04<02:43,  1.74s/it]\u001b[A\n",
            " 27%|██▋       | 35/128 [01:05<02:37,  1.69s/it]\u001b[A\n",
            " 28%|██▊       | 36/128 [01:07<02:33,  1.67s/it]\u001b[A\n",
            " 29%|██▉       | 37/128 [01:09<02:37,  1.73s/it]\u001b[A\n",
            " 30%|██▉       | 38/128 [01:11<02:57,  1.97s/it]\u001b[A\n",
            " 30%|███       | 39/128 [01:13<02:51,  1.93s/it]\u001b[A\n",
            " 31%|███▏      | 40/128 [01:15<02:41,  1.84s/it]\u001b[A\n",
            " 32%|███▏      | 41/128 [01:16<02:33,  1.76s/it]\u001b[A\n",
            " 33%|███▎      | 42/128 [01:18<02:27,  1.72s/it]\u001b[A\n",
            " 34%|███▎      | 43/128 [01:20<02:23,  1.69s/it]\u001b[A\n",
            " 34%|███▍      | 44/128 [01:21<02:20,  1.68s/it]\u001b[A\n",
            " 35%|███▌      | 45/128 [01:24<02:32,  1.83s/it]\u001b[A\n",
            " 36%|███▌      | 46/128 [01:26<02:46,  2.03s/it]\u001b[A\n",
            " 37%|███▋      | 47/128 [01:28<02:34,  1.91s/it]\u001b[A\n",
            " 38%|███▊      | 48/128 [01:29<02:25,  1.82s/it]\u001b[A\n",
            " 38%|███▊      | 49/128 [01:31<02:18,  1.76s/it]\u001b[A\n",
            " 39%|███▉      | 50/128 [01:32<02:13,  1.71s/it]\u001b[A\n",
            " 40%|███▉      | 51/128 [01:34<02:09,  1.68s/it]\u001b[A\n",
            " 41%|████      | 52/128 [01:36<02:06,  1.66s/it]\u001b[A\n",
            " 41%|████▏     | 53/128 [01:38<02:22,  1.90s/it]\u001b[A\n",
            " 42%|████▏     | 54/128 [01:40<02:27,  2.00s/it]\u001b[A\n",
            " 43%|████▎     | 55/128 [01:42<02:17,  1.88s/it]\u001b[A\n",
            " 44%|████▍     | 56/128 [01:44<02:09,  1.80s/it]\u001b[A\n",
            " 45%|████▍     | 57/128 [01:45<02:04,  1.75s/it]\u001b[A\n",
            " 45%|████▌     | 58/128 [01:47<01:59,  1.71s/it]\u001b[A\n",
            " 46%|████▌     | 59/128 [01:48<01:55,  1.68s/it]\u001b[A\n",
            " 47%|████▋     | 60/128 [01:50<01:55,  1.70s/it]\u001b[A\n",
            " 48%|████▊     | 61/128 [01:53<02:11,  1.96s/it]\u001b[A\n",
            " 48%|████▊     | 62/128 [01:55<02:07,  1.93s/it]\u001b[A\n",
            " 49%|████▉     | 63/128 [01:56<02:00,  1.86s/it]\u001b[A\n",
            " 50%|█████     | 64/128 [01:58<01:54,  1.79s/it]\u001b[A\n",
            " 51%|█████     | 65/128 [02:00<01:49,  1.73s/it]\u001b[A\n",
            " 52%|█████▏    | 66/128 [02:01<01:45,  1.69s/it]\u001b[A\n",
            " 52%|█████▏    | 67/128 [02:03<01:42,  1.68s/it]\u001b[A\n",
            " 53%|█████▎    | 68/128 [02:05<01:48,  1.81s/it]\u001b[A\n",
            " 54%|█████▍    | 69/128 [02:07<01:59,  2.03s/it]\u001b[A\n",
            " 55%|█████▍    | 70/128 [02:09<01:51,  1.91s/it]\u001b[A\n",
            " 55%|█████▌    | 71/128 [02:11<01:44,  1.83s/it]\u001b[A\n",
            " 56%|█████▋    | 72/128 [02:12<01:38,  1.76s/it]\u001b[A\n",
            " 57%|█████▋    | 73/128 [02:14<01:34,  1.72s/it]\u001b[A\n",
            " 58%|█████▊    | 74/128 [02:16<01:31,  1.70s/it]\u001b[A\n",
            " 59%|█████▊    | 75/128 [02:17<01:29,  1.69s/it]\u001b[A\n",
            " 59%|█████▉    | 76/128 [02:20<01:41,  1.95s/it]\u001b[A\n",
            " 60%|██████    | 77/128 [02:22<01:43,  2.02s/it]\u001b[A\n",
            " 61%|██████    | 78/128 [02:24<01:35,  1.90s/it]\u001b[A\n",
            " 62%|██████▏   | 79/128 [02:25<01:28,  1.81s/it]\u001b[A\n",
            " 62%|██████▎   | 80/128 [02:27<01:23,  1.74s/it]\u001b[A\n",
            " 63%|██████▎   | 81/128 [02:28<01:19,  1.70s/it]\u001b[A\n",
            " 64%|██████▍   | 82/128 [02:30<01:16,  1.67s/it]\u001b[A\n",
            " 65%|██████▍   | 83/128 [02:32<01:15,  1.68s/it]\u001b[A\n",
            " 66%|██████▌   | 84/128 [02:34<01:24,  1.93s/it]\u001b[A\n",
            " 66%|██████▋   | 85/128 [02:36<01:23,  1.94s/it]\u001b[A\n",
            " 67%|██████▋   | 86/128 [02:38<01:16,  1.83s/it]\u001b[A\n",
            " 68%|██████▊   | 87/128 [02:39<01:11,  1.76s/it]\u001b[A\n",
            " 69%|██████▉   | 88/128 [02:41<01:08,  1.71s/it]\u001b[A\n",
            " 70%|██████▉   | 89/128 [02:43<01:05,  1.68s/it]\u001b[A\n",
            " 70%|███████   | 90/128 [02:44<01:03,  1.67s/it]\u001b[A\n",
            " 71%|███████   | 91/128 [02:46<01:05,  1.76s/it]\u001b[A\n",
            " 72%|███████▏  | 92/128 [02:49<01:12,  2.01s/it]\u001b[A\n",
            " 73%|███████▎  | 93/128 [02:50<01:06,  1.90s/it]\u001b[A\n",
            " 73%|███████▎  | 94/128 [02:52<01:01,  1.80s/it]\u001b[A\n",
            " 74%|███████▍  | 95/128 [02:54<00:57,  1.73s/it]\u001b[A\n",
            " 75%|███████▌  | 96/128 [02:55<00:54,  1.69s/it]\u001b[A\n",
            " 76%|███████▌  | 97/128 [02:57<00:51,  1.66s/it]\u001b[A\n",
            " 77%|███████▋  | 98/128 [02:58<00:48,  1.63s/it]\u001b[A\n",
            " 77%|███████▋  | 99/128 [03:00<00:52,  1.80s/it]\u001b[A\n",
            " 78%|███████▊  | 100/128 [03:03<00:56,  2.04s/it]\u001b[A\n",
            " 79%|███████▉  | 101/128 [03:05<00:51,  1.90s/it]\u001b[A\n",
            " 80%|███████▉  | 102/128 [03:06<00:46,  1.80s/it]\u001b[A\n",
            " 80%|████████  | 103/128 [03:08<00:43,  1.75s/it]\u001b[A\n",
            " 81%|████████▏ | 104/128 [03:09<00:40,  1.71s/it]\u001b[A\n",
            " 82%|████████▏ | 105/128 [03:11<00:38,  1.67s/it]\u001b[A\n",
            " 83%|████████▎ | 106/128 [03:13<00:36,  1.67s/it]\u001b[A\n",
            " 84%|████████▎ | 107/128 [03:15<00:39,  1.88s/it]\u001b[A\n",
            " 84%|████████▍ | 108/128 [03:17<00:40,  2.01s/it]\u001b[A\n",
            " 85%|████████▌ | 109/128 [03:19<00:35,  1.88s/it]\u001b[A\n",
            " 86%|████████▌ | 110/128 [03:21<00:32,  1.80s/it]\u001b[A\n",
            " 87%|████████▋ | 111/128 [03:22<00:29,  1.73s/it]\u001b[A\n",
            " 88%|████████▊ | 112/128 [03:24<00:26,  1.69s/it]\u001b[A\n",
            " 88%|████████▊ | 113/128 [03:25<00:24,  1.66s/it]\u001b[A\n",
            " 89%|████████▉ | 114/128 [03:27<00:22,  1.63s/it]\u001b[A\n",
            " 90%|████████▉ | 115/128 [03:29<00:24,  1.90s/it]\u001b[A\n",
            " 91%|█████████ | 116/128 [03:32<00:23,  1.97s/it]\u001b[A\n",
            " 91%|█████████▏| 117/128 [03:33<00:20,  1.85s/it]\u001b[A\n",
            " 92%|█████████▏| 118/128 [03:35<00:17,  1.77s/it]\u001b[A\n",
            " 93%|█████████▎| 119/128 [03:36<00:15,  1.71s/it]\u001b[A\n",
            " 94%|█████████▍| 120/128 [03:38<00:13,  1.67s/it]\u001b[A\n",
            " 95%|█████████▍| 121/128 [03:39<00:11,  1.63s/it]\u001b[A\n",
            " 95%|█████████▌| 122/128 [03:41<00:09,  1.62s/it]\u001b[A\n",
            " 96%|█████████▌| 123/128 [03:43<00:09,  1.88s/it]\u001b[A\n",
            " 97%|█████████▋| 124/128 [03:46<00:07,  1.95s/it]\u001b[A\n",
            " 98%|█████████▊| 125/128 [03:47<00:05,  1.85s/it]\u001b[A\n",
            " 98%|█████████▊| 126/128 [03:49<00:03,  1.76s/it]\u001b[A\n",
            " 99%|█████████▉| 127/128 [03:50<00:01,  1.70s/it]\u001b[A\n",
            "100%|██████████| 128/128 [03:51<00:00,  1.81s/it]\n",
            "\n",
            "  0%|          | 0/32 [00:00<?, ?it/s]\u001b[A\n",
            "  3%|▎         | 1/32 [00:01<00:49,  1.60s/it]\u001b[A\n",
            "  6%|▋         | 2/32 [00:03<00:48,  1.60s/it]\u001b[A\n",
            "  9%|▉         | 3/32 [00:05<00:51,  1.77s/it]\u001b[A\n",
            " 12%|█▎        | 4/32 [00:08<01:02,  2.24s/it]\u001b[A\n",
            " 16%|█▌        | 5/32 [00:10<01:02,  2.33s/it]\u001b[A\n",
            " 19%|█▉        | 6/32 [00:12<00:57,  2.22s/it]\u001b[A\n",
            " 22%|██▏       | 7/32 [00:14<00:50,  2.01s/it]\u001b[A\n",
            " 25%|██▌       | 8/32 [00:15<00:45,  1.88s/it]\u001b[A\n",
            " 28%|██▊       | 9/32 [00:17<00:41,  1.79s/it]\u001b[A\n",
            " 31%|███▏      | 10/32 [00:19<00:42,  1.93s/it]\u001b[A\n",
            " 34%|███▍      | 11/32 [00:21<00:43,  2.06s/it]\u001b[A\n",
            " 38%|███▊      | 12/32 [00:23<00:38,  1.92s/it]\u001b[A\n",
            " 41%|████      | 13/32 [00:25<00:36,  1.91s/it]\u001b[A\n",
            " 44%|████▍     | 14/32 [00:27<00:34,  1.91s/it]\u001b[A\n",
            " 47%|████▋     | 15/32 [00:30<00:38,  2.26s/it]\u001b[A\n",
            " 50%|█████     | 16/32 [00:32<00:33,  2.10s/it]\u001b[A\n",
            " 53%|█████▎    | 17/32 [00:34<00:33,  2.22s/it]\u001b[A\n",
            " 56%|█████▋    | 18/32 [00:36<00:30,  2.18s/it]\u001b[A\n",
            " 59%|█████▉    | 19/32 [00:38<00:26,  2.04s/it]\u001b[A\n",
            " 62%|██████▎   | 20/32 [00:40<00:23,  1.92s/it]\u001b[A\n",
            " 66%|██████▌   | 21/32 [00:41<00:20,  1.84s/it]\u001b[A\n",
            " 69%|██████▉   | 22/32 [00:43<00:19,  1.93s/it]\u001b[A\n",
            " 72%|███████▏  | 23/32 [00:45<00:17,  1.89s/it]\u001b[A\n",
            " 75%|███████▌  | 24/32 [00:48<00:17,  2.22s/it]\u001b[A\n",
            " 78%|███████▊  | 25/32 [00:50<00:15,  2.21s/it]\u001b[A\n",
            " 81%|████████▏ | 26/32 [00:53<00:13,  2.18s/it]\u001b[A\n",
            " 84%|████████▍ | 27/32 [00:55<00:11,  2.20s/it]\u001b[A\n",
            " 88%|████████▊ | 28/32 [00:57<00:08,  2.10s/it]\u001b[A\n",
            " 91%|█████████ | 29/32 [00:58<00:06,  2.02s/it]\u001b[A\n",
            " 94%|█████████▍| 30/32 [01:02<00:04,  2.49s/it]\u001b[A\n",
            " 97%|█████████▋| 31/32 [01:04<00:02,  2.42s/it]\u001b[A\n",
            "100%|██████████| 32/32 [01:06<00:00,  2.07s/it]\n",
            " 50%|█████     | 1/2 [04:57<04:57, 297.27s/it]"
          ]
        },
        {
          "output_type": "stream",
          "name": "stdout",
          "text": [
            "------------------------------\n",
            "Train Loss EPOCH 1: 0.4589\n",
            "Valid Loss EPOCH 1: 0.3230\n",
            "------------------------------\n"
          ]
        },
        {
          "output_type": "stream",
          "name": "stderr",
          "text": [
            "\n",
            "  0%|          | 0/128 [00:00<?, ?it/s]\u001b[A\n",
            "  1%|          | 1/128 [00:01<03:30,  1.66s/it]\u001b[A\n",
            "  2%|▏         | 2/128 [00:03<03:26,  1.64s/it]\u001b[A\n",
            "  2%|▏         | 3/128 [00:04<03:23,  1.63s/it]\u001b[A\n",
            "  3%|▎         | 4/128 [00:06<03:21,  1.63s/it]\u001b[A\n",
            "  4%|▍         | 5/128 [00:08<03:39,  1.78s/it]\u001b[A\n",
            "  5%|▍         | 6/128 [00:11<04:10,  2.05s/it]\u001b[A\n",
            "  5%|▌         | 7/128 [00:12<03:51,  1.91s/it]\u001b[A\n",
            "  6%|▋         | 8/128 [00:14<03:39,  1.83s/it]\u001b[A\n",
            "  7%|▋         | 9/128 [00:16<03:30,  1.77s/it]\u001b[A\n",
            "  8%|▊         | 10/128 [00:17<03:22,  1.72s/it]\u001b[A\n",
            "  9%|▊         | 11/128 [00:19<03:17,  1.69s/it]\u001b[A\n",
            "  9%|▉         | 12/128 [00:20<03:14,  1.67s/it]\u001b[A\n",
            " 10%|█         | 13/128 [00:23<03:36,  1.88s/it]\u001b[A\n",
            " 11%|█         | 14/128 [00:25<03:48,  2.01s/it]\u001b[A\n",
            " 12%|█▏        | 15/128 [00:27<03:33,  1.89s/it]\u001b[A\n",
            " 12%|█▎        | 16/128 [00:28<03:22,  1.81s/it]\u001b[A\n",
            " 13%|█▎        | 17/128 [00:30<03:14,  1.75s/it]\u001b[A\n",
            " 14%|█▍        | 18/128 [00:32<03:07,  1.70s/it]\u001b[A\n",
            " 15%|█▍        | 19/128 [00:33<03:02,  1.67s/it]\u001b[A\n",
            " 16%|█▌        | 20/128 [00:35<03:16,  1.82s/it]\u001b[A\n",
            " 16%|█▋        | 21/128 [00:39<04:24,  2.47s/it]\u001b[A\n",
            " 17%|█▋        | 22/128 [00:41<03:59,  2.26s/it]\u001b[A\n",
            " 18%|█▊        | 23/128 [00:43<03:37,  2.07s/it]\u001b[A\n",
            " 19%|█▉        | 24/128 [00:45<03:28,  2.00s/it]\u001b[A\n",
            " 20%|█▉        | 25/128 [00:46<03:14,  1.89s/it]\u001b[A\n",
            " 20%|██        | 26/128 [00:48<03:04,  1.81s/it]\u001b[A\n",
            " 21%|██        | 27/128 [00:50<03:26,  2.04s/it]\u001b[A\n",
            " 22%|██▏       | 28/128 [00:54<04:04,  2.45s/it]\u001b[A\n",
            " 23%|██▎       | 29/128 [00:55<03:37,  2.20s/it]\u001b[A\n",
            " 23%|██▎       | 30/128 [00:57<03:18,  2.02s/it]\u001b[A\n",
            " 24%|██▍       | 31/128 [00:59<03:03,  1.89s/it]\u001b[A\n",
            " 25%|██▌       | 32/128 [01:00<02:52,  1.80s/it]\u001b[A\n",
            " 26%|██▌       | 33/128 [01:02<02:47,  1.76s/it]\u001b[A\n",
            " 27%|██▋       | 34/128 [01:04<03:06,  1.99s/it]\u001b[A\n",
            " 27%|██▋       | 35/128 [01:07<03:34,  2.30s/it]\u001b[A\n",
            " 28%|██▊       | 36/128 [01:09<03:12,  2.10s/it]\u001b[A\n",
            " 29%|██▉       | 37/128 [01:11<02:56,  1.94s/it]\u001b[A\n",
            " 30%|██▉       | 38/128 [01:12<02:45,  1.84s/it]\u001b[A\n",
            " 30%|███       | 39/128 [01:14<02:47,  1.88s/it]\u001b[A\n",
            " 31%|███▏      | 40/128 [01:16<02:37,  1.79s/it]\u001b[A\n",
            " 32%|███▏      | 41/128 [01:17<02:34,  1.77s/it]\u001b[A\n",
            " 33%|███▎      | 42/128 [01:20<02:52,  2.00s/it]\u001b[A\n",
            " 34%|███▎      | 43/128 [01:23<03:06,  2.19s/it]\u001b[A\n",
            " 34%|███▍      | 44/128 [01:25<03:11,  2.28s/it]\u001b[A\n",
            " 35%|███▌      | 45/128 [01:27<02:52,  2.08s/it]\u001b[A\n",
            " 36%|███▌      | 46/128 [01:29<02:45,  2.02s/it]\u001b[A\n",
            " 37%|███▋      | 47/128 [01:30<02:32,  1.89s/it]\u001b[A\n",
            " 38%|███▊      | 48/128 [01:32<02:39,  1.99s/it]\u001b[A\n",
            " 38%|███▊      | 49/128 [01:35<02:59,  2.28s/it]\u001b[A\n",
            " 39%|███▉      | 50/128 [01:37<02:41,  2.08s/it]\u001b[A\n",
            " 40%|███▉      | 51/128 [01:39<02:34,  2.01s/it]\u001b[A\n",
            " 41%|████      | 52/128 [01:41<02:30,  1.98s/it]\u001b[A\n",
            " 41%|████▏     | 53/128 [01:42<02:19,  1.86s/it]\u001b[A\n",
            " 42%|████▏     | 54/128 [01:44<02:11,  1.78s/it]\u001b[A\n",
            " 43%|████▎     | 55/128 [01:46<02:15,  1.85s/it]\u001b[A\n",
            " 44%|████▍     | 56/128 [01:49<02:39,  2.22s/it]\u001b[A\n",
            " 45%|████▍     | 57/128 [01:51<02:24,  2.03s/it]\u001b[A\n",
            " 45%|████▌     | 58/128 [01:52<02:13,  1.91s/it]\u001b[A\n",
            " 46%|████▌     | 59/128 [01:55<02:19,  2.02s/it]\u001b[A\n",
            " 47%|████▋     | 60/128 [01:56<02:08,  1.89s/it]\u001b[A\n",
            " 48%|████▊     | 61/128 [01:58<02:01,  1.81s/it]\u001b[A\n",
            " 48%|████▊     | 62/128 [02:00<02:06,  1.92s/it]\u001b[A\n",
            " 49%|████▉     | 63/128 [02:02<02:16,  2.11s/it]\u001b[A\n",
            " 50%|█████     | 64/128 [02:04<02:08,  2.01s/it]\u001b[A\n",
            " 51%|█████     | 65/128 [02:06<01:58,  1.88s/it]\u001b[A\n",
            " 52%|█████▏    | 66/128 [02:07<01:50,  1.79s/it]\u001b[A\n",
            " 52%|█████▏    | 67/128 [02:09<01:46,  1.74s/it]\u001b[A\n",
            " 53%|█████▎    | 68/128 [02:11<01:42,  1.70s/it]\u001b[A\n",
            " 54%|█████▍    | 69/128 [02:12<01:38,  1.67s/it]\u001b[A\n",
            " 55%|█████▍    | 70/128 [02:14<01:45,  1.82s/it]\u001b[A\n",
            " 55%|█████▌    | 71/128 [02:17<01:54,  2.01s/it]\u001b[A\n",
            " 56%|█████▋    | 72/128 [02:18<01:45,  1.89s/it]\u001b[A\n",
            " 57%|█████▋    | 73/128 [02:20<01:46,  1.93s/it]\u001b[A\n",
            " 58%|█████▊    | 74/128 [02:22<01:39,  1.84s/it]\u001b[A\n",
            " 59%|█████▊    | 75/128 [02:24<01:34,  1.78s/it]\u001b[A\n",
            " 59%|█████▉    | 76/128 [02:25<01:30,  1.74s/it]\u001b[A\n",
            " 60%|██████    | 77/128 [02:27<01:29,  1.76s/it]\u001b[A\n",
            " 61%|██████    | 78/128 [02:30<01:39,  2.00s/it]\u001b[A\n",
            " 62%|██████▏   | 79/128 [02:32<01:36,  1.96s/it]\u001b[A\n",
            " 62%|██████▎   | 80/128 [02:33<01:29,  1.87s/it]\u001b[A\n",
            " 63%|██████▎   | 81/128 [02:35<01:24,  1.80s/it]\u001b[A\n",
            " 64%|██████▍   | 82/128 [02:37<01:20,  1.75s/it]\u001b[A\n",
            " 65%|██████▍   | 83/128 [02:38<01:17,  1.72s/it]\u001b[A\n",
            " 66%|██████▌   | 84/128 [02:40<01:14,  1.69s/it]\u001b[A\n",
            " 66%|██████▋   | 85/128 [02:42<01:19,  1.86s/it]\u001b[A\n",
            " 67%|██████▋   | 86/128 [02:46<01:38,  2.34s/it]\u001b[A\n",
            " 68%|██████▊   | 87/128 [02:47<01:27,  2.12s/it]\u001b[A\n",
            " 69%|██████▉   | 88/128 [02:49<01:18,  1.97s/it]\u001b[A\n",
            " 70%|██████▉   | 89/128 [02:50<01:13,  1.87s/it]\u001b[A\n",
            " 70%|███████   | 90/128 [02:52<01:08,  1.80s/it]\u001b[A\n",
            " 71%|███████   | 91/128 [02:54<01:04,  1.74s/it]\u001b[A\n",
            " 72%|███████▏  | 92/128 [02:56<01:05,  1.83s/it]\u001b[A\n",
            " 73%|███████▎  | 93/128 [02:58<01:11,  2.05s/it]\u001b[A\n",
            " 73%|███████▎  | 94/128 [03:00<01:05,  1.92s/it]\u001b[A\n",
            " 74%|███████▍  | 95/128 [03:01<01:00,  1.82s/it]\u001b[A\n",
            " 75%|███████▌  | 96/128 [03:03<00:56,  1.75s/it]\u001b[A\n",
            " 76%|███████▌  | 97/128 [03:05<00:52,  1.70s/it]\u001b[A\n",
            " 77%|███████▋  | 98/128 [03:06<00:50,  1.68s/it]\u001b[A\n",
            " 77%|███████▋  | 99/128 [03:08<00:48,  1.67s/it]\u001b[A\n",
            " 78%|███████▊  | 100/128 [03:12<01:03,  2.28s/it]\u001b[A\n",
            " 79%|███████▉  | 101/128 [03:14<00:58,  2.18s/it]\u001b[A\n",
            " 80%|███████▉  | 102/128 [03:15<00:52,  2.01s/it]\u001b[A\n",
            " 80%|████████  | 103/128 [03:17<00:47,  1.89s/it]\u001b[A\n",
            " 81%|████████▏ | 104/128 [03:18<00:43,  1.81s/it]\u001b[A\n",
            " 82%|████████▏ | 105/128 [03:20<00:40,  1.75s/it]\u001b[A\n",
            " 83%|████████▎ | 106/128 [03:22<00:37,  1.71s/it]\u001b[A\n",
            " 84%|████████▎ | 107/128 [03:24<00:38,  1.85s/it]\u001b[A\n",
            " 84%|████████▍ | 108/128 [03:26<00:41,  2.06s/it]\u001b[A\n",
            " 85%|████████▌ | 109/128 [03:28<00:36,  1.93s/it]\u001b[A\n",
            " 86%|████████▌ | 110/128 [03:30<00:32,  1.83s/it]\u001b[A\n",
            " 87%|████████▋ | 111/128 [03:31<00:29,  1.76s/it]\u001b[A\n",
            " 88%|████████▊ | 112/128 [03:33<00:27,  1.72s/it]\u001b[A\n",
            " 88%|████████▊ | 113/128 [03:34<00:25,  1.68s/it]\u001b[A\n",
            " 89%|████████▉ | 114/128 [03:36<00:25,  1.80s/it]\u001b[A\n",
            " 90%|████████▉ | 115/128 [03:41<00:34,  2.63s/it]\u001b[A\n",
            " 91%|█████████ | 116/128 [03:43<00:27,  2.33s/it]\u001b[A\n",
            " 91%|█████████▏| 117/128 [03:45<00:25,  2.31s/it]\u001b[A\n",
            " 92%|█████████▏| 118/128 [03:47<00:21,  2.17s/it]\u001b[A\n",
            " 93%|█████████▎| 119/128 [03:48<00:18,  2.02s/it]\u001b[A\n",
            " 94%|█████████▍| 120/128 [03:50<00:15,  1.90s/it]\u001b[A\n",
            " 95%|█████████▍| 121/128 [03:52<00:14,  2.01s/it]\u001b[A\n",
            " 95%|█████████▌| 122/128 [03:55<00:13,  2.25s/it]\u001b[A\n",
            " 96%|█████████▌| 123/128 [03:57<00:10,  2.17s/it]\u001b[A\n",
            " 97%|█████████▋| 124/128 [03:59<00:08,  2.01s/it]\u001b[A\n",
            " 98%|█████████▊| 125/128 [04:00<00:05,  1.90s/it]\u001b[A\n",
            " 98%|█████████▊| 126/128 [04:02<00:03,  1.82s/it]\u001b[A\n",
            " 99%|█████████▉| 127/128 [04:04<00:01,  1.77s/it]\u001b[A\n",
            "100%|██████████| 128/128 [04:04<00:00,  1.91s/it]\n",
            "\n",
            "  0%|          | 0/32 [00:00<?, ?it/s]\u001b[A\n",
            "  3%|▎         | 1/32 [00:02<01:06,  2.13s/it]\u001b[A\n",
            "  6%|▋         | 2/32 [00:04<01:10,  2.35s/it]\u001b[A\n",
            "  9%|▉         | 3/32 [00:06<00:58,  2.01s/it]\u001b[A\n",
            " 12%|█▎        | 4/32 [00:07<00:51,  1.84s/it]\u001b[A\n",
            " 16%|█▌        | 5/32 [00:09<00:48,  1.78s/it]\u001b[A\n",
            " 19%|█▉        | 6/32 [00:11<00:44,  1.73s/it]\u001b[A\n",
            " 22%|██▏       | 7/32 [00:12<00:42,  1.69s/it]\u001b[A\n",
            " 25%|██▌       | 8/32 [00:14<00:40,  1.68s/it]\u001b[A\n",
            " 28%|██▊       | 9/32 [00:16<00:43,  1.90s/it]\u001b[A\n",
            " 31%|███▏      | 10/32 [00:19<00:44,  2.02s/it]\u001b[A\n",
            " 34%|███▍      | 11/32 [00:20<00:40,  1.92s/it]\u001b[A\n",
            " 38%|███▊      | 12/32 [00:22<00:36,  1.83s/it]\u001b[A\n",
            " 41%|████      | 13/32 [00:23<00:33,  1.76s/it]\u001b[A\n",
            " 44%|████▍     | 14/32 [00:25<00:30,  1.72s/it]\u001b[A\n",
            " 47%|████▋     | 15/32 [00:27<00:28,  1.68s/it]\u001b[A\n",
            " 50%|█████     | 16/32 [00:28<00:27,  1.69s/it]\u001b[A\n",
            " 53%|█████▎    | 17/32 [00:31<00:29,  1.94s/it]\u001b[A\n",
            " 56%|█████▋    | 18/32 [00:33<00:27,  1.94s/it]\u001b[A\n",
            " 59%|█████▉    | 19/32 [00:34<00:23,  1.83s/it]\u001b[A\n",
            " 62%|██████▎   | 20/32 [00:36<00:21,  1.77s/it]\u001b[A\n",
            " 66%|██████▌   | 21/32 [00:38<00:18,  1.72s/it]\u001b[A\n",
            " 69%|██████▉   | 22/32 [00:40<00:18,  1.87s/it]\u001b[A\n",
            " 72%|███████▏  | 23/32 [00:42<00:16,  1.79s/it]\u001b[A\n",
            " 75%|███████▌  | 24/32 [00:44<00:15,  1.98s/it]\u001b[A\n",
            " 78%|███████▊  | 25/32 [00:46<00:14,  2.06s/it]\u001b[A\n",
            " 81%|████████▏ | 26/32 [00:48<00:11,  1.94s/it]\u001b[A\n",
            " 84%|████████▍ | 27/32 [00:49<00:09,  1.85s/it]\u001b[A\n",
            " 88%|████████▊ | 28/32 [00:51<00:07,  1.81s/it]\u001b[A\n",
            " 91%|█████████ | 29/32 [00:53<00:05,  1.80s/it]\u001b[A\n",
            " 94%|█████████▍| 30/32 [00:55<00:03,  1.74s/it]\u001b[A\n",
            " 97%|█████████▋| 31/32 [00:56<00:01,  1.77s/it]\u001b[A\n",
            "100%|██████████| 32/32 [01:00<00:00,  1.89s/it]\n",
            "100%|██████████| 2/2 [10:02<00:00, 301.20s/it]"
          ]
        },
        {
          "output_type": "stream",
          "name": "stdout",
          "text": [
            "------------------------------\n",
            "Train Loss EPOCH 2: 0.2603\n",
            "Valid Loss EPOCH 2: 0.2107\n",
            "------------------------------\n"
          ]
        },
        {
          "output_type": "stream",
          "name": "stderr",
          "text": [
            "\n"
          ]
        }
      ],
      "source": [
        "for epoch in tqdm(range(2)):\n",
        "    model.train()\n",
        "    train_running_loss = 0\n",
        "    for idx, img_mask in enumerate(tqdm(train_dataloader)):\n",
        "        img = img_mask[0].float().to(device)\n",
        "        mask = img_mask[1].float().to(device)\n",
        "\n",
        "        y_pred = model(img)\n",
        "        optimizer.zero_grad()\n",
        "\n",
        "        loss = criterion(y_pred, mask)\n",
        "        train_running_loss += loss.item()\n",
        "\n",
        "        loss.backward()\n",
        "        optimizer.step()\n",
        "\n",
        "    train_loss = train_running_loss / (idx + 1)\n",
        "\n",
        "    model.eval()\n",
        "    val_running_loss = 0\n",
        "    with torch.no_grad():\n",
        "        for idx, img_mask in enumerate(tqdm(val_dataloader)):\n",
        "            img = img_mask[0].float().to(device)\n",
        "            mask = img_mask[1].float().to(device)\n",
        "\n",
        "            y_pred = model(img)\n",
        "            loss = criterion(y_pred, mask)\n",
        "\n",
        "            val_running_loss += loss.item()\n",
        "\n",
        "        val_loss = val_running_loss / (idx + 1)\n",
        "\n",
        "    print(\"-\"*30)\n",
        "    print(f\"Train Loss EPOCH {epoch+1}: {train_loss:.4f}\")\n",
        "    print(f\"Valid Loss EPOCH {epoch+1}: {val_loss:.4f}\")\n",
        "    print(\"-\"*30)"
      ]
    },
    {
      "cell_type": "code",
      "execution_count": 38,
      "metadata": {
        "id": "ngsAQq9-KKAc"
      },
      "outputs": [],
      "source": [
        "torch.save(model.state_dict(), \"autoencoder_model.pth\")"
      ]
    },
    {
      "cell_type": "markdown",
      "metadata": {
        "id": "4GGfauOuKhTD"
      },
      "source": [
        "# **Inference**"
      ]
    },
    {
      "cell_type": "code",
      "source": [
        "# loading model architecture\n",
        "model = Autoencoder().to(device)\n",
        "\n",
        "# loading the model with trained weights\n",
        "model.load_state_dict(torch.load(\"autoencoder_model.pth\", map_location=torch.device(device)))"
      ],
      "metadata": {
        "id": "cx19ayay24v7",
        "outputId": "c1831fdb-1286-471e-b0cf-c0c0ec164e00",
        "colab": {
          "base_uri": "https://localhost:8080/"
        }
      },
      "execution_count": 39,
      "outputs": [
        {
          "output_type": "stream",
          "name": "stderr",
          "text": [
            "<ipython-input-39-c604278ce023>:5: FutureWarning: You are using `torch.load` with `weights_only=False` (the current default value), which uses the default pickle module implicitly. It is possible to construct malicious pickle data which will execute arbitrary code during unpickling (See https://github.com/pytorch/pytorch/blob/main/SECURITY.md#untrusted-models for more details). In a future release, the default value for `weights_only` will be flipped to `True`. This limits the functions that could be executed during unpickling. Arbitrary objects will no longer be allowed to be loaded via this mode unless they are explicitly allowlisted by the user via `torch.serialization.add_safe_globals`. We recommend you start setting `weights_only=True` for any use case where you don't have full control of the loaded file. Please open an issue on GitHub for any issues related to this experimental feature.\n",
            "  model.load_state_dict(torch.load(\"autoencoder_model.pth\", map_location=torch.device(device)))\n"
          ]
        },
        {
          "output_type": "execute_result",
          "data": {
            "text/plain": [
              "<All keys matched successfully>"
            ]
          },
          "metadata": {},
          "execution_count": 39
        }
      ]
    },
    {
      "cell_type": "code",
      "source": [
        "# loading testing dataset\n",
        "transform = transforms.Compose([\n",
        "    transforms.Resize((512, 512)),\n",
        "    transforms.ToTensor()])\n",
        "\n",
        "img = transform(Image.open(\"test_img.jpg\")).float().to(device)\n",
        "img = img.unsqueeze(0)\n",
        "\n",
        "\n",
        "# performing prediction\n",
        "pred_mask = model(img)"
      ],
      "metadata": {
        "id": "Y3lcWN8RlRbW"
      },
      "execution_count": 40,
      "outputs": []
    },
    {
      "cell_type": "code",
      "source": [
        "# visualizing\n",
        "fig = plt.figure()\n",
        "\n",
        "# showing the original image after doing some post processing\n",
        "img = img.squeeze(0).cpu().detach()\n",
        "img = img.permute(1, 2, 0)\n",
        "fig.add_subplot(1, 2, 1)\n",
        "plt.imshow(img, cmap=\"gray\")\n",
        "\n",
        "# showing predicted segmentation mask after doing some post processing\n",
        "pred_mask = pred_mask.squeeze(0).cpu().detach()\n",
        "pred_mask = pred_mask.permute(1, 2, 0)\n",
        "pred_mask[pred_mask < 0]=0\n",
        "pred_mask[pred_mask > 0]=1\n",
        "fig.add_subplot(1, 2, 2)\n",
        "plt.imshow(pred_mask, cmap=\"gray\")\n",
        "\n",
        "plt.show()"
      ],
      "metadata": {
        "id": "wUTN7gPhm6hm",
        "outputId": "5e4aa0cb-616e-44a0-cbae-03d05f85da72",
        "colab": {
          "base_uri": "https://localhost:8080/",
          "height": 291
        }
      },
      "execution_count": 41,
      "outputs": [
        {
          "output_type": "display_data",
          "data": {
            "text/plain": [
              "<Figure size 640x480 with 2 Axes>"
            ],
            "image/png": "[encoded data removed]"
          },
          "metadata": {}
        }
      ]
    }
  ],
  "metadata": {
    "colab": {
      "collapsed_sections": [
        "sbyGwbIBKX0j",
        "fOR_Zp5VKWad",
        "kmWMlPzJKSjT",
        "4GGfauOuKhTD"
      ],
      "provenance": [],
      "gpuType": "T4"
    },
    "kernelspec": {
      "display_name": "Python 3",
      "name": "python3"
    },
    "language_info": {
      "codemirror_mode": {
        "name": "ipython",
        "version": 3
      },
      "file_extension": ".py",
      "mimetype": "text/x-python",
      "name": "python",
      "nbconvert_exporter": "python",
      "pygments_lexer": "ipython3",
      "version": "3.12.1"
    },
    "accelerator": "GPU"
  },
  "nbformat": 4,
  "nbformat_minor": 0
}