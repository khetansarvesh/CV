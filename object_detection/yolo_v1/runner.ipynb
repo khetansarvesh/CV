{
  "cells": [
    {
      "cell_type": "markdown",
      "metadata": {
        "id": "WrWH1r30GMyX"
      },
      "source": [
        "[![Open In Colab](https://colab.research.google.com/assets/colab-badge.svg)](https://colab.research.google.com/github/khetansarvesh/CV/blob/main/object_detection/yolo_v1/runner.ipynb)"
      ]
    },
    {
      "cell_type": "code",
      "execution_count": 1,
      "metadata": {
        "id": "uv6MODjPhfUo",
        "outputId": "3802d369-f21b-4042-c78c-ad12b3fa0b2f",
        "colab": {
          "base_uri": "https://localhost:8080/"
        }
      },
      "outputs": [
        {
          "output_type": "stream",
          "name": "stdout",
          "text": [
            "Cloning into 'CV'...\n",
            "remote: Enumerating objects: 1059, done.\u001b[K\n",
            "remote: Counting objects: 100% (524/524), done.\u001b[K\n",
            "remote: Compressing objects: 100% (314/314), done.\u001b[K\n",
            "remote: Total 1059 (delta 288), reused 359 (delta 181), pack-reused 535 (from 1)\u001b[K\n",
            "Receiving objects: 100% (1059/1059), 28.77 MiB | 16.08 MiB/s, done.\n",
            "Resolving deltas: 100% (585/585), done.\n"
          ]
        }
      ],
      "source": [
        "!git clone https://github.com/khetansarvesh/CV.git"
      ]
    },
    {
      "cell_type": "code",
      "execution_count": 2,
      "metadata": {
        "id": "mneFPA6eGMya"
      },
      "outputs": [],
      "source": [
        "import os\n",
        "import csv\n",
        "from tqdm import tqdm\n",
        "import numpy as np\n",
        "\n",
        "# pytorch library\n",
        "import torch\n",
        "import torchvision.transforms as transforms\n",
        "import torchvision.transforms.functional as FT\n",
        "from torch.utils.data import DataLoader\n",
        "import torch.nn as nn\n",
        "import torchvision"
      ]
    },
    {
      "cell_type": "code",
      "execution_count": 3,
      "metadata": {
        "id": "CliDqx3YGMyb",
        "outputId": "2ec2c622-c26e-4467-cfb2-8c35fd225000",
        "colab": {
          "base_uri": "https://localhost:8080/"
        }
      },
      "outputs": [
        {
          "output_type": "stream",
          "name": "stdout",
          "text": [
            "cuda\n"
          ]
        }
      ],
      "source": [
        "DEVICE = \"cuda\" if torch.cuda.is_available else \"cpu\"\n",
        "print(DEVICE)"
      ]
    },
    {
      "cell_type": "markdown",
      "metadata": {
        "id": "tGgs22ETGMyb"
      },
      "source": [
        "# **Dataset**"
      ]
    },
    {
      "cell_type": "code",
      "execution_count": 4,
      "metadata": {
        "id": "OmtxEQLGhfUq",
        "outputId": "4e9c3989-6283-4391-b3f4-001988af4b90",
        "colab": {
          "base_uri": "https://localhost:8080/"
        }
      },
      "outputs": [
        {
          "output_type": "stream",
          "name": "stdout",
          "text": [
            "--2024-11-10 22:48:58--  http://host.robots.ox.ac.uk/pascal/VOC/voc2007/VOCtrainval_06-Nov-2007.tar\n",
            "Resolving host.robots.ox.ac.uk (host.robots.ox.ac.uk)... 129.67.94.152\n",
            "Connecting to host.robots.ox.ac.uk (host.robots.ox.ac.uk)|129.67.94.152|:80... connected.\n",
            "HTTP request sent, awaiting response... 200 OK\n",
            "Length: 460032000 (439M) [application/x-tar]\n",
            "Saving to: ‘VOCtrainval_06-Nov-2007.tar’\n",
            "\n",
            "VOCtrainval_06-Nov- 100%[===================>] 438.72M  22.4MB/s    in 22s     \n",
            "\n",
            "2024-11-10 22:49:21 (19.8 MB/s) - ‘VOCtrainval_06-Nov-2007.tar’ saved [460032000/460032000]\n",
            "\n",
            "--2024-11-10 22:49:22--  http://host.robots.ox.ac.uk/pascal/VOC/voc2012/VOCtrainval_11-May-2012.tar\n",
            "Resolving host.robots.ox.ac.uk (host.robots.ox.ac.uk)... 129.67.94.152\n",
            "Connecting to host.robots.ox.ac.uk (host.robots.ox.ac.uk)|129.67.94.152|:80... connected.\n",
            "HTTP request sent, awaiting response... 200 OK\n",
            "Length: 1999639040 (1.9G) [application/x-tar]\n",
            "Saving to: ‘VOCtrainval_11-May-2012.tar’\n",
            "\n",
            "VOCtrainval_11-May- 100%[===================>]   1.86G  22.4MB/s    in 90s     \n",
            "\n",
            "2024-11-10 22:50:52 (21.3 MB/s) - ‘VOCtrainval_11-May-2012.tar’ saved [1999639040/1999639040]\n",
            "\n",
            "--2024-11-10 22:51:02--  http://host.robots.ox.ac.uk/pascal/VOC/voc2007/VOCtest_06-Nov-2007.tar\n",
            "Resolving host.robots.ox.ac.uk (host.robots.ox.ac.uk)... 129.67.94.152\n",
            "Connecting to host.robots.ox.ac.uk (host.robots.ox.ac.uk)|129.67.94.152|:80... connected.\n",
            "HTTP request sent, awaiting response... 200 OK\n",
            "Length: 451020800 (430M) [application/x-tar]\n",
            "Saving to: ‘VOCtest_06-Nov-2007.tar’\n",
            "\n",
            "VOCtest_06-Nov-2007 100%[===================>] 430.13M  14.3MB/s    in 25s     \n",
            "\n",
            "2024-11-10 22:51:28 (17.4 MB/s) - ‘VOCtest_06-Nov-2007.tar’ saved [451020800/451020800]\n",
            "\n",
            "--2024-11-10 22:51:31--  https://pjreddie.com/media/files/voc_label.py\n",
            "Resolving pjreddie.com (pjreddie.com)... 162.0.215.52\n",
            "Connecting to pjreddie.com (pjreddie.com)|162.0.215.52|:443... connected.\n",
            "HTTP request sent, awaiting response... 200 OK\n",
            "Length: 2042 (2.0K) [text/x-python]\n",
            "Saving to: ‘voc_label.py’\n",
            "\n",
            "voc_label.py        100%[===================>]   1.99K  --.-KB/s    in 0s      \n",
            "\n",
            "2024-11-10 22:51:32 (902 MB/s) - ‘voc_label.py’ saved [2042/2042]\n",
            "\n"
          ]
        }
      ],
      "source": [
        "# GETTING VOC2007 TRAIN DATASET and EXTRACTING TAR FILES\n",
        "!wget http://host.robots.ox.ac.uk/pascal/VOC/voc2007/VOCtrainval_06-Nov-2007.tar\n",
        "!tar xf VOCtrainval_06-Nov-2007.tar\n",
        "\n",
        "# GETTING VOC2012 TRAIN DATASET and EXTRACTING TAR FILES\n",
        "!wget http://host.robots.ox.ac.uk/pascal/VOC/voc2012/VOCtrainval_11-May-2012.tar\n",
        "!tar xf VOCtrainval_11-May-2012.tar\n",
        "\n",
        "# GETTING VOC2007 TEST DATASET and EXTRACTING TAR FILES\n",
        "!wget http://host.robots.ox.ac.uk/pascal/VOC/voc2007/VOCtest_06-Nov-2007.tar #\n",
        "!tar xf VOCtest_06-Nov-2007.tar\n",
        "\n",
        "# Gettting the images location for 2007 (both train and test) and 2012 (only train) in txt files\n",
        "!wget https://pjreddie.com/media/files/voc_label.py\n",
        "!python voc_label.py"
      ]
    },
    {
      "cell_type": "code",
      "execution_count": 5,
      "metadata": {
        "id": "73WtDcFShfUq"
      },
      "outputs": [],
      "source": [
        "# creating a new folder data which will contain all the images and labels\n",
        "!mkdir data\n",
        "!mkdir data/images\n",
        "!mkdir data/labels\n",
        "\n",
        "!mv VOCdevkit/VOC2007/JPEGImages/*.jpg data/images/\n",
        "!mv VOCdevkit/VOC2012/JPEGImages/*.jpg data/images/\n",
        "!mv VOCdevkit/VOC2007/labels/*.txt data/labels/\n",
        "!mv VOCdevkit/VOC2012/labels/*.txt data/labels/"
      ]
    },
    {
      "cell_type": "markdown",
      "metadata": {
        "id": "meFxnzZrhfUq"
      },
      "source": [
        "Creating Training Dataset"
      ]
    },
    {
      "cell_type": "code",
      "execution_count": 6,
      "metadata": {
        "id": "ML0XDNZwhfUr"
      },
      "outputs": [],
      "source": [
        "# training data will consist of 2007_train + 2007_val + 2012_train + 2012_val, concatenating all of these and storing in train.txt\n",
        "!cat 2007_train.txt 2007_val.txt 2012_*.txt > train.txt\n",
        "\n",
        "# converting this traing.txt file to csv file\n",
        "read_train = open(\"train.txt\", \"r\").readlines()\n",
        "with open(\"train.csv\", mode=\"w\", newline=\"\") as train_file:\n",
        "    for line in read_train:\n",
        "        image_file = line.split(\"/\")[-1].replace(\"\\n\", \"\")\n",
        "        text_file = image_file.replace(\".jpg\", \".txt\")\n",
        "        data = [image_file, text_file]\n",
        "        writer = csv.writer(train_file)\n",
        "        writer.writerow(data)"
      ]
    },
    {
      "cell_type": "code",
      "execution_count": 7,
      "metadata": {
        "id": "0SnTgT8vhfUr"
      },
      "outputs": [],
      "source": [
        "from CV.object_detection.yolo_v1.dataset import VOCDataset\n",
        "train_dataset = VOCDataset(\"train.csv\", img_dir=\"data/images\", label_dir=\"data/labels\")\n",
        "\n",
        "# creating training dataloader\n",
        "train_loader = DataLoader(\n",
        "    dataset=train_dataset,\n",
        "    batch_size=16,\n",
        "    num_workers=2,\n",
        "    pin_memory=True,\n",
        "    shuffle=True,\n",
        "    drop_last=True)"
      ]
    },
    {
      "cell_type": "markdown",
      "metadata": {
        "id": "HvXbVR-qhfUr"
      },
      "source": [
        "Creating Testing Dataset"
      ]
    },
    {
      "cell_type": "code",
      "execution_count": 8,
      "metadata": {
        "id": "X6rovjtNhfUr"
      },
      "outputs": [],
      "source": [
        "# testing data will consist of 2007_test\n",
        "!cp 2007_test.txt test.txt\n",
        "\n",
        "# converting this test.txt file to csv file\n",
        "read_train = open(\"test.txt\", \"r\").readlines()\n",
        "with open(\"test.csv\", mode=\"w\", newline=\"\") as train_file:\n",
        "    for line in read_train:\n",
        "        image_file = line.split(\"/\")[-1].replace(\"\\n\", \"\")\n",
        "        text_file = image_file.replace(\".jpg\", \".txt\")\n",
        "        data = [image_file, text_file]\n",
        "        writer = csv.writer(train_file)\n",
        "        writer.writerow(data)"
      ]
    },
    {
      "cell_type": "code",
      "execution_count": 9,
      "metadata": {
        "id": "dtsA0xLdhfUr"
      },
      "outputs": [],
      "source": [
        "# testing dataset\n",
        "test_dataset = VOCDataset(\"test.csv\", img_dir=\"data/images\", label_dir=\"data/labels\")\n",
        "\n",
        "test_loader = DataLoader(\n",
        "    dataset=test_dataset,\n",
        "    batch_size=16,\n",
        "    num_workers=2,\n",
        "    pin_memory=True,\n",
        "    shuffle=True,\n",
        "    drop_last=True)"
      ]
    },
    {
      "cell_type": "markdown",
      "metadata": {
        "id": "zoSkOBhThfUr"
      },
      "source": [
        "Cleaning Up to save some ram space"
      ]
    },
    {
      "cell_type": "code",
      "execution_count": 10,
      "metadata": {
        "id": "POeJVIX3hfUr",
        "outputId": "d5630966-80e9-4464-a156-29969fbfdfde",
        "colab": {
          "base_uri": "https://localhost:8080/"
        }
      },
      "outputs": [
        {
          "output_type": "stream",
          "name": "stdout",
          "text": [
            "rm: cannot remove '2007_test.txt': No such file or directory\n",
            "rm: cannot remove '2007_train.txt': No such file or directory\n",
            "rm: cannot remove '2007_val.txt': No such file or directory\n",
            "rm: cannot remove '2012_train.txt': No such file or directory\n",
            "rm: cannot remove '2012_val.txt': No such file or directory\n"
          ]
        }
      ],
      "source": [
        "! rm 2007* 2012* *.txt *.tar *.py\n",
        "! rm -rf VOCdevkit/"
      ]
    },
    {
      "cell_type": "markdown",
      "metadata": {
        "id": "xkKjigIqGMyd"
      },
      "source": [
        "# **Modelling**"
      ]
    },
    {
      "cell_type": "code",
      "execution_count": 11,
      "metadata": {
        "id": "W0mOtUVihfUr"
      },
      "outputs": [],
      "source": [
        "class YOLOV1(nn.Module):\n",
        "\n",
        "    def __init__(self):\n",
        "        super(YOLOV1, self).__init__()\n",
        "\n",
        "        backbone = torchvision.models.resnet34(weights=torchvision.models.ResNet34_Weights.IMAGENET1K_V1)\n",
        "        self.features = nn.Sequential(\n",
        "            backbone.conv1,\n",
        "            backbone.bn1,\n",
        "            backbone.relu,\n",
        "            backbone.maxpool,\n",
        "            backbone.layer1,\n",
        "            backbone.layer2,\n",
        "            backbone.layer3,\n",
        "            backbone.layer4,\n",
        "        )\n",
        "\n",
        "\n",
        "        self.conv_yolo_layers = nn.Sequential(\n",
        "            nn.Conv2d(512, 1024, 3, padding=1, bias=False), nn.BatchNorm2d(1024), nn.LeakyReLU(0.1), #512 cause resnet gives 512 channel output\n",
        "            nn.Conv2d(1024, 1024, 3, stride=2, padding=1, bias=False), nn.BatchNorm2d(1024), nn.LeakyReLU(0.1),\n",
        "            nn.Conv2d(1024, 1024, 3, padding=1, bias=False),nn.BatchNorm2d(1024),nn.LeakyReLU(0.1),\n",
        "            nn.Conv2d(1024, 1024, 3, padding=1, bias=False),nn.BatchNorm2d(1024),nn.LeakyReLU(0.1)\n",
        "            )\n",
        "\n",
        "        self.fc_yolo_layers = nn.Sequential(\n",
        "            nn.Flatten(),\n",
        "            nn.Linear(7 * 7 * 1024, 4096),\n",
        "            nn.LeakyReLU(0.1),\n",
        "            nn.Dropout(0.5),\n",
        "            nn.Linear(4096, 7 * 7 * (5 * 2 + 20)),\n",
        "        )\n",
        "        # instead of this you could have also used a 1*1 convolution layer as follows\n",
        "        # self.fc_yolo_layers = nn.Sequential( nn.Conv2d(1024, 5 * self.B + self.C, 1))\n",
        "\n",
        "    def forward(self, x):\n",
        "        out = self.features(x)\n",
        "        out = self.conv_yolo_layers(out)\n",
        "        out = self.fc_yolo_layers(out)\n",
        "        return out"
      ]
    },
    {
      "cell_type": "code",
      "execution_count": null,
      "metadata": {
        "id": "_ounD6kLhfUs"
      },
      "outputs": [],
      "source": [
        "class YOLOV1(nn.Module):\n",
        "\n",
        "    def __init__(self):\n",
        "        super(YOLOV1, self).__init__()\n",
        "\n",
        "        S = 7\n",
        "        C = 20\n",
        "        B = 2\n",
        "\n",
        "\n",
        "        self.darknet = nn.Sequential(\n",
        "\n",
        "        nn.Conv2d(3, 64, kernel_size=7, stride=2, padding=3, bias=False), nn.BatchNorm2d(64), nn.LeakyReLU(0.1),\n",
        "        nn.MaxPool2d(kernel_size=(2, 2), stride=(2, 2)),\n",
        "\n",
        "        nn.Conv2d(64, 192, kernel_size=3, stride=1, padding=1, bias=False), nn.BatchNorm2d(192), nn.LeakyReLU(0.1),\n",
        "        nn.MaxPool2d(kernel_size=(2, 2), stride=(2, 2)),\n",
        "\n",
        "        nn.Conv2d(192, 128, kernel_size=1, stride=1, padding=0, bias=False), nn.BatchNorm2d(128), nn.LeakyReLU(0.1),\n",
        "        nn.Conv2d(128, 256, kernel_size=3, stride=1, padding=1, bias=False), nn.BatchNorm2d(256), nn.LeakyReLU(0.1),\n",
        "        nn.Conv2d(256, 256, kernel_size=1, stride=1, padding=0, bias=False), nn.BatchNorm2d(256), nn.LeakyReLU(0.1),\n",
        "        nn.Conv2d(256, 512, kernel_size=3, stride=1, padding=1, bias=False), nn.BatchNorm2d(512), nn.LeakyReLU(0.1),\n",
        "        nn.MaxPool2d(kernel_size=(2, 2), stride=(2, 2)),\n",
        "\n",
        "        nn.Conv2d(512, 256, kernel_size=1, stride=1, padding=0, bias=False), nn.BatchNorm2d(256), nn.LeakyReLU(0.1),\n",
        "        nn.Conv2d(256, 512, kernel_size=3, stride=1, padding=1, bias=False), nn.BatchNorm2d(512), nn.LeakyReLU(0.1),\n",
        "        nn.Conv2d(512, 256, kernel_size=1, stride=1, padding=0, bias=False), nn.BatchNorm2d(256), nn.LeakyReLU(0.1),\n",
        "        nn.Conv2d(256, 512, kernel_size=3, stride=1, padding=1, bias=False), nn.BatchNorm2d(512), nn.LeakyReLU(0.1),\n",
        "        nn.Conv2d(512, 256, kernel_size=1, stride=1, padding=0, bias=False), nn.BatchNorm2d(256), nn.LeakyReLU(0.1),\n",
        "        nn.Conv2d(256, 512, kernel_size=3, stride=1, padding=1, bias=False), nn.BatchNorm2d(512), nn.LeakyReLU(0.1),\n",
        "        nn.Conv2d(512, 256, kernel_size=1, stride=1, padding=0, bias=False), nn.BatchNorm2d(256), nn.LeakyReLU(0.1),\n",
        "        nn.Conv2d(256, 512, kernel_size=3, stride=1, padding=1, bias=False), nn.BatchNorm2d(512), nn.LeakyReLU(0.1),\n",
        "        nn.Conv2d(512, 512, kernel_size=1, stride=1, padding=0, bias=False), nn.BatchNorm2d(512), nn.LeakyReLU(0.1),\n",
        "        nn.Conv2d(512, 1024, kernel_size=3, stride=1, padding=1, bias=False), nn.BatchNorm2d(1024), nn.LeakyReLU(0.1),\n",
        "        nn.MaxPool2d(kernel_size=(2, 2), stride=(2, 2)),\n",
        "\n",
        "        nn.Conv2d(1024, 512, kernel_size=1, stride=1, padding=0, bias=False), nn.BatchNorm2d(512), nn.LeakyReLU(0.1),\n",
        "        nn.Conv2d(512, 1024, kernel_size=3, stride=1, padding=1, bias=False), nn.BatchNorm2d(1024), nn.LeakyReLU(0.1),\n",
        "        nn.Conv2d(1024, 512, kernel_size=1, stride=1, padding=0, bias=False), nn.BatchNorm2d(512), nn.LeakyReLU(0.1),\n",
        "        nn.Conv2d(512, 1024, kernel_size=3, stride=1, padding=1, bias=False), nn.BatchNorm2d(1024), nn.LeakyReLU(0.1),\n",
        "\n",
        "\n",
        "        nn.Conv2d(1024, 1024, kernel_size=3, stride=1, padding=1, bias=False), nn.BatchNorm2d(1024), nn.LeakyReLU(0.1),\n",
        "        nn.Conv2d(1024, 1024, kernel_size=3, stride=2, padding=1, bias=False), nn.BatchNorm2d(1024), nn.LeakyReLU(0.1),\n",
        "        nn.Conv2d(1024, 1024, kernel_size=3, stride=1, padding=1, bias=False), nn.BatchNorm2d(1024), nn.LeakyReLU(0.1),\n",
        "        nn.Conv2d(1024, 1024, kernel_size=3, stride=1, padding=1, bias=False), nn.BatchNorm2d(1024), nn.LeakyReLU(0.1),\n",
        "        )\n",
        "\n",
        "        self.fcs = nn.Sequential(\n",
        "            nn.Flatten(),\n",
        "            nn.Linear(1024 * S * S, 4096),\n",
        "            nn.Dropout(0.0),\n",
        "            nn.LeakyReLU(0.1),\n",
        "            nn.Linear(4096, S * S * (C + B * 5)),\n",
        "        )\n",
        "\n",
        "    def forward(self, x):\n",
        "        x = self.darknet(x)\n",
        "        x = torch.flatten(x, start_dim=1)\n",
        "        x = self.fcs(x)\n",
        "        return x"
      ]
    },
    {
      "cell_type": "code",
      "execution_count": 12,
      "metadata": {
        "id": "7M7QDQ2gGMyd",
        "outputId": "82e979e4-2d02-499e-a8eb-30e3bb5904c4",
        "colab": {
          "base_uri": "https://localhost:8080/"
        }
      },
      "outputs": [
        {
          "output_type": "stream",
          "name": "stderr",
          "text": [
            "Downloading: \"https://download.pytorch.org/models/resnet34-b627a593.pth\" to /root/.cache/torch/hub/checkpoints/resnet34-b627a593.pth\n",
            "100%|██████████| 83.3M/83.3M [00:00<00:00, 157MB/s]\n"
          ]
        }
      ],
      "source": [
        "model = YOLOV1().to(DEVICE)"
      ]
    },
    {
      "cell_type": "markdown",
      "metadata": {
        "id": "_Y3bz2nWGMyd"
      },
      "source": [
        "# **Training**"
      ]
    },
    {
      "cell_type": "code",
      "execution_count": 13,
      "metadata": {
        "id": "8aStmmwEhfUs"
      },
      "outputs": [],
      "source": [
        "# Setting Seed\n",
        "seed = 123\n",
        "torch.manual_seed(seed)\n",
        "\n",
        "# Setting Optimizer\n",
        "import torch.optim as optim\n",
        "optimizer = optim.Adam(model.parameters(), lr=2e-5, weight_decay=0)\n",
        "\n",
        "# import loss function\n",
        "from CV.object_detection.yolo_v1.loss import YoloLoss"
      ]
    },
    {
      "cell_type": "code",
      "execution_count": null,
      "metadata": {
        "id": "wL9tkBhJGMyd",
        "outputId": "614298d3-236d-4fea-a60d-1dc188d99da6",
        "colab": {
          "base_uri": "https://localhost:8080/"
        }
      },
      "outputs": [
        {
          "metadata": {
            "tags": null
          },
          "name": "stderr",
          "output_type": "stream",
          "text": [
            "100%|██████████| 1034/1034 [07:15<00:00,  2.37it/s, loss=116]\n"
          ]
        },
        {
          "metadata": {
            "tags": null
          },
          "name": "stdout",
          "output_type": "stream",
          "text": [
            "Mean loss was 195.4840585129404\n"
          ]
        },
        {
          "metadata": {
            "tags": null
          },
          "name": "stderr",
          "output_type": "stream",
          "text": [
            "100%|██████████| 1034/1034 [07:16<00:00,  2.37it/s, loss=130]\n"
          ]
        },
        {
          "metadata": {
            "tags": null
          },
          "name": "stdout",
          "output_type": "stream",
          "text": [
            "Mean loss was 128.60113310675555\n"
          ]
        },
        {
          "metadata": {
            "tags": null
          },
          "name": "stderr",
          "output_type": "stream",
          "text": [
            "100%|██████████| 1034/1034 [07:15<00:00,  2.37it/s, loss=130]\n"
          ]
        },
        {
          "metadata": {
            "tags": null
          },
          "name": "stdout",
          "output_type": "stream",
          "text": [
            "Mean loss was 107.86262005671311\n"
          ]
        },
        {
          "metadata": {
            "tags": null
          },
          "name": "stderr",
          "output_type": "stream",
          "text": [
            "100%|██████████| 1034/1034 [07:16<00:00,  2.37it/s, loss=106]\n"
          ]
        },
        {
          "metadata": {
            "tags": null
          },
          "name": "stdout",
          "output_type": "stream",
          "text": [
            "Mean loss was 94.77658086219655\n"
          ]
        },
        {
          "output_type": "stream",
          "name": "stderr",
          "text": [
            "100%|██████████| 1034/1034 [07:17<00:00,  2.36it/s, loss=70.1]\n"
          ]
        },
        {
          "output_type": "stream",
          "name": "stdout",
          "text": [
            "Mean loss was 85.12723617627496\n"
          ]
        },
        {
          "output_type": "stream",
          "name": "stderr",
          "text": [
            "100%|██████████| 1034/1034 [07:17<00:00,  2.36it/s, loss=124]\n"
          ]
        },
        {
          "output_type": "stream",
          "name": "stdout",
          "text": [
            "Mean loss was 76.24318041331071\n"
          ]
        },
        {
          "output_type": "stream",
          "name": "stderr",
          "text": [
            "100%|██████████| 1034/1034 [07:17<00:00,  2.36it/s, loss=107]\n"
          ]
        },
        {
          "output_type": "stream",
          "name": "stdout",
          "text": [
            "Mean loss was 69.5799376046865\n"
          ]
        },
        {
          "output_type": "stream",
          "name": "stderr",
          "text": [
            "100%|██████████| 1034/1034 [07:17<00:00,  2.36it/s, loss=84]\n"
          ]
        },
        {
          "output_type": "stream",
          "name": "stdout",
          "text": [
            "Mean loss was 63.721882635666276\n"
          ]
        },
        {
          "output_type": "stream",
          "name": "stderr",
          "text": [
            "100%|██████████| 1034/1034 [07:16<00:00,  2.37it/s, loss=90.2]\n"
          ]
        },
        {
          "output_type": "stream",
          "name": "stdout",
          "text": [
            "Mean loss was 60.18201196216753\n"
          ]
        },
        {
          "output_type": "stream",
          "name": "stderr",
          "text": [
            "100%|██████████| 1034/1034 [07:17<00:00,  2.37it/s, loss=59.5]\n"
          ]
        },
        {
          "output_type": "stream",
          "name": "stdout",
          "text": [
            "Mean loss was 54.69025450472214\n"
          ]
        },
        {
          "output_type": "stream",
          "name": "stderr",
          "text": [
            "100%|██████████| 1034/1034 [07:17<00:00,  2.37it/s, loss=39.6]\n"
          ]
        },
        {
          "output_type": "stream",
          "name": "stdout",
          "text": [
            "Mean loss was 51.414435619081246\n"
          ]
        },
        {
          "output_type": "stream",
          "name": "stderr",
          "text": [
            "100%|██████████| 1034/1034 [07:16<00:00,  2.37it/s, loss=34.5]\n"
          ]
        },
        {
          "output_type": "stream",
          "name": "stdout",
          "text": [
            "Mean loss was 48.00716197605981\n"
          ]
        },
        {
          "output_type": "stream",
          "name": "stderr",
          "text": [
            "100%|██████████| 1034/1034 [07:16<00:00,  2.37it/s, loss=45.5]\n"
          ]
        },
        {
          "output_type": "stream",
          "name": "stdout",
          "text": [
            "Mean loss was 45.31096571142023\n"
          ]
        },
        {
          "output_type": "stream",
          "name": "stderr",
          "text": [
            "100%|██████████| 1034/1034 [07:16<00:00,  2.37it/s, loss=32.4]\n"
          ]
        },
        {
          "output_type": "stream",
          "name": "stdout",
          "text": [
            "Mean loss was 43.346779146323584\n"
          ]
        },
        {
          "output_type": "stream",
          "name": "stderr",
          "text": [
            "100%|██████████| 1034/1034 [07:16<00:00,  2.37it/s, loss=39.4]\n"
          ]
        },
        {
          "output_type": "stream",
          "name": "stdout",
          "text": [
            "Mean loss was 41.59657641582378\n"
          ]
        },
        {
          "output_type": "stream",
          "name": "stderr",
          "text": [
            "100%|██████████| 1034/1034 [07:16<00:00,  2.37it/s, loss=33]\n"
          ]
        },
        {
          "output_type": "stream",
          "name": "stdout",
          "text": [
            "Mean loss was 38.69594326609569\n"
          ]
        },
        {
          "output_type": "stream",
          "name": "stderr",
          "text": [
            "100%|██████████| 1034/1034 [07:16<00:00,  2.37it/s, loss=22.4]\n"
          ]
        },
        {
          "output_type": "stream",
          "name": "stdout",
          "text": [
            "Mean loss was 35.98617050495554\n"
          ]
        },
        {
          "output_type": "stream",
          "name": "stderr",
          "text": [
            "100%|██████████| 1034/1034 [07:17<00:00,  2.37it/s, loss=31.3]\n"
          ]
        },
        {
          "output_type": "stream",
          "name": "stdout",
          "text": [
            "Mean loss was 34.157844586805865\n"
          ]
        },
        {
          "output_type": "stream",
          "name": "stderr",
          "text": [
            "100%|██████████| 1034/1034 [07:17<00:00,  2.37it/s, loss=37.3]\n"
          ]
        },
        {
          "output_type": "stream",
          "name": "stdout",
          "text": [
            "Mean loss was 33.01145186507264\n"
          ]
        },
        {
          "output_type": "stream",
          "name": "stderr",
          "text": [
            "100%|██████████| 1034/1034 [07:16<00:00,  2.37it/s, loss=22.5]\n"
          ]
        },
        {
          "output_type": "stream",
          "name": "stdout",
          "text": [
            "Mean loss was 30.651015467984994\n"
          ]
        },
        {
          "output_type": "stream",
          "name": "stderr",
          "text": [
            "100%|██████████| 1034/1034 [07:16<00:00,  2.37it/s, loss=23]\n"
          ]
        },
        {
          "output_type": "stream",
          "name": "stdout",
          "text": [
            "Mean loss was 30.062890549923512\n"
          ]
        },
        {
          "output_type": "stream",
          "name": "stderr",
          "text": [
            "100%|██████████| 1034/1034 [07:16<00:00,  2.37it/s, loss=16.6]\n"
          ]
        },
        {
          "output_type": "stream",
          "name": "stdout",
          "text": [
            "Mean loss was 28.096507710691117\n"
          ]
        },
        {
          "output_type": "stream",
          "name": "stderr",
          "text": [
            "100%|██████████| 1034/1034 [07:16<00:00,  2.37it/s, loss=37.4]\n"
          ]
        },
        {
          "output_type": "stream",
          "name": "stdout",
          "text": [
            "Mean loss was 27.41969782702005\n"
          ]
        },
        {
          "output_type": "stream",
          "name": "stderr",
          "text": [
            "100%|██████████| 1034/1034 [07:16<00:00,  2.37it/s, loss=23.6]\n"
          ]
        },
        {
          "output_type": "stream",
          "name": "stdout",
          "text": [
            "Mean loss was 26.324491572795107\n"
          ]
        },
        {
          "output_type": "stream",
          "name": "stderr",
          "text": [
            "100%|██████████| 1034/1034 [07:17<00:00,  2.36it/s, loss=27.6]\n"
          ]
        },
        {
          "output_type": "stream",
          "name": "stdout",
          "text": [
            "Mean loss was 25.57989733454337\n"
          ]
        },
        {
          "output_type": "stream",
          "name": "stderr",
          "text": [
            "100%|██████████| 1034/1034 [07:16<00:00,  2.37it/s, loss=33.4]\n"
          ]
        },
        {
          "output_type": "stream",
          "name": "stdout",
          "text": [
            "Mean loss was 24.192823593574982\n"
          ]
        },
        {
          "output_type": "stream",
          "name": "stderr",
          "text": [
            "100%|██████████| 1034/1034 [07:17<00:00,  2.37it/s, loss=21.9]\n"
          ]
        },
        {
          "output_type": "stream",
          "name": "stdout",
          "text": [
            "Mean loss was 23.159130972635353\n"
          ]
        },
        {
          "output_type": "stream",
          "name": "stderr",
          "text": [
            "100%|██████████| 1034/1034 [07:17<00:00,  2.37it/s, loss=24.9]\n"
          ]
        },
        {
          "output_type": "stream",
          "name": "stdout",
          "text": [
            "Mean loss was 23.78103333884558\n"
          ]
        },
        {
          "output_type": "stream",
          "name": "stderr",
          "text": [
            "100%|██████████| 1034/1034 [07:16<00:00,  2.37it/s, loss=24.6]\n"
          ]
        },
        {
          "output_type": "stream",
          "name": "stdout",
          "text": [
            "Mean loss was 22.429203881977607\n"
          ]
        },
        {
          "output_type": "stream",
          "name": "stderr",
          "text": [
            "100%|██████████| 1034/1034 [07:16<00:00,  2.37it/s, loss=20.1]\n"
          ]
        },
        {
          "output_type": "stream",
          "name": "stdout",
          "text": [
            "Mean loss was 21.49822472234759\n"
          ]
        },
        {
          "output_type": "stream",
          "name": "stderr",
          "text": [
            "100%|██████████| 1034/1034 [07:17<00:00,  2.37it/s, loss=47.3]\n"
          ]
        },
        {
          "output_type": "stream",
          "name": "stdout",
          "text": [
            "Mean loss was 20.816829102182297\n"
          ]
        },
        {
          "output_type": "stream",
          "name": "stderr",
          "text": [
            "100%|██████████| 1034/1034 [07:16<00:00,  2.37it/s, loss=21.6]\n"
          ]
        },
        {
          "output_type": "stream",
          "name": "stdout",
          "text": [
            "Mean loss was 20.688392595350166\n"
          ]
        },
        {
          "output_type": "stream",
          "name": "stderr",
          "text": [
            "100%|██████████| 1034/1034 [07:16<00:00,  2.37it/s, loss=13.8]\n"
          ]
        },
        {
          "output_type": "stream",
          "name": "stdout",
          "text": [
            "Mean loss was 19.920393822040964\n"
          ]
        },
        {
          "output_type": "stream",
          "name": "stderr",
          "text": [
            "100%|██████████| 1034/1034 [07:17<00:00,  2.37it/s, loss=13.5]\n"
          ]
        },
        {
          "output_type": "stream",
          "name": "stdout",
          "text": [
            "Mean loss was 19.195512583454065\n"
          ]
        },
        {
          "output_type": "stream",
          "name": "stderr",
          "text": [
            "  1%|▏         | 15/1034 [00:06<07:10,  2.37it/s, loss=19.2]"
          ]
        }
      ],
      "source": [
        "for epoch in range(50):\n",
        "\n",
        "    mean_loss = []\n",
        "    loop = tqdm(train_loader, leave=True)\n",
        "\n",
        "    for batch_idx, (x, y) in enumerate(loop):\n",
        "\n",
        "        x, y = x.to(DEVICE), y.to(DEVICE)\n",
        "        out = model(x)\n",
        "\n",
        "        loss = YoloLoss(7,2,20,out, y)\n",
        "\n",
        "        mean_loss.append(loss.item())\n",
        "\n",
        "        optimizer.zero_grad()\n",
        "        loss.backward()\n",
        "        optimizer.step()\n",
        "\n",
        "        # update progress bar\n",
        "        loop.set_postfix(loss=loss.item())\n",
        "\n",
        "    print(f\"Mean loss was {sum(mean_loss)/len(mean_loss)}\")"
      ]
    },
    {
      "cell_type": "markdown",
      "metadata": {
        "id": "JTnjYUWL3O_V"
      },
      "source": [
        "# **Inference**"
      ]
    },
    {
      "cell_type": "code",
      "source": [
        "from CV.object_detection.yolo_v1.nms import non_max_suppression\n",
        "from CV.object_detection.yolo_v1.infer import (plot_image, cellboxes_to_boxes)"
      ],
      "metadata": {
        "id": "iGWwdL5rNCpy"
      },
      "execution_count": null,
      "outputs": []
    },
    {
      "cell_type": "code",
      "source": [
        "# since I did not have a huge compute i did not train the model for a long time and hence it will not perform well on test dataset,\n",
        "# hence to visualize we will perform testing on 10 train dataset images itself !!\n",
        "\n",
        "count = 0\n",
        "\n",
        "for im, _ in train_loader:\n",
        "\n",
        "  if count <=10:\n",
        "\n",
        "    # sending image to cuda\n",
        "    im = im.to(DEVICE)\n",
        "\n",
        "    for idx in range(1):\n",
        "\n",
        "      # passing input to trained model to get output\n",
        "      predictions = model(x)\n",
        "\n",
        "      # converting bounding boxes from grid coordinates to original pixel coordinates\n",
        "      bboxes = cellboxes_to_boxes(predictions)\n",
        "\n",
        "      # performing nms\n",
        "      bboxes = non_max_suppression(bboxes[idx], iou_threshold=0.5, threshold=0.4, box_format=\"midpoint\")\n",
        "\n",
        "      # visualizing predictions\n",
        "      plot_image(im[idx].permute(1,2,0).to(\"cpu\"), bboxes)\n",
        "\n",
        "      count += 1\n",
        "\n",
        "  else :\n",
        "    break"
      ],
      "metadata": {
        "id": "P3mYRZ_ANEPC"
      },
      "execution_count": null,
      "outputs": []
    }
  ],
  "metadata": {
    "colab": {
      "provenance": [],
      "gpuType": "T4"
    },
    "language_info": {
      "name": "python"
    },
    "kernelspec": {
      "name": "python3",
      "display_name": "Python 3"
    },
    "accelerator": "GPU"
  },
  "nbformat": 4,
  "nbformat_minor": 0
}