{
  "cells": [
    {
      "cell_type": "markdown",
      "metadata": {
        "id": "WrWH1r30GMyX"
      },
      "source": [
        "[![Open In Colab](https://colab.research.google.com/assets/colab-badge.svg)](https://colab.research.google.com/github/khetansarvesh/CV/blob/main/object_detection/yolo_v1/runner.ipynb)"
      ]
    },
    {
      "cell_type": "code",
      "execution_count": null,
      "metadata": {
        "id": "uv6MODjPhfUo"
      },
      "outputs": [],
      "source": [
        "!git clone https://github.com/khetansarvesh/CV.git"
      ]
    },
    {
      "cell_type": "code",
      "execution_count": null,
      "metadata": {
        "id": "mneFPA6eGMya"
      },
      "outputs": [],
      "source": [
        "import os\n",
        "import csv\n",
        "from tqdm import tqdm\n",
        "\n",
        "# pytorch library\n",
        "import torch\n",
        "import torchvision.transforms as transforms\n",
        "import torchvision.transforms.functional as FT\n",
        "from torch.utils.data import DataLoader\n",
        "import torch.nn as nn\n",
        "import torchvision\n",
        "\n",
        "# custom library\n",
        "from CV.object_detection.yolo_v1.utils import *"
      ]
    },
    {
      "cell_type": "code",
      "execution_count": null,
      "metadata": {
        "id": "CliDqx3YGMyb"
      },
      "outputs": [],
      "source": [
        "DEVICE = \"cuda\" if torch.cuda.is_available else \"cpu\"\n",
        "print(DEVICE)"
      ]
    },
    {
      "cell_type": "markdown",
      "metadata": {
        "id": "tGgs22ETGMyb"
      },
      "source": [
        "# **Dataset**"
      ]
    },
    {
      "cell_type": "code",
      "execution_count": null,
      "metadata": {
        "id": "OmtxEQLGhfUq"
      },
      "outputs": [],
      "source": [
        "# GETTING VOC2007 TRAIN DATASET and EXTRACTING TAR FILES\n",
        "!wget http://host.robots.ox.ac.uk/pascal/VOC/voc2007/VOCtrainval_06-Nov-2007.tar\n",
        "!tar xf VOCtrainval_06-Nov-2007.tar\n",
        "\n",
        "# GETTING VOC2012 TRAIN DATASET and EXTRACTING TAR FILES\n",
        "!wget http://host.robots.ox.ac.uk/pascal/VOC/voc2012/VOCtrainval_11-May-2012.tar\n",
        "!tar xf VOCtrainval_11-May-2012.tar\n",
        "\n",
        "# GETTING VOC2007 TEST DATASET and EXTRACTING TAR FILES\n",
        "!wget http://host.robots.ox.ac.uk/pascal/VOC/voc2007/VOCtest_06-Nov-2007.tar #\n",
        "!tar xf VOCtest_06-Nov-2007.tar\n",
        "\n",
        "# Gettting the images location for 2007 (both train and test) and 2012 (only train) in txt files\n",
        "!wget https://pjreddie.com/media/files/voc_label.py\n",
        "!python voc_label.py"
      ]
    },
    {
      "cell_type": "code",
      "execution_count": null,
      "metadata": {
        "id": "73WtDcFShfUq"
      },
      "outputs": [],
      "source": [
        "# creating a new folder data which will contain all the images and labels\n",
        "!mkdir data\n",
        "!mkdir data/images\n",
        "!mkdir data/labels\n",
        "\n",
        "!mv VOCdevkit/VOC2007/JPEGImages/*.jpg data/images/\n",
        "!mv VOCdevkit/VOC2012/JPEGImages/*.jpg data/images/\n",
        "!mv VOCdevkit/VOC2007/labels/*.txt data/labels/\n",
        "!mv VOCdevkit/VOC2012/labels/*.txt data/labels/"
      ]
    },
    {
      "cell_type": "markdown",
      "metadata": {
        "id": "meFxnzZrhfUq"
      },
      "source": [
        "Creating Training Dataset"
      ]
    },
    {
      "cell_type": "code",
      "execution_count": null,
      "metadata": {
        "id": "ML0XDNZwhfUr"
      },
      "outputs": [],
      "source": [
        "# training data will consist of 2007_train + 2007_val + 2012_train + 2012_val, concatenating all of these and storing in train.txt\n",
        "!cat 2007_train.txt 2007_val.txt 2012_*.txt > train.txt\n",
        "\n",
        "# converting this traing.txt file to csv file\n",
        "read_train = open(\"train.txt\", \"r\").readlines()\n",
        "with open(\"train.csv\", mode=\"w\", newline=\"\") as train_file:\n",
        "    for line in read_train:\n",
        "        image_file = line.split(\"/\")[-1].replace(\"\\n\", \"\")\n",
        "        text_file = image_file.replace(\".jpg\", \".txt\")\n",
        "        data = [image_file, text_file]\n",
        "        writer = csv.writer(train_file)\n",
        "        writer.writerow(data)"
      ]
    },
    {
      "cell_type": "code",
      "execution_count": null,
      "metadata": {
        "id": "0SnTgT8vhfUr"
      },
      "outputs": [],
      "source": [
        "from CV.object_detection.yolo_v1.dataset import VOCDataset\n",
        "train_dataset = VOCDataset(\"train.csv\", img_dir=\"data/images\", label_dir=\"data/labels\")\n",
        "\n",
        "# creating training dataloader\n",
        "train_loader = DataLoader(\n",
        "    dataset=train_dataset,\n",
        "    batch_size=16,\n",
        "    num_workers=2,\n",
        "    pin_memory=True,\n",
        "    shuffle=True,\n",
        "    drop_last=True)"
      ]
    },
    {
      "cell_type": "markdown",
      "metadata": {
        "id": "HvXbVR-qhfUr"
      },
      "source": [
        "Creating Testing Dataset"
      ]
    },
    {
      "cell_type": "code",
      "execution_count": null,
      "metadata": {
        "id": "X6rovjtNhfUr"
      },
      "outputs": [],
      "source": [
        "# testing data will consist of 2007_test\n",
        "!cp 2007_test.txt test.txt\n",
        "\n",
        "# converting this test.txt file to csv file\n",
        "read_train = open(\"test.txt\", \"r\").readlines()\n",
        "with open(\"test.csv\", mode=\"w\", newline=\"\") as train_file:\n",
        "    for line in read_train:\n",
        "        image_file = line.split(\"/\")[-1].replace(\"\\n\", \"\")\n",
        "        text_file = image_file.replace(\".jpg\", \".txt\")\n",
        "        data = [image_file, text_file]\n",
        "        writer = csv.writer(train_file)\n",
        "        writer.writerow(data)"
      ]
    },
    {
      "cell_type": "code",
      "execution_count": null,
      "metadata": {
        "id": "dtsA0xLdhfUr"
      },
      "outputs": [],
      "source": [
        "# testing dataset\n",
        "test_dataset = VOCDataset(\"test.csv\", img_dir=\"data/images\", label_dir=\"data/labels\")\n",
        "\n",
        "test_loader = DataLoader(\n",
        "    dataset=test_dataset,\n",
        "    batch_size=16,\n",
        "    num_workers=2,\n",
        "    pin_memory=True,\n",
        "    shuffle=True,\n",
        "    drop_last=True)"
      ]
    },
    {
      "cell_type": "markdown",
      "metadata": {
        "id": "zoSkOBhThfUr"
      },
      "source": [
        "Cleaning Up to save some ram space"
      ]
    },
    {
      "cell_type": "code",
      "execution_count": null,
      "metadata": {
        "id": "POeJVIX3hfUr"
      },
      "outputs": [],
      "source": [
        "! rm 2007* 2012* *.txt *.tar *.py\n",
        "! rm -rf VOCdevkit/"
      ]
    },
    {
      "cell_type": "markdown",
      "metadata": {
        "id": "xkKjigIqGMyd"
      },
      "source": [
        "# **Modelling**"
      ]
    },
    {
      "cell_type": "code",
      "execution_count": null,
      "metadata": {
        "id": "W0mOtUVihfUr"
      },
      "outputs": [],
      "source": [
        "class YOLOV1(nn.Module):\n",
        "\n",
        "    def __init__(self):\n",
        "        super(YOLOV1, self).__init__()\n",
        "\n",
        "        backbone = torchvision.models.resnet34(weights=torchvision.models.ResNet34_Weights.IMAGENET1K_V1)\n",
        "        self.features = nn.Sequential(\n",
        "            backbone.conv1,\n",
        "            backbone.bn1,\n",
        "            backbone.relu,\n",
        "            backbone.maxpool,\n",
        "            backbone.layer1,\n",
        "            backbone.layer2,\n",
        "            backbone.layer3,\n",
        "            backbone.layer4,\n",
        "        )\n",
        "\n",
        "\n",
        "        self.conv_yolo_layers = nn.Sequential(\n",
        "            nn.Conv2d(512, 1024, 3, padding=1, bias=False), nn.BatchNorm2d(1024), nn.LeakyReLU(0.1), #512 cause resnet gives 512 channel output\n",
        "            nn.Conv2d(1024, 1024, 3, stride=2, padding=1, bias=False), nn.BatchNorm2d(1024), nn.LeakyReLU(0.1),\n",
        "            nn.Conv2d(1024, 1024, 3, padding=1, bias=False),nn.BatchNorm2d(1024),nn.LeakyReLU(0.1),\n",
        "            nn.Conv2d(1024, 1024, 3, padding=1, bias=False),nn.BatchNorm2d(1024),nn.LeakyReLU(0.1)\n",
        "            )\n",
        "\n",
        "        self.fc_yolo_layers = nn.Sequential(\n",
        "            nn.Flatten(),\n",
        "            nn.Linear(7 * 7 * 1024, 4096),\n",
        "            nn.LeakyReLU(0.1),\n",
        "            nn.Dropout(0.5),\n",
        "            nn.Linear(4096, 7 * 7 * (5 * 2 + 20)),\n",
        "        )\n",
        "        # instead of this you could have also used a 1*1 convolution layer as follows\n",
        "        # self.fc_yolo_layers = nn.Sequential( nn.Conv2d(1024, 5 * self.B + self.C, 1))\n",
        "\n",
        "    def forward(self, x):\n",
        "        out = self.features(x)\n",
        "        out = self.conv_yolo_layers(out)\n",
        "        out = self.fc_yolo_layers(out)\n",
        "        return out"
      ]
    },
    {
      "cell_type": "code",
      "execution_count": null,
      "metadata": {
        "id": "_ounD6kLhfUs"
      },
      "outputs": [],
      "source": [
        "class YOLOV1(nn.Module):\n",
        "\n",
        "    def __init__(self):\n",
        "        super(YOLOV1, self).__init__()\n",
        "\n",
        "        S = 7\n",
        "        C = 20\n",
        "        B = 2\n",
        "\n",
        "\n",
        "        self.darknet = nn.Sequential(\n",
        "\n",
        "        nn.Conv2d(3, 64, kernel_size=7, stride=2, padding=3, bias=False), nn.BatchNorm2d(64), nn.LeakyReLU(0.1),\n",
        "        nn.MaxPool2d(kernel_size=(2, 2), stride=(2, 2)),\n",
        "\n",
        "        nn.Conv2d(64, 192, kernel_size=3, stride=1, padding=1, bias=False), nn.BatchNorm2d(192), nn.LeakyReLU(0.1),\n",
        "        nn.MaxPool2d(kernel_size=(2, 2), stride=(2, 2)),\n",
        "\n",
        "        nn.Conv2d(192, 128, kernel_size=1, stride=1, padding=0, bias=False), nn.BatchNorm2d(128), nn.LeakyReLU(0.1),\n",
        "        nn.Conv2d(128, 256, kernel_size=3, stride=1, padding=1, bias=False), nn.BatchNorm2d(256), nn.LeakyReLU(0.1),\n",
        "        nn.Conv2d(256, 256, kernel_size=1, stride=1, padding=0, bias=False), nn.BatchNorm2d(256), nn.LeakyReLU(0.1),\n",
        "        nn.Conv2d(256, 512, kernel_size=3, stride=1, padding=1, bias=False), nn.BatchNorm2d(512), nn.LeakyReLU(0.1),\n",
        "        nn.MaxPool2d(kernel_size=(2, 2), stride=(2, 2)),\n",
        "\n",
        "        nn.Conv2d(512, 256, kernel_size=1, stride=1, padding=0, bias=False), nn.BatchNorm2d(256), nn.LeakyReLU(0.1),\n",
        "        nn.Conv2d(256, 512, kernel_size=3, stride=1, padding=1, bias=False), nn.BatchNorm2d(512), nn.LeakyReLU(0.1),\n",
        "        nn.Conv2d(512, 256, kernel_size=1, stride=1, padding=0, bias=False), nn.BatchNorm2d(256), nn.LeakyReLU(0.1),\n",
        "        nn.Conv2d(256, 512, kernel_size=3, stride=1, padding=1, bias=False), nn.BatchNorm2d(512), nn.LeakyReLU(0.1),\n",
        "        nn.Conv2d(512, 256, kernel_size=1, stride=1, padding=0, bias=False), nn.BatchNorm2d(256), nn.LeakyReLU(0.1),\n",
        "        nn.Conv2d(256, 512, kernel_size=3, stride=1, padding=1, bias=False), nn.BatchNorm2d(512), nn.LeakyReLU(0.1),\n",
        "        nn.Conv2d(512, 256, kernel_size=1, stride=1, padding=0, bias=False), nn.BatchNorm2d(256), nn.LeakyReLU(0.1),\n",
        "        nn.Conv2d(256, 512, kernel_size=3, stride=1, padding=1, bias=False), nn.BatchNorm2d(512), nn.LeakyReLU(0.1),\n",
        "        nn.Conv2d(512, 512, kernel_size=1, stride=1, padding=0, bias=False), nn.BatchNorm2d(512), nn.LeakyReLU(0.1),\n",
        "        nn.Conv2d(512, 1024, kernel_size=3, stride=1, padding=1, bias=False), nn.BatchNorm2d(1024), nn.LeakyReLU(0.1),\n",
        "        nn.MaxPool2d(kernel_size=(2, 2), stride=(2, 2)),\n",
        "\n",
        "        nn.Conv2d(1024, 512, kernel_size=1, stride=1, padding=0, bias=False), nn.BatchNorm2d(512), nn.LeakyReLU(0.1),\n",
        "        nn.Conv2d(512, 1024, kernel_size=3, stride=1, padding=1, bias=False), nn.BatchNorm2d(1024), nn.LeakyReLU(0.1),\n",
        "        nn.Conv2d(1024, 512, kernel_size=1, stride=1, padding=0, bias=False), nn.BatchNorm2d(512), nn.LeakyReLU(0.1),\n",
        "        nn.Conv2d(512, 1024, kernel_size=3, stride=1, padding=1, bias=False), nn.BatchNorm2d(1024), nn.LeakyReLU(0.1),\n",
        "\n",
        "\n",
        "        nn.Conv2d(1024, 1024, kernel_size=3, stride=1, padding=1, bias=False), nn.BatchNorm2d(1024), nn.LeakyReLU(0.1),\n",
        "        nn.Conv2d(1024, 1024, kernel_size=3, stride=2, padding=1, bias=False), nn.BatchNorm2d(1024), nn.LeakyReLU(0.1),\n",
        "        nn.Conv2d(1024, 1024, kernel_size=3, stride=1, padding=1, bias=False), nn.BatchNorm2d(1024), nn.LeakyReLU(0.1),\n",
        "        nn.Conv2d(1024, 1024, kernel_size=3, stride=1, padding=1, bias=False), nn.BatchNorm2d(1024), nn.LeakyReLU(0.1),\n",
        "        )\n",
        "\n",
        "        self.fcs = nn.Sequential(\n",
        "            nn.Flatten(),\n",
        "            nn.Linear(1024 * S * S, 4096),\n",
        "            nn.Dropout(0.0),\n",
        "            nn.LeakyReLU(0.1),\n",
        "            nn.Linear(4096, S * S * (C + B * 5)),\n",
        "        )\n",
        "\n",
        "    def forward(self, x):\n",
        "        x = self.darknet(x)\n",
        "        x = torch.flatten(x, start_dim=1)\n",
        "        x = self.fcs(x)\n",
        "        return x"
      ]
    },
    {
      "cell_type": "code",
      "execution_count": null,
      "metadata": {
        "id": "7M7QDQ2gGMyd"
      },
      "outputs": [],
      "source": [
        "model = YOLOV1().to(DEVICE)"
      ]
    },
    {
      "cell_type": "markdown",
      "metadata": {
        "id": "_Y3bz2nWGMyd"
      },
      "source": [
        "# **Training**"
      ]
    },
    {
      "cell_type": "code",
      "execution_count": null,
      "metadata": {
        "id": "8aStmmwEhfUs"
      },
      "outputs": [],
      "source": [
        "# Setting Seed\n",
        "seed = 123\n",
        "torch.manual_seed(seed)\n",
        "\n",
        "# Setting Optimizer\n",
        "import torch.optim as optim\n",
        "optimizer = optim.Adam(model.parameters(), lr=2e-5, weight_decay=0)"
      ]
    },
    {
      "cell_type": "code",
      "execution_count": null,
      "metadata": {
        "id": "WQaeNZ4LhfUs"
      },
      "outputs": [],
      "source": [
        "def YoloLoss(S, B, C, predictions, target):\n",
        "\n",
        "    mse = nn.MSELoss(reduction=\"sum\")\n",
        "\n",
        "    # predictions are shaped (BATCH_SIZE, S*S(C+B*5) when inputted\n",
        "    predictions = predictions.reshape(-1, S, S, C + B * 5)\n",
        "\n",
        "\n",
        "\n",
        "    '''\n",
        "    # ======================== #\n",
        "    # Calculating which predicted bounding box has max IOU wrt the target bounding box    #\n",
        "    # ======================== #\n",
        "\n",
        "    '''\n",
        "    # calculating IOU between predicted bounding box 1 and target bounding box\n",
        "    iou_b1 = intersection_over_union(predictions[..., 21:25], target[..., 21:25])\n",
        "\n",
        "    # calculating IOU between predicted bounding box 2 and target bounding box\n",
        "    iou_b2 = intersection_over_union(predictions[..., 26:30], target[..., 21:25])\n",
        "\n",
        "    # concatenating the two IOUs\n",
        "    ious = torch.cat([iou_b1.unsqueeze(0), iou_b2.unsqueeze(0)], dim=0)\n",
        "\n",
        "\n",
        "    # Take the box with highest IoU out of the two prediction => Note that bestbox will be indices of 0, 1 for which bbox was best\n",
        "    iou_maxes, bestbox = torch.max(ious, dim=0)\n",
        "    exists_box = target[..., 20].unsqueeze(3)  # in paper this is Iobj_i\n",
        "\n",
        "\n",
        "\n",
        "    '''\n",
        "    # ======================== #\n",
        "    #    BOX COORDINATE LOSS    #\n",
        "    # ======================== #\n",
        "    '''\n",
        "    # Set boxes with no object in them to 0. We only take out one of the two predictions, which is the one with highest Iou calculated previously.\n",
        "    box_predictions = exists_box * ((bestbox * predictions[..., 26:30] + (1 - bestbox) * predictions[..., 21:25]))\n",
        "    box_targets = exists_box * target[..., 21:25]\n",
        "\n",
        "    # Take sqrt of width, height in predicted bounding box\n",
        "    box_predictions[..., 2:4] = torch.sign(box_predictions[..., 2:4]) * torch.sqrt(torch.abs(box_predictions[..., 2:4] + 1e-6))\n",
        "\n",
        "    # Take sqrt of width, height in actual bounding box\n",
        "    box_targets[..., 2:4] = torch.sqrt(box_targets[..., 2:4])\n",
        "\n",
        "    # loss value\n",
        "    box_loss = mse(torch.flatten(box_predictions, end_dim=-2),torch.flatten(box_targets, end_dim=-2),)\n",
        "\n",
        "\n",
        "\n",
        "    '''\n",
        "    # ==================== #\n",
        "    #    OBJECT LOSS    #\n",
        "    # ==================== #\n",
        "    '''\n",
        "    pred_box = (bestbox * predictions[..., 25:26] + (1 - bestbox) * predictions[..., 20:21])\n",
        "    object_loss = mse(torch.flatten(exists_box * pred_box),torch.flatten(exists_box * target[..., 20:21]),)\n",
        "\n",
        "\n",
        "\n",
        "    '''\n",
        "    # ======================= #\n",
        "    #    NO OBJECT LOSS    #\n",
        "    # ======================= #\n",
        "    '''\n",
        "    no_object_loss = mse(torch.flatten((1 - exists_box) * predictions[..., 20:21], start_dim=1), torch.flatten((1 - exists_box) * target[..., 20:21], start_dim=1),)\n",
        "    no_object_loss += mse(torch.flatten((1 - exists_box) * predictions[..., 25:26], start_dim=1),torch.flatten((1 - exists_box) * target[..., 20:21], start_dim=1))\n",
        "\n",
        "\n",
        "\n",
        "    '''\n",
        "    # ================== #\n",
        "    #    CLASS LOSS   #\n",
        "    # ================== #\n",
        "    '''\n",
        "    class_loss = mse(torch.flatten(exists_box * predictions[..., :20], end_dim=-2,), torch.flatten(exists_box * target[..., :20], end_dim=-2,),)\n",
        "\n",
        "\n",
        "    return 5 * box_loss + object_loss + 0.5 * no_object_loss + class_loss"
      ]
    },
    {
      "cell_type": "code",
      "execution_count": null,
      "metadata": {
        "id": "wL9tkBhJGMyd"
      },
      "outputs": [],
      "source": [
        "for epoch in range(1000):\n",
        "    # for x, y in train_loader:\n",
        "    #    x = x.to(DEVICE)\n",
        "    #    for idx in range(8):\n",
        "    #        bboxes = cellboxes_to_boxes(model(x))\n",
        "    #        bboxes = non_max_suppression(bboxes[idx], iou_threshold=0.5, threshold=0.4, box_format=\"midpoint\")\n",
        "    #        plot_image(x[idx].permute(1,2,0).to(\"cpu\"), bboxes)\n",
        "\n",
        "    #    import sys\n",
        "    #    sys.exit()\n",
        "\n",
        "    pred_boxes, target_boxes = get_bboxes(train_loader, model, iou_threshold=0.5, threshold=0.4)\n",
        "    mean_avg_prec = mean_average_precision(pred_boxes, target_boxes, iou_threshold=0.5, box_format=\"midpoint\")\n",
        "    print(f\"Train mAP: {mean_avg_prec}\")\n",
        "\n",
        "    loop = tqdm(train_loader, leave=True)\n",
        "    mean_loss = []\n",
        "\n",
        "    for batch_idx, (x, y) in enumerate(loop):\n",
        "        x, y = x.to(DEVICE), y.to(DEVICE)\n",
        "        out = model(x)\n",
        "        loss = YoloLoss(7,2,20,out, y)\n",
        "        mean_loss.append(loss.item())\n",
        "        optimizer.zero_grad()\n",
        "        loss.backward()\n",
        "        optimizer.step()\n",
        "\n",
        "        # update progress bar\n",
        "        loop.set_postfix(loss=loss.item())\n",
        "\n",
        "    print(f\"Mean loss was {sum(mean_loss)/len(mean_loss)}\")"
      ]
    }
  ],
  "metadata": {
    "colab": {
      "provenance": []
    },
    "language_info": {
      "name": "python"
    }
  },
  "nbformat": 4,
  "nbformat_minor": 0
}