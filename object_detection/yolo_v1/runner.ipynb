{
 "cells": [
  {
   "cell_type": "markdown",
   "metadata": {
    "id": "WrWH1r30GMyX"
   },
   "source": [
    "[![Open In Colab](https://colab.research.google.com/assets/colab-badge.svg)](https://colab.research.google.com/github/khetansarvesh/CV/blob/main/object_detection/yolo_v1/runner.ipynb)"
   ]
  },
  {
   "cell_type": "code",
   "execution_count": null,
   "metadata": {
    "id": "uv6MODjPhfUo"
   },
   "outputs": [],
   "source": [
    "!git clone https://github.com/khetansarvesh/CV.git"
   ]
  },
  {
   "cell_type": "code",
   "execution_count": null,
   "metadata": {
    "id": "mneFPA6eGMya"
   },
   "outputs": [],
   "source": [
    "import os\n",
    "import csv\n",
    "from tqdm import tqdm\n",
    "\n",
    "# pytorch library\n",
    "import torch\n",
    "import torchvision.transforms as transforms\n",
    "import torchvision.transforms.functional as FT\n",
    "from torch.utils.data import DataLoader\n",
    "import torch.nn as nn\n",
    "import torchvision"
   ]
  },
  {
   "cell_type": "code",
   "execution_count": null,
   "metadata": {
    "id": "CliDqx3YGMyb"
   },
   "outputs": [],
   "source": [
    "DEVICE = \"cuda\" if torch.cuda.is_available else \"cpu\"\n",
    "print(DEVICE)"
   ]
  },
  {
   "cell_type": "markdown",
   "metadata": {
    "id": "tGgs22ETGMyb"
   },
   "source": [
    "# **Dataset**"
   ]
  },
  {
   "cell_type": "code",
   "execution_count": null,
   "metadata": {
    "id": "OmtxEQLGhfUq"
   },
   "outputs": [],
   "source": [
    "# GETTING VOC2007 TRAIN DATASET and EXTRACTING TAR FILES\n",
    "!wget http://host.robots.ox.ac.uk/pascal/VOC/voc2007/VOCtrainval_06-Nov-2007.tar\n",
    "!tar xf VOCtrainval_06-Nov-2007.tar\n",
    "\n",
    "# GETTING VOC2012 TRAIN DATASET and EXTRACTING TAR FILES\n",
    "!wget http://host.robots.ox.ac.uk/pascal/VOC/voc2012/VOCtrainval_11-May-2012.tar\n",
    "!tar xf VOCtrainval_11-May-2012.tar\n",
    "\n",
    "# GETTING VOC2007 TEST DATASET and EXTRACTING TAR FILES\n",
    "!wget http://host.robots.ox.ac.uk/pascal/VOC/voc2007/VOCtest_06-Nov-2007.tar #\n",
    "!tar xf VOCtest_06-Nov-2007.tar\n",
    "\n",
    "# Gettting the images location for 2007 (both train and test) and 2012 (only train) in txt files\n",
    "!wget https://pjreddie.com/media/files/voc_label.py\n",
    "!python voc_label.py"
   ]
  },
  {
   "cell_type": "code",
   "execution_count": null,
   "metadata": {
    "id": "73WtDcFShfUq"
   },
   "outputs": [],
   "source": [
    "# creating a new folder data which will contain all the images and labels\n",
    "!mkdir data\n",
    "!mkdir data/images\n",
    "!mkdir data/labels\n",
    "\n",
    "!mv VOCdevkit/VOC2007/JPEGImages/*.jpg data/images/\n",
    "!mv VOCdevkit/VOC2012/JPEGImages/*.jpg data/images/\n",
    "!mv VOCdevkit/VOC2007/labels/*.txt data/labels/\n",
    "!mv VOCdevkit/VOC2012/labels/*.txt data/labels/"
   ]
  },
  {
   "cell_type": "markdown",
   "metadata": {
    "id": "meFxnzZrhfUq"
   },
   "source": [
    "Creating Training Dataset"
   ]
  },
  {
   "cell_type": "code",
   "execution_count": null,
   "metadata": {
    "id": "ML0XDNZwhfUr"
   },
   "outputs": [],
   "source": [
    "# training data will consist of 2007_train + 2007_val + 2012_train + 2012_val, concatenating all of these and storing in train.txt\n",
    "!cat 2007_train.txt 2007_val.txt 2012_*.txt > train.txt\n",
    "\n",
    "# converting this traing.txt file to csv file\n",
    "read_train = open(\"train.txt\", \"r\").readlines()\n",
    "with open(\"train.csv\", mode=\"w\", newline=\"\") as train_file:\n",
    "    for line in read_train:\n",
    "        image_file = line.split(\"/\")[-1].replace(\"\\n\", \"\")\n",
    "        text_file = image_file.replace(\".jpg\", \".txt\")\n",
    "        data = [image_file, text_file]\n",
    "        writer = csv.writer(train_file)\n",
    "        writer.writerow(data)"
   ]
  },
  {
   "cell_type": "code",
   "execution_count": null,
   "metadata": {
    "id": "0SnTgT8vhfUr"
   },
   "outputs": [],
   "source": [
    "from CV.object_detection.yolo_v1.dataset import VOCDataset\n",
    "train_dataset = VOCDataset(\"train.csv\", img_dir=\"data/images\", label_dir=\"data/labels\")\n",
    "\n",
    "# creating training dataloader\n",
    "train_loader = DataLoader(\n",
    "    dataset=train_dataset,\n",
    "    batch_size=16,\n",
    "    num_workers=2,\n",
    "    pin_memory=True,\n",
    "    shuffle=True,\n",
    "    drop_last=True)"
   ]
  },
  {
   "cell_type": "markdown",
   "metadata": {
    "id": "HvXbVR-qhfUr"
   },
   "source": [
    "Creating Testing Dataset"
   ]
  },
  {
   "cell_type": "code",
   "execution_count": null,
   "metadata": {
    "id": "X6rovjtNhfUr"
   },
   "outputs": [],
   "source": [
    "# testing data will consist of 2007_test\n",
    "!cp 2007_test.txt test.txt\n",
    "\n",
    "# converting this test.txt file to csv file\n",
    "read_train = open(\"test.txt\", \"r\").readlines()\n",
    "with open(\"test.csv\", mode=\"w\", newline=\"\") as train_file:\n",
    "    for line in read_train:\n",
    "        image_file = line.split(\"/\")[-1].replace(\"\\n\", \"\")\n",
    "        text_file = image_file.replace(\".jpg\", \".txt\")\n",
    "        data = [image_file, text_file]\n",
    "        writer = csv.writer(train_file)\n",
    "        writer.writerow(data)"
   ]
  },
  {
   "cell_type": "code",
   "execution_count": null,
   "metadata": {
    "id": "dtsA0xLdhfUr"
   },
   "outputs": [],
   "source": [
    "# testing dataset\n",
    "test_dataset = VOCDataset(\"test.csv\", img_dir=\"data/images\", label_dir=\"data/labels\")\n",
    "\n",
    "test_loader = DataLoader(\n",
    "    dataset=test_dataset,\n",
    "    batch_size=16,\n",
    "    num_workers=2,\n",
    "    pin_memory=True,\n",
    "    shuffle=True,\n",
    "    drop_last=True)"
   ]
  },
  {
   "cell_type": "markdown",
   "metadata": {
    "id": "zoSkOBhThfUr"
   },
   "source": [
    "Cleaning Up to save some ram space"
   ]
  },
  {
   "cell_type": "code",
   "execution_count": null,
   "metadata": {
    "id": "POeJVIX3hfUr"
   },
   "outputs": [],
   "source": [
    "! rm 2007* 2012* *.txt *.tar *.py\n",
    "! rm -rf VOCdevkit/"
   ]
  },
  {
   "cell_type": "markdown",
   "metadata": {
    "id": "xkKjigIqGMyd"
   },
   "source": [
    "# **Modelling**"
   ]
  },
  {
   "cell_type": "code",
   "execution_count": null,
   "metadata": {
    "id": "W0mOtUVihfUr"
   },
   "outputs": [],
   "source": [
    "class YOLOV1(nn.Module):\n",
    "\n",
    "    def __init__(self):\n",
    "        super(YOLOV1, self).__init__()\n",
    "\n",
    "        backbone = torchvision.models.resnet34(weights=torchvision.models.ResNet34_Weights.IMAGENET1K_V1)\n",
    "        self.features = nn.Sequential(\n",
    "            backbone.conv1,\n",
    "            backbone.bn1,\n",
    "            backbone.relu,\n",
    "            backbone.maxpool,\n",
    "            backbone.layer1,\n",
    "            backbone.layer2,\n",
    "            backbone.layer3,\n",
    "            backbone.layer4,\n",
    "        )\n",
    "\n",
    "\n",
    "        self.conv_yolo_layers = nn.Sequential(\n",
    "            nn.Conv2d(512, 1024, 3, padding=1, bias=False), nn.BatchNorm2d(1024), nn.LeakyReLU(0.1), #512 cause resnet gives 512 channel output\n",
    "            nn.Conv2d(1024, 1024, 3, stride=2, padding=1, bias=False), nn.BatchNorm2d(1024), nn.LeakyReLU(0.1),\n",
    "            nn.Conv2d(1024, 1024, 3, padding=1, bias=False),nn.BatchNorm2d(1024),nn.LeakyReLU(0.1),\n",
    "            nn.Conv2d(1024, 1024, 3, padding=1, bias=False),nn.BatchNorm2d(1024),nn.LeakyReLU(0.1)\n",
    "            )\n",
    "\n",
    "        self.fc_yolo_layers = nn.Sequential(\n",
    "            nn.Flatten(),\n",
    "            nn.Linear(7 * 7 * 1024, 4096),\n",
    "            nn.LeakyReLU(0.1),\n",
    "            nn.Dropout(0.5),\n",
    "            nn.Linear(4096, 7 * 7 * (5 * 2 + 20)),\n",
    "        )\n",
    "        # instead of this you could have also used a 1*1 convolution layer as follows\n",
    "        # self.fc_yolo_layers = nn.Sequential( nn.Conv2d(1024, 5 * self.B + self.C, 1))\n",
    "\n",
    "    def forward(self, x):\n",
    "        out = self.features(x)\n",
    "        out = self.conv_yolo_layers(out)\n",
    "        out = self.fc_yolo_layers(out)\n",
    "        return out"
   ]
  },
  {
   "cell_type": "code",
   "execution_count": null,
   "metadata": {
    "id": "_ounD6kLhfUs"
   },
   "outputs": [],
   "source": [
    "class YOLOV1(nn.Module):\n",
    "\n",
    "    def __init__(self):\n",
    "        super(YOLOV1, self).__init__()\n",
    "\n",
    "        S = 7\n",
    "        C = 20\n",
    "        B = 2\n",
    "\n",
    "\n",
    "        self.darknet = nn.Sequential(\n",
    "\n",
    "        nn.Conv2d(3, 64, kernel_size=7, stride=2, padding=3, bias=False), nn.BatchNorm2d(64), nn.LeakyReLU(0.1),\n",
    "        nn.MaxPool2d(kernel_size=(2, 2), stride=(2, 2)),\n",
    "\n",
    "        nn.Conv2d(64, 192, kernel_size=3, stride=1, padding=1, bias=False), nn.BatchNorm2d(192), nn.LeakyReLU(0.1),\n",
    "        nn.MaxPool2d(kernel_size=(2, 2), stride=(2, 2)),\n",
    "\n",
    "        nn.Conv2d(192, 128, kernel_size=1, stride=1, padding=0, bias=False), nn.BatchNorm2d(128), nn.LeakyReLU(0.1),\n",
    "        nn.Conv2d(128, 256, kernel_size=3, stride=1, padding=1, bias=False), nn.BatchNorm2d(256), nn.LeakyReLU(0.1),\n",
    "        nn.Conv2d(256, 256, kernel_size=1, stride=1, padding=0, bias=False), nn.BatchNorm2d(256), nn.LeakyReLU(0.1),\n",
    "        nn.Conv2d(256, 512, kernel_size=3, stride=1, padding=1, bias=False), nn.BatchNorm2d(512), nn.LeakyReLU(0.1),\n",
    "        nn.MaxPool2d(kernel_size=(2, 2), stride=(2, 2)),\n",
    "\n",
    "        nn.Conv2d(512, 256, kernel_size=1, stride=1, padding=0, bias=False), nn.BatchNorm2d(256), nn.LeakyReLU(0.1),\n",
    "        nn.Conv2d(256, 512, kernel_size=3, stride=1, padding=1, bias=False), nn.BatchNorm2d(512), nn.LeakyReLU(0.1),\n",
    "        nn.Conv2d(512, 256, kernel_size=1, stride=1, padding=0, bias=False), nn.BatchNorm2d(256), nn.LeakyReLU(0.1),\n",
    "        nn.Conv2d(256, 512, kernel_size=3, stride=1, padding=1, bias=False), nn.BatchNorm2d(512), nn.LeakyReLU(0.1),\n",
    "        nn.Conv2d(512, 256, kernel_size=1, stride=1, padding=0, bias=False), nn.BatchNorm2d(256), nn.LeakyReLU(0.1),\n",
    "        nn.Conv2d(256, 512, kernel_size=3, stride=1, padding=1, bias=False), nn.BatchNorm2d(512), nn.LeakyReLU(0.1),\n",
    "        nn.Conv2d(512, 256, kernel_size=1, stride=1, padding=0, bias=False), nn.BatchNorm2d(256), nn.LeakyReLU(0.1),\n",
    "        nn.Conv2d(256, 512, kernel_size=3, stride=1, padding=1, bias=False), nn.BatchNorm2d(512), nn.LeakyReLU(0.1),\n",
    "        nn.Conv2d(512, 512, kernel_size=1, stride=1, padding=0, bias=False), nn.BatchNorm2d(512), nn.LeakyReLU(0.1),\n",
    "        nn.Conv2d(512, 1024, kernel_size=3, stride=1, padding=1, bias=False), nn.BatchNorm2d(1024), nn.LeakyReLU(0.1),\n",
    "        nn.MaxPool2d(kernel_size=(2, 2), stride=(2, 2)),\n",
    "\n",
    "        nn.Conv2d(1024, 512, kernel_size=1, stride=1, padding=0, bias=False), nn.BatchNorm2d(512), nn.LeakyReLU(0.1),\n",
    "        nn.Conv2d(512, 1024, kernel_size=3, stride=1, padding=1, bias=False), nn.BatchNorm2d(1024), nn.LeakyReLU(0.1),\n",
    "        nn.Conv2d(1024, 512, kernel_size=1, stride=1, padding=0, bias=False), nn.BatchNorm2d(512), nn.LeakyReLU(0.1),\n",
    "        nn.Conv2d(512, 1024, kernel_size=3, stride=1, padding=1, bias=False), nn.BatchNorm2d(1024), nn.LeakyReLU(0.1),\n",
    "\n",
    "\n",
    "        nn.Conv2d(1024, 1024, kernel_size=3, stride=1, padding=1, bias=False), nn.BatchNorm2d(1024), nn.LeakyReLU(0.1),\n",
    "        nn.Conv2d(1024, 1024, kernel_size=3, stride=2, padding=1, bias=False), nn.BatchNorm2d(1024), nn.LeakyReLU(0.1),\n",
    "        nn.Conv2d(1024, 1024, kernel_size=3, stride=1, padding=1, bias=False), nn.BatchNorm2d(1024), nn.LeakyReLU(0.1),\n",
    "        nn.Conv2d(1024, 1024, kernel_size=3, stride=1, padding=1, bias=False), nn.BatchNorm2d(1024), nn.LeakyReLU(0.1),\n",
    "        )\n",
    "\n",
    "        self.fcs = nn.Sequential(\n",
    "            nn.Flatten(),\n",
    "            nn.Linear(1024 * S * S, 4096),\n",
    "            nn.Dropout(0.0),\n",
    "            nn.LeakyReLU(0.1),\n",
    "            nn.Linear(4096, S * S * (C + B * 5)),\n",
    "        )\n",
    "\n",
    "    def forward(self, x):\n",
    "        x = self.darknet(x)\n",
    "        x = torch.flatten(x, start_dim=1)\n",
    "        x = self.fcs(x)\n",
    "        return x"
   ]
  },
  {
   "cell_type": "code",
   "execution_count": null,
   "metadata": {
    "id": "7M7QDQ2gGMyd"
   },
   "outputs": [],
   "source": [
    "model = YOLOV1().to(DEVICE)"
   ]
  },
  {
   "cell_type": "markdown",
   "metadata": {
    "id": "_Y3bz2nWGMyd"
   },
   "source": [
    "# **Training**"
   ]
  },
  {
   "cell_type": "code",
   "execution_count": null,
   "metadata": {
    "id": "8aStmmwEhfUs"
   },
   "outputs": [],
   "source": [
    "# import dependies\n",
    "from CV.object_detection.yolo_v1.loss import YoloLoss\n",
    "from CV.object_detection.yolo_v1.mean_avg_precision import mean_average_precision\n",
    "from CV.object_detection.yolo_v1.nms import non_max_suppression\n",
    "from CV.object_detection.yolo_v1.utils import (plot_image, convert_cellboxes, cellboxes_to_boxes)\n",
    "\n",
    "# Setting Seed\n",
    "seed = 123\n",
    "torch.manual_seed(seed)\n",
    "\n",
    "# Setting Optimizer\n",
    "import torch.optim as optim\n",
    "optimizer = optim.Adam(model.parameters(), lr=2e-5, weight_decay=0)"
   ]
  },
  {
   "cell_type": "code",
   "execution_count": null,
   "metadata": {},
   "outputs": [],
   "source": [
    "# def get_bboxes(loader, model, iou_threshold, threshold, pred_format=\"cells\", box_format=\"midpoint\", device=\"cuda\",):\n",
    "#     all_pred_boxes = []\n",
    "#     all_true_boxes = []\n",
    "\n",
    "#     # make sure model is in eval before get bboxes\n",
    "#     model.eval()\n",
    "#     train_idx = 0\n",
    "\n",
    "#     for batch_idx, (x, labels) in enumerate(loader):\n",
    "#         x = x.to(device)\n",
    "#         labels = labels.to(device)\n",
    "\n",
    "#         with torch.no_grad():\n",
    "#             predictions = model(x)\n",
    "\n",
    "#         batch_size = x.shape[0]\n",
    "#         true_bboxes = cellboxes_to_boxes(labels)\n",
    "#         bboxes = cellboxes_to_boxes(predictions)\n",
    "\n",
    "#         for idx in range(batch_size):\n",
    "#             nms_boxes = non_max_suppression(\n",
    "#                 bboxes[idx],\n",
    "#                 iou_threshold=iou_threshold,\n",
    "#                 threshold=threshold,\n",
    "#                 box_format=box_format,\n",
    "#             )\n",
    "\n",
    "\n",
    "#             #if batch_idx == 0 and idx == 0:\n",
    "#             #    plot_image(x[idx].permute(1,2,0).to(\"cpu\"), nms_boxes)\n",
    "#             #    print(nms_boxes)\n",
    "\n",
    "#             for nms_box in nms_boxes:\n",
    "#                 all_pred_boxes.append([train_idx] + nms_box)\n",
    "\n",
    "#             for box in true_bboxes[idx]:\n",
    "#                 # many will get converted to 0 pred\n",
    "#                 if box[1] > threshold:\n",
    "#                     all_true_boxes.append([train_idx] + box)\n",
    "\n",
    "#             train_idx += 1\n",
    "\n",
    "#     model.train()\n",
    "#     return all_pred_boxes, all_true_boxes"
   ]
  },
  {
   "cell_type": "code",
   "execution_count": null,
   "metadata": {
    "id": "wL9tkBhJGMyd"
   },
   "outputs": [],
   "source": [
    "for epoch in range(1000):\n",
    "\n",
    "    #pred_boxes, target_boxes = get_bboxes(train_loader, model, iou_threshold=0.5, threshold=0.4)\n",
    "    #mean_avg_prec = mean_average_precision(pred_boxes, target_boxes, iou_threshold=0.5, box_format=\"midpoint\")\n",
    "    #print(f\"Train mAP: {mean_avg_prec}\")\n",
    "\n",
    "    mean_loss = []\n",
    "    loop = tqdm(train_loader, leave=True)\n",
    "\n",
    "    for batch_idx, (x, y) in enumerate(loop):\n",
    "\n",
    "        x, y = x.to(DEVICE), y.to(DEVICE)\n",
    "        out = model(x)\n",
    "\n",
    "        loss = YoloLoss(7,2,20,out, y)\n",
    "\n",
    "        mean_loss.append(loss.item())\n",
    "\n",
    "        optimizer.zero_grad()\n",
    "        loss.backward()\n",
    "        optimizer.step()\n",
    "\n",
    "        # update progress bar\n",
    "        loop.set_postfix(loss=loss.item())\n",
    "\n",
    "    print(f\"Mean loss was {sum(mean_loss)/len(mean_loss)}\")"
   ]
  },
  {
   "cell_type": "code",
   "execution_count": null,
   "metadata": {},
   "outputs": [],
   "source": [
    "\n",
    "def save_checkpoint(state, filename=\"my_checkpoint.pth.tar\"):\n",
    "    print(\"=> Saving checkpoint\")\n",
    "    torch.save(state, filename)\n",
    "\n",
    "\n",
    "def load_checkpoint(checkpoint, model, optimizer):\n",
    "    print(\"=> Loading checkpoint\")\n",
    "    model.load_state_dict(checkpoint[\"state_dict\"])\n",
    "    optimizer.load_state_dict(checkpoint[\"optimizer\"])\n"
   ]
  },
  {
   "cell_type": "markdown",
   "metadata": {},
   "source": [
    "# Inference"
   ]
  }
 ],
 "metadata": {
  "colab": {
   "provenance": []
  },
  "language_info": {
   "name": "python"
  }
 },
 "nbformat": 4,
 "nbformat_minor": 0
}
